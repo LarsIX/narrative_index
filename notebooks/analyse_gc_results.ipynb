{
 "cells": [
  {
   "cell_type": "markdown",
   "id": "cda8ae5a",
   "metadata": {},
   "source": [
    "Notebook used to inspect results of Granger Causality analysis"
   ]
  },
  {
   "cell_type": "code",
   "execution_count": 1,
   "id": "a384acae",
   "metadata": {},
   "outputs": [],
   "source": [
    "import pandas as pd\n",
    "import numpy as np\n",
    "import seaborn as sns\n",
    "import matplotlib.pyplot as plt\n",
    "from pathlib import Path\n",
    "import math\n",
    "import sys\n",
    "from pathlib import Path\n",
    "\n",
    "# Get the project root: notebooks/AI_narrative_index\n",
    "root_dir = Path.cwd().parent\n",
    "\n",
    "# Add src/scripts to the Python modules search path\n",
    "sys.path.append(str(root_dir / \"src\" / \"scripts\"))\n",
    "\n",
    "# import custom functions\n",
    "#rom plot_granger_causality import plot_aini_lags_by_year, plot_aini_lags_for_year"
   ]
  },
  {
   "cell_type": "code",
   "execution_count": 3,
   "id": "d6d4f724",
   "metadata": {},
   "outputs": [
    {
     "data": {
      "text/plain": [
       "Index(['Ticker', 'AINI_variant', 'Year', 'Direction', 'A2R_beta_const',\n",
       "       'A2R_beta_ret_lag1', 'A2R_beta_x_lag1', 'A2R_beta_x_lag2',\n",
       "       'A2R_beta_x_lag3', 'p_x', 'N_obs', 'N_boot', 'N_boot_valid', 'F_stat',\n",
       "       'df_num', 'df_den', 'Original_F_pval', 'Empirical_F_pval', 'r2_u',\n",
       "       'adj_r2_u', 'R2A_beta_const', 'R2A_beta_x_lag1', 'R2A_beta_x_lag2',\n",
       "       'R2A_beta_x_lag3', 'R2A_beta_ret_lag1', 'BH_reject_F', 'BH_corr_F_pval',\n",
       "       'BH_reject_F_HC3', 'BH_corr_F_pval_HC3'],\n",
       "      dtype='object')"
      ]
     },
     "execution_count": 3,
     "metadata": {},
     "output_type": "execute_result"
    }
   ],
   "source": [
    "# Get the project root: notebooks/AI_narrative_index\n",
    "root_dir = Path.cwd().parent\n",
    "\n",
    "# set variable path\n",
    "var_path = root_dir / \"data\" / \"processed\" / \"variables\"\n",
    "\n",
    "# load data for aini -> return\n",
    "gc_c = pd.read_csv(var_path / \"granger_causality_binary.csv\")\n",
    "gc_w0 = pd.read_csv(var_path / \"granger_causality_w0.csv\")\n",
    "gc_w1 = pd.read_csv(var_path / \"granger_causality_w1.csv\")\n",
    "gc_w2 = pd.read_csv(var_path / \"granger_causality_w2.csv\")\n",
    "\n",
    "# define table path\n",
    "table_path = root_dir / \"reports\" / \"tables\"\n",
    "\n",
    "# Export as HTML for online appendix\n",
    "#aini_to_ret_w1_df.to_html(table_path / \"gc_bootstrap_F_all_lags_groupwise_AINI_to_return_3class_w1.html\", index=False)\n",
    "gc_w1.columns"
   ]
  },
  {
   "cell_type": "code",
   "execution_count": null,
   "id": "5d5bbecf",
   "metadata": {},
   "outputs": [],
   "source": [
    "# subset for p > 0.9\n",
    "alpha = 0.05\n",
    "\n",
    "gc_c_sub = gc_c[\n",
    "    (gc_c[\"BH_corr_F_pval\"] < alpha) | (gc_c[\"BH_corr_F_pval_HC3\"] < alpha)\n",
    "].copy()\n",
    "\n",
    "gc_w0_sub = gc_w0[\n",
    "    (gc_w0[\"BH_corr_F_pval\"] < alpha) | (gc_w0[\"BH_corr_F_pval_HC3\"] < alpha)\n",
    "].copy()\n",
    "\n",
    "gc_w1_sub = gc_w1[\n",
    "    (gc_w1[\"BH_corr_F_pval\"] < alpha) | (gc_w1[\"BH_corr_F_pval_HC3\"] < alpha)\n",
    "].copy()\n",
    "\n",
    "gc_w2_sub = gc_w2[\n",
    "    (gc_w2[\"BH_corr_F_pval\"] < alpha) | (gc_w2[\"BH_corr_F_pval_HC3\"] < alpha)\n",
    "].copy()\n",
    "gc_w1_sub"
   ]
  },
  {
   "cell_type": "code",
   "execution_count": null,
   "id": "a75da52d",
   "metadata": {},
   "outputs": [],
   "source": [
    "# construct subsets for thesis\n",
    "gc_table_cols = [\"Ticker\", \"AINI_variant\", \"Year\",\"coef_x1\",\"coef_x1\",\"Empirical_F_p\",\"BH_corr_F\"]\n",
    "test_table_cols = [\"Ticker\", \"AINI_variant\", \"Year\",\"coef_x1\",\"coef_x1\",\"Empirical_F_p\",\"BH_corr_F\"]"
   ]
  },
  {
   "cell_type": "markdown",
   "id": "cfbd66e4",
   "metadata": {},
   "source": [
    "Inspect results "
   ]
  },
  {
   "cell_type": "code",
   "execution_count": null,
   "id": "c228d11e",
   "metadata": {},
   "outputs": [],
   "source": [
    "aini_to_ret_w1_df_sub.columns"
   ]
  },
  {
   "cell_type": "markdown",
   "id": "8b4a4786",
   "metadata": {},
   "source": [
    "Create reporting tables for thesis"
   ]
  },
  {
   "cell_type": "code",
   "execution_count": null,
   "id": "832eaea7",
   "metadata": {},
   "outputs": [],
   "source": [
    "# --- Find best AIC/BIC per (Ticker, Variable, Year) ---\n",
    "idx_best_aic = gc_df_sign.groupby([\"Ticker\", \"Variable\", \"Year\"])[\"AIC\"].idxmin()\n",
    "idx_best_bic = gc_df_sign.groupby([\"Ticker\", \"Variable\", \"Year\"])[\"BIC\"].idxmin()\n",
    "\n",
    "gc_df_sign[\"best_aic_ticker_variable_year\"] = gc_df_sign.index.isin(idx_best_aic)\n",
    "gc_df_sign[\"best_bic_ticker_variable_year\"] = gc_df_sign.index.isin(idx_best_bic)\n",
    "\n",
    "# --- Find best AIC/BIC per (Ticker, Year) only (aggregate across all variables) ---\n",
    "idx_best_aic_ty = gc_df_sign.groupby([\"Ticker\", \"Year\"])[\"AIC\"].idxmin()\n",
    "idx_best_bic_ty = gc_df_sign.groupby([\"Ticker\", \"Year\"])[\"BIC\"].idxmin()\n",
    "\n",
    "gc_df_sign[\"best_aic_ticker_year\"] = gc_df_sign.index.isin(idx_best_aic_ty)\n",
    "gc_df_sign[\"best_bic_ticker_year\"] = gc_df_sign.index.isin(idx_best_bic_ty)\n",
    "\n",
    "# --- Identify all p-value columns of AINI lags (excluding constant/intercept) ---\n",
    "aini_p_cols = [col for col in gc_df_sign.columns if col.startswith(\"p_\") and \"const\" not in col]\n",
    "\n",
    "# --- Filter 1: best AIC or BIC by (Ticker, Variable, Year) + significant AINI lag ---\n",
    "gc_df_best_tv_y = gc_df_sign[\n",
    "    (gc_df_sign[\"best_aic_ticker_variable_year\"] | gc_df_sign[\"best_bic_ticker_variable_year\"]) &\n",
    "    (gc_df_sign[aini_p_cols] < 0.05).any(axis=1)\n",
    "]\n",
    "\n",
    "# --- Filter 2: best AIC or BIC by (Ticker, Year) + significant AINI lag ---\n",
    "gc_df_best_t_y = gc_df_sign[\n",
    "    (gc_df_sign[\"best_aic_ticker_year\"] | gc_df_sign[\"best_bic_ticker_year\"]) &\n",
    "    (gc_df_sign[aini_p_cols] < 0.05).any(axis=1)\n",
    "]\n",
    "\n",
    "# --- Export Filter 1 (ticker-variable-year) to HTML/CSV ---\n",
    "gc_df_best_tv_y.to_html(\n",
    "    table_path / \"granger_causality_best_aic_or_bic_ticker_variable_year.html\", na_rep=''\n",
    ")\n",
    "\n",
    "# --- Export Filter 2 (ticker-year) to HTML/CSV ---\n",
    "gc_df_best_t_y.to_html(\n",
    "    table_path / \"granger_causality_best_aic_or_bic_ticker_year.html\", na_rep=''\n",
    ")\n",
    "gc_df_best_t_y.to_csv(\n",
    "    var_path / \"granger_causality_best_aic_or_bic_ticker_year.csv\", index=False\n",
    ")\n",
    "\n",
    "# Optional preview\n",
    "gc_df_best_t_y\n"
   ]
  },
  {
   "cell_type": "markdown",
   "id": "1e9c533d",
   "metadata": {},
   "source": [
    "re-perform Granger Causality analysis to include t-stats for lowest AIC/BIC variables"
   ]
  },
  {
   "cell_type": "code",
   "execution_count": null,
   "id": "8ecef8db",
   "metadata": {},
   "outputs": [],
   "source": [
    "# group by year\n",
    "gc_df_index = gc_df.set_index('Year')\n",
    "gc_df.columns\n",
    "gc_df_sort"
   ]
  },
  {
   "cell_type": "code",
   "execution_count": null,
   "id": "4d23465d",
   "metadata": {},
   "outputs": [],
   "source": [
    "# plot for different betas\n",
    "lag_list = [f't-{i}' for i in range(1,21)]\n",
    "for lag in lag_list:\n",
    "    plot_aini_lags_by_year(gc_df_index, lag = lag)"
   ]
  },
  {
   "cell_type": "code",
   "execution_count": null,
   "id": "d6261248",
   "metadata": {},
   "outputs": [],
   "source": [
    "for Year in set(gc_df.Year.values):\n",
    "    plot_aini_lags_for_year(gc_df, Year)"
   ]
  }
 ],
 "metadata": {
  "kernelspec": {
   "display_name": "Python 3",
   "language": "python",
   "name": "python3"
  },
  "language_info": {
   "codemirror_mode": {
    "name": "ipython",
    "version": 3
   },
   "file_extension": ".py",
   "mimetype": "text/x-python",
   "name": "python",
   "nbconvert_exporter": "python",
   "pygments_lexer": "ipython3",
   "version": "3.10.0"
  }
 },
 "nbformat": 4,
 "nbformat_minor": 5
}
