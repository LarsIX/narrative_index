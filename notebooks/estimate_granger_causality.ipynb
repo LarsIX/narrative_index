{
 "cells": [
  {
   "cell_type": "markdown",
   "id": "0fd3c54b",
   "metadata": {},
   "source": [
    "Notebook used to estimate Granger Causality between AINI variables and log returns."
   ]
  },
  {
   "cell_type": "code",
   "execution_count": null,
   "id": "0c588d1a",
   "metadata": {},
   "outputs": [],
   "source": [
    "import pandas as pd\n",
    "import numpy as np\n",
    "import sys\n",
    "from pathlib import Path\n",
    "\n",
    "# Get the project root: notebooks/AI_narrative_index\n",
    "project_root = Path.cwd().parent\n",
    "\n",
    "# Add src/scripts & modelling to the Python modules search path\n",
    "sys.path.append(str(project_root / \"src\" / \"scripts\"))\n",
    "sys.path.append(str(project_root / \"src\" / \"modelling\"))\n",
    "\n",
    "# import custom functions\n",
    "from granger_causality import  estimate_bootstraped_gc"
   ]
  },
  {
   "cell_type": "markdown",
   "id": "564f7538",
   "metadata": {},
   "source": [
    "Calculate Granger Causality and Transfer entropy for binary ( O / 1) AINI"
   ]
  },
  {
   "cell_type": "markdown",
   "id": "912f17c2",
   "metadata": {},
   "source": [
    "load & verify data"
   ]
  },
  {
   "cell_type": "code",
   "execution_count": null,
   "id": "4d037945",
   "metadata": {},
   "outputs": [],
   "source": [
    " # get variables path\n",
    "var_path = project_root / \"data\" / \"processed\" / \"variables\" \n",
    "\n",
    "# get financial data path\n",
    "fin_path = project_root / \"data\" / \"raw\" / \"financial\" \n",
    "\n",
    "# load financial data\n",
    "fin_data = pd.read_csv(fin_path / \"full_daily_2023_2025.csv\")\n",
    "\n",
    "# load AINI predictions (0 to 1 index)\n",
    "aini_data = pd.read_csv(var_path / \"binary_AINI_variables.csv\")\n"
   ]
  },
  {
   "cell_type": "markdown",
   "id": "8d845358",
   "metadata": {},
   "source": [
    "create log returns"
   ]
  },
  {
   "cell_type": "code",
   "execution_count": null,
   "id": "2c7efe1c",
   "metadata": {},
   "outputs": [],
   "source": [
    "# ensure sorting\n",
    "fin_data['Date'] = pd.to_datetime(fin_data['Date'])\n",
    "fin_data = fin_data.sort_values(['Ticker', 'Date'])\n",
    "\n",
    "# Calculate log returns by Ticker\n",
    "fin_data['LogReturn'] = fin_data.groupby('Ticker')['Adj Close'].transform(lambda x: np.log(x) - np.log(x.shift(1)))\n",
    "fin_data = fin_data.dropna(subset=['LogReturn'])\n",
    "\n",
    "# create distinct df of log_returns & ticker\n",
    "ticker_dfs = {}\n",
    "fin_data"
   ]
  },
  {
   "cell_type": "code",
   "execution_count": null,
   "id": "d48cc1b9",
   "metadata": {},
   "outputs": [],
   "source": [
    "# verify financial data\n",
    "print(fin_data.head())\n",
    "print(fin_data.isna().any())\n",
    "\n",
    "# verify AINI data\n",
    "print(aini_data.head())\n",
    "print(aini_data.isna().any())"
   ]
  },
  {
   "cell_type": "markdown",
   "id": "00c98929",
   "metadata": {},
   "source": [
    "Create subsets for different periods"
   ]
  },
  {
   "cell_type": "code",
   "execution_count": null,
   "id": "01c8f6cd",
   "metadata": {},
   "outputs": [],
   "source": [
    "# Ensure both columns are datetime\n",
    "fin_data['Date'] = pd.to_datetime(fin_data['Date'])\n",
    "aini_data['date'] = pd.to_datetime(aini_data['date'])\n",
    "\n",
    "# Define thresholds\n",
    "threshold_23 = pd.Timestamp('2023-12-31')\n",
    "threshold_24 = pd.Timestamp('2024-01-01')\n",
    "threshold_25 = pd.Timestamp('2025-01-01')\n",
    "\n",
    "# Filter data by year\n",
    "fin_data_23 = fin_data[fin_data['Date'] < threshold_24]\n",
    "fin_data_24 = fin_data[(fin_data['Date'] > threshold_23) & (fin_data['Date'] < threshold_25)]\n",
    "fin_data_25 = fin_data[fin_data['Date'] >= threshold_25]\n",
    "\n",
    "# overlapping\n",
    "fin_data_23_24 = fin_data[fin_data['Date'] <= threshold_25]\n",
    "fin_data_24_25 = fin_data[fin_data['Date'] > threshold_23]\n",
    "fin_data_23_24\n",
    "\n",
    "fin_data_by_year = {\n",
    "    2023: fin_data_23,\n",
    "    2024: fin_data_24,\n",
    "    2025: fin_data_25,\n",
    "    \"2023_24\": fin_data_23_24,\n",
    "    \"2024_25\": fin_data_24_25,\n",
    "    \"2023_24_25\": fin_data  \n",
    "}"
   ]
  },
  {
   "cell_type": "markdown",
   "id": "d1c3b23a",
   "metadata": {},
   "source": [
    "Estimate Grancger Causality and reverse Granger Causality between AINI variables & Stocks / ETFs"
   ]
  },
  {
   "cell_type": "code",
   "execution_count": null,
   "id": "e3f1b86d",
   "metadata": {},
   "outputs": [],
   "source": [
    "# estimate bootstrapped gc\n",
    "gc_df_normal = estimate_bootstraped_gc(\n",
    "    aini_data=aini_data,\n",
    "    aini_variants=None,\n",
    "    fin_data_by_year=fin_data_by_year,\n",
    "    lag_range=range(1, 3),\n",
    "    n_bootstrap=1000,\n",
    "    alpha=0.05\n",
    "    )\n",
    "\n",
    "# estimate bootstrapped gc\n",
    "gc_df_reverse = estimate_bootstraped_gc(\n",
    "    aini_data=aini_data,\n",
    "    aini_variants=None,\n",
    "    fin_data_by_year=fin_data_by_year,\n",
    "    lag_range=range(1, 4),\n",
    "    n_bootstrap=1000,\n",
    "    alpha=0.05,\n",
    "    reverse = True\n",
    "    )\n",
    "\n",
    "gc_df_normal"
   ]
  },
  {
   "cell_type": "markdown",
   "id": "8f855a99",
   "metadata": {},
   "source": [
    "Estimate Granger Causality for polarity AINI with windowsize (w) = 1"
   ]
  },
  {
   "cell_type": "code",
   "execution_count": null,
   "id": "fef3d096",
   "metadata": {},
   "outputs": [],
   "source": [
    "# Get notebook's parent file location \n",
    "project_root = Path().resolve().parents[0] \n",
    "\n",
    "# get reports path for figures (see below)\n",
    "fig_path = project_root / \"reports\" / \"figures\" \n",
    "\n",
    "# get variables path\n",
    "var_path = project_root / \"data\" / \"processed\" / \"variables\" \n",
    "\n",
    "# get financial data path\n",
    "fin_path = project_root / \"data\" / \"raw\" / \"financial\" \n",
    "\n",
    "# load financial data\n",
    "fin_data = pd.read_csv(fin_path / \"full_daily_2023_2025.csv\")\n",
    "\n",
    "# load AINI predictions\n",
    "aini_data_w1 = pd.read_csv(var_path / \"w1_AINI_variables.csv\")\n"
   ]
  },
  {
   "cell_type": "code",
   "execution_count": null,
   "id": "e9190cef",
   "metadata": {},
   "outputs": [],
   "source": [
    "# ensure sorting\n",
    "fin_data['Date'] = pd.to_datetime(fin_data['Date'])\n",
    "fin_data = fin_data.sort_values(['Ticker', 'Date'])\n",
    "\n",
    "# Calculate log returns by Ticker\n",
    "fin_data['LogReturn'] = fin_data.groupby('Ticker')['Adj Close'].transform(lambda x: np.log(x) - np.log(x.shift(1)))\n",
    "fin_data = fin_data.dropna(subset=['LogReturn'])\n",
    "\n",
    "# create distinct df of log_returns & ticker\n",
    "ticker_dfs = {}\n",
    "\n",
    "# Ensure both columns are datetime\n",
    "fin_data['Date'] = pd.to_datetime(fin_data['Date'])\n",
    "aini_data_w1['date'] = pd.to_datetime(aini_data_w1['date'])\n",
    "\n",
    "# Define thresholds\n",
    "threshold_23 = pd.Timestamp('2023-12-31')\n",
    "threshold_24 = pd.Timestamp('2024-01-01')\n",
    "threshold_25 = pd.Timestamp('2025-01-01')\n",
    "\n",
    "# Filter data by year\n",
    "fin_data_23 = fin_data[fin_data['Date'] < threshold_24]\n",
    "fin_data_24 = fin_data[(fin_data['Date'] > threshold_23) & (fin_data['Date'] < threshold_25)]\n",
    "fin_data_25 = fin_data[fin_data['Date'] >= threshold_25]\n",
    "\n",
    "# overlapping\n",
    "fin_data_23_24 = fin_data[fin_data['Date'] <= threshold_25]\n",
    "fin_data_24_25 = fin_data[fin_data['Date'] > threshold_23]\n",
    "fin_data_23_24\n",
    "\n",
    "fin_data_by_year = {\n",
    "    2023: fin_data_23,\n",
    "    2024: fin_data_24,\n",
    "    2025: fin_data_25,\n",
    "    \"2023_24\": fin_data_23_24,\n",
    "    \"2024_25\": fin_data_24_25,\n",
    "    \"2023_24_25\": fin_data  \n",
    "}\n",
    "\n"
   ]
  },
  {
   "cell_type": "code",
   "execution_count": null,
   "id": "7cf9e49f",
   "metadata": {},
   "outputs": [],
   "source": [
    "all_te_results = []\n",
    "\n",
    "# estimate bootstrapped gc\n",
    "gc_df_normal = estimate_bootstraped_gc(\n",
    "    aini_data=aini_data_w1,\n",
    "    aini_variants=None,\n",
    "    fin_data_by_year=fin_data_by_year,\n",
    "    lag_range=range(1, 3),\n",
    "    n_bootstrap=10000,\n",
    "    alpha=0.05,\n",
    "    window = 1\n",
    "\n",
    "    )\n",
    "\n",
    "# estimate bootstrapped gc\n",
    "gc_df_reverse = estimate_bootstraped_gc(\n",
    "    aini_data=aini_data_w1,\n",
    "    aini_variants=None,\n",
    "    fin_data_by_year=fin_data_by_year,\n",
    "    lag_range=range(1, 3),\n",
    "    n_bootstrap=1000,\n",
    "    alpha=0.05,\n",
    "    reverse = True,\n",
    "    window = 1\n",
    "    )\n",
    "\n",
    "gc_df_reverse"
   ]
  },
  {
   "cell_type": "markdown",
   "id": "aa480746",
   "metadata": {},
   "source": [
    "Estimate Granger Causality for polarity AINI with windowsize (w) = 2"
   ]
  },
  {
   "cell_type": "code",
   "execution_count": null,
   "id": "05eeab9b",
   "metadata": {},
   "outputs": [],
   "source": [
    "# Get notebook's parent file location \n",
    "project_root = Path().resolve().parents[0] \n",
    "\n",
    "# get reports path for figures (see below)\n",
    "fig_path = project_root / \"reports\" / \"figures\" \n",
    "\n",
    "# get variables path\n",
    "var_path = project_root / \"data\" / \"processed\" / \"variables\" \n",
    "\n",
    "# get financial data path\n",
    "fin_path = project_root / \"data\" / \"raw\" / \"financial\" \n",
    "\n",
    "# load financial data\n",
    "fin_data = pd.read_csv(fin_path / \"full_daily_2023_2025.csv\")\n",
    "\n",
    "# load AINI predictions\n",
    "aini_data_w2 = pd.read_csv(var_path / \"w2_AINI_variables.csv\")"
   ]
  },
  {
   "cell_type": "code",
   "execution_count": null,
   "id": "6a995ad0",
   "metadata": {},
   "outputs": [],
   "source": [
    "# ensure sorting\n",
    "fin_data['Date'] = pd.to_datetime(fin_data['Date'])\n",
    "fin_data = fin_data.sort_values(['Ticker', 'Date'])\n",
    "\n",
    "# Calculate log returns by Ticker\n",
    "fin_data['LogReturn'] = fin_data.groupby('Ticker')['Adj Close'].transform(lambda x: np.log(x) - np.log(x.shift(1)))\n",
    "fin_data = fin_data.dropna(subset=['LogReturn'])\n",
    "\n",
    "# create distinct df of log_returns & ticker\n",
    "ticker_dfs = {}\n",
    "\n",
    "# Ensure both columns are datetime\n",
    "fin_data['Date'] = pd.to_datetime(fin_data['Date'])\n",
    "aini_data_w2['date'] = pd.to_datetime(aini_data_w2['date'])\n",
    "\n",
    "# Define thresholds\n",
    "threshold_23 = pd.Timestamp('2023-12-31')\n",
    "threshold_24 = pd.Timestamp('2024-01-01')\n",
    "threshold_25 = pd.Timestamp('2025-01-01')\n",
    "\n",
    "# Filter data by year\n",
    "fin_data_23 = fin_data[fin_data['Date'] < threshold_24]\n",
    "fin_data_24 = fin_data[(fin_data['Date'] > threshold_23) & (fin_data['Date'] < threshold_25)]\n",
    "fin_data_25 = fin_data[fin_data['Date'] >= threshold_25]\n",
    "\n",
    "# overlapping\n",
    "fin_data_23_24 = fin_data[fin_data['Date'] <= threshold_25]\n",
    "fin_data_24_25 = fin_data[fin_data['Date'] > threshold_23]\n",
    "fin_data_23_24\n",
    "\n",
    "fin_data_by_year = {\n",
    "    2023: fin_data_23,\n",
    "    2024: fin_data_24,\n",
    "    2025: fin_data_25,\n",
    "    \"2023_24\": fin_data_23_24,\n",
    "    \"2024_25\": fin_data_24_25,\n",
    "    \"2023_24_25\": fin_data  \n",
    "}"
   ]
  },
  {
   "cell_type": "code",
   "execution_count": null,
   "id": "af122546",
   "metadata": {},
   "outputs": [],
   "source": [
    "# estimate bootstrapped gc\n",
    "gc_df_normal = estimate_bootstraped_gc(\n",
    "    aini_data=aini_data_w2,\n",
    "    aini_variants=None,\n",
    "    fin_data_by_year=fin_data_by_year,\n",
    "    lag_range=range(1, 3),\n",
    "    n_bootstrap=10000,\n",
    "    alpha=0.05,\n",
    "    window = 2\n",
    "\n",
    "    )\n",
    "\n",
    "# estimate bootstrapped gc\n",
    "gc_df_reverse = estimate_bootstraped_gc(\n",
    "    aini_data=aini_data_w2,\n",
    "    aini_variants=None,\n",
    "    fin_data_by_year=fin_data_by_year,\n",
    "    lag_range=range(1, 3),\n",
    "    n_bootstrap=10000,\n",
    "    alpha=0.05,\n",
    "    reverse = True,\n",
    "    window = 2\n",
    "    )\n",
    "gc_df_normal"
   ]
  }
 ],
 "metadata": {
  "kernelspec": {
   "display_name": ".venv",
   "language": "python",
   "name": "python3"
  },
  "language_info": {
   "codemirror_mode": {
    "name": "ipython",
    "version": 3
   },
   "file_extension": ".py",
   "mimetype": "text/x-python",
   "name": "python",
   "nbconvert_exporter": "python",
   "pygments_lexer": "ipython3",
   "version": "3.10.0"
  }
 },
 "nbformat": 4,
 "nbformat_minor": 5
}
