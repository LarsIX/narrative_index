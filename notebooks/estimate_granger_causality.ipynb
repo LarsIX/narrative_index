{
 "cells": [
  {
   "cell_type": "markdown",
   "id": "0fd3c54b",
   "metadata": {},
   "source": [
    "Notebook used to estimate Granger Causality between AINI variables and log returns."
   ]
  },
  {
   "cell_type": "code",
   "execution_count": null,
   "id": "0c588d1a",
   "metadata": {},
   "outputs": [],
   "source": [
    "import pandas as pd\n",
    "import numpy as np\n",
    "import sys\n",
    "from pathlib import Path\n",
    "\n",
    "# Get the project root: notebooks/AI_narrative_index\n",
    "project_root = Path.cwd().parent\n",
    "\n",
    "# Add src/scripts & modelling to the Python modules search path\n",
    "sys.path.append(str(project_root / \"src\" / \"scripts\"))\n",
    "sys.path.append(str(project_root / \"src\" / \"modelling\"))\n",
    "\n",
    "# import custom functions\n",
    "from estimate_granger_causality import  run_gc_mbboot_fdr\n",
    "from estimate_OLS import run_sameday_ols_mbboot_fdr"
   ]
  },
  {
   "cell_type": "markdown",
   "id": "564f7538",
   "metadata": {},
   "source": [
    "Calculate Granger Causality and Transfer entropy for binary ( O / 1) AINI"
   ]
  },
  {
   "cell_type": "markdown",
   "id": "912f17c2",
   "metadata": {},
   "source": [
    "load & verify data"
   ]
  },
  {
   "cell_type": "code",
   "execution_count": null,
   "id": "4d037945",
   "metadata": {},
   "outputs": [],
   "source": [
    " # get variables path\n",
    "var_path = project_root / \"data\" / \"processed\" / \"variables\" \n",
    "\n",
    "# get financial data path\n",
    "fin_path = project_root / \"data\" / \"raw\" / \"financial\" \n",
    "\n",
    "# load financial data\n",
    "fin_data = pd.read_csv(fin_path / \"full_daily_2023_2025.csv\")\n",
    "\n",
    "# load AINI predictions\n",
    "aini_data_w0 = pd.read_csv(var_path / \"w0_AINI_variables.csv\")\n",
    "aini_data_w1 = pd.read_csv(var_path / \"w0_AINI_variables.csv\")\n",
    "aini_data_w2 = pd.read_csv(var_path / \"w0_AINI_variables.csv\")\n",
    "aini_data_binary = pd.read_csv(var_path / \"binary_AINI_variables.csv\")\n"
   ]
  },
  {
   "cell_type": "markdown",
   "id": "8d845358",
   "metadata": {},
   "source": [
    "create log returns"
   ]
  },
  {
   "cell_type": "markdown",
   "id": "00c98929",
   "metadata": {},
   "source": [
    "Create subsets for different periods"
   ]
  },
  {
   "cell_type": "code",
   "execution_count": null,
   "id": "01c8f6cd",
   "metadata": {},
   "outputs": [],
   "source": [
    "fin_data = pd.read_csv(fin_path / \"full_daily_2023_2025.csv\")\n",
    "\n",
    "# Ensure columns are datetime\n",
    "fin_data['date'] = pd.to_datetime(fin_data['Date'])\n",
    "\n",
    "# Define thresholds\n",
    "threshold_23 = pd.Timestamp('2023-12-31')\n",
    "threshold_24 = pd.Timestamp('2024-01-01')\n",
    "threshold_25 = pd.Timestamp('2025-01-01')\n",
    "\n",
    "# Filter data by year\n",
    "fin_data_23 = fin_data[fin_data['date'] < threshold_24]\n",
    "fin_data_24 = fin_data[(fin_data['date'] > threshold_23) & (fin_data['date'] < threshold_25)]\n",
    "fin_data_25 = fin_data[fin_data['date'] >= threshold_25]\n",
    "\n",
    "# overlapping\n",
    "fin_data_23_24 = fin_data[fin_data['date'] <= threshold_25]\n",
    "fin_data_24_25 = fin_data[fin_data['date'] > threshold_23]\n",
    "fin_data_23_24\n",
    "\n",
    "fin_data_by_year = {\n",
    "    2023: fin_data_23,\n",
    "    2024: fin_data_24,\n",
    "    2025: fin_data_25,\n",
    "    \"2023_24\": fin_data_23_24,\n",
    "    \"2024_25\": fin_data_24_25,\n",
    "    \"2023_24_25\": fin_data  \n",
    "}"
   ]
  },
  {
   "cell_type": "code",
   "execution_count": null,
   "id": "2c7efe1c",
   "metadata": {},
   "outputs": [],
   "source": [
    "# ensure sorting\n",
    "fin_data['Date'] = pd.to_datetime(fin_data['Date'])\n",
    "fin_data = fin_data.sort_values(['Ticker', 'Date'])\n",
    "\n",
    "# Calculate log returns by Ticker\n",
    "fin_data['log_return'] = fin_data.groupby('Ticker')['Adj Close'].transform(lambda x: np.log(x) - np.log(x.shift(1)))\n",
    "fin_data = fin_data.dropna(subset=['log_return'])\n",
    "\n",
    "# create distinct df of log_returns & ticker\n",
    "ticker_dfs = {}\n",
    "fin_data"
   ]
  },
  {
   "cell_type": "markdown",
   "id": "d1c3b23a",
   "metadata": {},
   "source": [
    "Estimate Grancger Causality and reverse Granger Causality between AINI variables & Stocks / ETFs"
   ]
  },
  {
   "cell_type": "code",
   "execution_count": null,
   "id": "45390588",
   "metadata": {},
   "outputs": [],
   "source": [
    "#w0_df =  run_gc_mbboot_fdr(\n",
    "    #aini_df = aini_data_w0,\n",
    "    #fin_data_by_year = fin_data_by_year,\n",
    "    #version = \"w0\",\n",
    "    #n_boot = 10000\n",
    "#)\n",
    "\n",
    "w1_df =  run_gc_mbboot_fdr(\n",
    "    aini_df = aini_data_w0,\n",
    "    fin_data_by_year = fin_data_by_year,\n",
    "    version = \"w1\",\n",
    "    n_boot = 10000\n",
    ")\n",
    "\n",
    "w2_df =  run_gc_mbboot_fdr(\n",
    "    aini_df = aini_data_w0,\n",
    "    fin_data_by_year = fin_data_by_year,\n",
    "    version = \"w2\",\n",
    "    n_boot = 10000\n",
    ")\n",
    "\n",
    "binary_df =  run_gc_mbboot_fdr(\n",
    "    aini_df = aini_data_binary,\n",
    "    fin_data_by_year = fin_data_by_year,\n",
    "    version = \"w2\",\n",
    "    n_boot = 10000\n",
    ")"
   ]
  },
  {
   "cell_type": "markdown",
   "id": "8f855a99",
   "metadata": {},
   "source": [
    "Estimate Granger Causality for polarity AINI with windowsize (w) = 1"
   ]
  }
 ],
 "metadata": {
  "kernelspec": {
   "display_name": ".venv",
   "language": "python",
   "name": "python3"
  },
  "language_info": {
   "codemirror_mode": {
    "name": "ipython",
    "version": 3
   },
   "file_extension": ".py",
   "mimetype": "text/x-python",
   "name": "python",
   "nbconvert_exporter": "python",
   "pygments_lexer": "ipython3",
   "version": "3.10.0"
  }
 },
 "nbformat": 4,
 "nbformat_minor": 5
}
