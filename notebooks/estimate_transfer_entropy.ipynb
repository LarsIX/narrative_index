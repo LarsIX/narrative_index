{
 "cells": [
  {
   "cell_type": "markdown",
   "id": "4debc765",
   "metadata": {},
   "source": [
    "Notebook used to estimate Transfer Entropy between AINI variables and log returns"
   ]
  },
  {
   "cell_type": "code",
   "execution_count": null,
   "id": "6c7cb22c",
   "metadata": {},
   "outputs": [],
   "source": [
    "import pandas as pd\n",
    "import numpy as np\n",
    "from pathlib import Path\n",
    "import importlib\n",
    "import sys\n",
    "\n",
    "# Get the project root: notebooks/AI_narrative_index\n",
    "project_root = Path.cwd().parent\n",
    "\n",
    "# Add src/scripts & modelling to the Python modules search path\n",
    "sys.path.append(str(project_root / \"src\" / \"modelling\"))\n",
    "\n",
    "from transfer_entropy import estimate_te"
   ]
  },
  {
   "cell_type": "code",
   "execution_count": null,
   "id": "b3da7da5",
   "metadata": {},
   "outputs": [],
   "source": [
    " # get variables path\n",
    "var_path = project_root / \"data\" / \"processed\" / \"variables\" \n",
    "\n",
    "# get financial data path\n",
    "fin_path = project_root / \"data\" / \"raw\" / \"financial\" \n",
    "\n",
    "# load financial data\n",
    "fin_data = pd.read_csv(fin_path / \"full_daily_2023_2025.csv\")\n",
    "\n",
    "# load binary AINI predictions (0 to 1 index)\n",
    "aini_data = pd.read_csv(var_path / \"binary_AINI_variables.csv\")\n",
    "\n",
    "# load polarity predictions, windowsize=1\n",
    "w1_aini_data = pd.read_csv(var_path / \"w1_AINI_variables.csv\")"
   ]
  },
  {
   "cell_type": "code",
   "execution_count": null,
   "id": "4ecd17de",
   "metadata": {},
   "outputs": [],
   "source": [
    "# ensure sorting\n",
    "fin_data['Date'] = pd.to_datetime(fin_data['Date'])\n",
    "fin_data = fin_data.sort_values(['Ticker', 'Date'])\n",
    "\n",
    "# Calculate log returns by Ticker\n",
    "fin_data['LogReturn'] = fin_data.groupby('Ticker')['Adj Close'].transform(lambda x: np.log(x) - np.log(x.shift(1)))\n",
    "fin_data = fin_data.dropna(subset=['LogReturn'])\n",
    "\n",
    "# verify financial data\n",
    "print(fin_data.head())\n",
    "print(fin_data.isna().any())\n",
    "\n",
    "# verify AINI data\n",
    "print(aini_data.head())\n",
    "print(aini_data.isna().any())"
   ]
  },
  {
   "cell_type": "code",
   "execution_count": null,
   "id": "a21078ec",
   "metadata": {},
   "outputs": [],
   "source": [
    "# Ensure both columns are datetime\n",
    "fin_data['Date'] = pd.to_datetime(fin_data['Date'])\n",
    "aini_data['date'] = pd.to_datetime(aini_data['date'])\n",
    "\n",
    "# Define thresholds\n",
    "threshold_23 = pd.Timestamp('2023-12-31')\n",
    "threshold_24 = pd.Timestamp('2024-01-01')\n",
    "threshold_25 = pd.Timestamp('2025-01-01')\n",
    "\n",
    "# Filter data by year\n",
    "fin_data_23 = fin_data[fin_data['Date'] < threshold_24]\n",
    "fin_data_24 = fin_data[(fin_data['Date'] > threshold_23) & (fin_data['Date'] < threshold_25)]\n",
    "fin_data_25 = fin_data[fin_data['Date'] >= threshold_25]\n",
    "\n",
    "# overlapping\n",
    "fin_data_23_24 = fin_data[fin_data['Date'] <= threshold_25]\n",
    "fin_data_24_25 = fin_data[fin_data['Date'] > threshold_23]\n",
    "fin_data_23_24\n",
    "\n",
    "fin_data_by_year = {\n",
    "    2023: fin_data_23,\n",
    "    2024: fin_data_24,\n",
    "    2025: fin_data_25,\n",
    "    \"2023_24\": fin_data_23_24,\n",
    "    \"2024_25\": fin_data_24_25,\n",
    "    \"2023_24_25\": fin_data  \n",
    "}"
   ]
  },
  {
   "cell_type": "markdown",
   "id": "0090304a",
   "metadata": {},
   "source": [
    "Estimate Transfer Entropy between binary AINI variables & Stocks / ETFs"
   ]
  },
  {
   "cell_type": "code",
   "execution_count": null,
   "id": "ddac6d77",
   "metadata": {},
   "outputs": [],
   "source": [
    "# run predictions\n",
    "aini_variants = [\n",
    "    \"normalized_AINI\",\n",
    "    \"MA_7\",\n",
    "    \"EMA_06\",\n",
    "    \"EMA_08\",\n",
    "]\n",
    "\n",
    "fin_data_by_year = {\n",
    "    2023: fin_data_23,\n",
    "    2024: fin_data_24,\n",
    "    2025: fin_data_25,\n",
    "    2023_24: fin_data_23_24,\n",
    "    2024_25: fin_data_24_25,\n",
    "    2023_24_25: fin_data\n",
    "}\n",
    "all_te_results = []\n",
    "\n",
    "for year, fin_data in fin_data_by_year.items():\n",
    "    for aini_var in aini_variants:\n",
    "        print(f\"\\n⏳ Processing {aini_var} for {year}...\")\n",
    "        try:\n",
    "            array_dict = get_ticker_for_TE(fin_data, aini_data, aini_var, year)\n",
    "            results_df = estimate_te(\n",
    "                array_dict, year, aini_var,\n",
    "                max_lag_sources=1,\n",
    "                n_perm=200,\n",
    "                save=False  \n",
    "            )\n",
    "            all_te_results.append(results_df)\n",
    "            print(f\"✅ Done: {aini_var} for {year}\")\n",
    "\n",
    "        except Exception as e:\n",
    "            print(f\"❌ Failed: {aini_var} for {year} → {e}\")\n",
    "\n",
    "# Combine and save after all loops\n",
    "if all_te_results:\n",
    "    combined_df = pd.concat(all_te_results, ignore_index=True)\n",
    "    combined_path = var_path / \"combined_te_results.csv\"\n",
    "    combined_df.to_csv(combined_path, index=False)\n",
    "    print(f\"\\n📄 All TE results saved to: {combined_path}\")\n",
    "all_te_results"
   ]
  },
  {
   "cell_type": "markdown",
   "id": "323a417e",
   "metadata": {},
   "source": [
    "Estimate Transfer Entropy between polarity AINI variables & Stocks / ETFs for windowsize = 1"
   ]
  },
  {
   "cell_type": "code",
   "execution_count": null,
   "id": "53193f01",
   "metadata": {},
   "outputs": [],
   "source": [
    "aini_variants = [\n",
    "    \"normalized_AINI\",\n",
    "    \"EMA_08\",\n",
    "]\n",
    "\n",
    "fin_data_by_year = {\n",
    "    \"2023\": fin_data_23,\n",
    "    \"2024\": fin_data_24,\n",
    "    \"2025\": fin_data_25,\n",
    "    \"2023_24\": fin_data_23_24,\n",
    "    \"2024_25\": fin_data_24_25,\n",
    "    \"2023_24_25\": fin_data\n",
    "}\n",
    "\n",
    "all_te_results = []\n",
    "\n",
    "for year, fin_data in fin_data_by_year.items():\n",
    "    for aini_var in aini_variants:\n",
    "        print(f\"\\n⏳ Processing {aini_var} for {year}...\")\n",
    "\n",
    "        try:\n",
    "            results_df = estimate_te(\n",
    "                year=year,\n",
    "                fin_data=fin_data,\n",
    "                aini_data=w1_aini_data,\n",
    "                aini_vars=[aini_var],  \n",
    "                target_name=\"LogReturn\",\n",
    "                max_lag_sources=2,\n",
    "                n_perm=200,\n",
    "                k_list=[2, 3, 4],\n",
    "                save=False,\n",
    "                window=1\n",
    "            )\n",
    "\n",
    "            all_te_results.append(results_df)\n",
    "            print(f\"✅ Done: {aini_var} for {year}\")\n",
    "\n",
    "        except Exception as e:\n",
    "            print(f\"❌ Failed: {aini_var} for {year} → {e}\")\n",
    "\n",
    "# Combine and save\n",
    "if all_te_results:\n",
    "    combined_df = pd.concat(all_te_results, ignore_index=True)\n",
    "    combined_path = var_path / \"combined_te_results_window_1.csv\"\n",
    "    combined_df.to_csv(combined_path, index=False)\n",
    "    print(f\"\\n📄 All TE results saved to: {combined_path}\")\n",
    "combined_df"
   ]
  },
  {
   "cell_type": "markdown",
   "id": "d15198ae",
   "metadata": {},
   "source": [
    "Estimate Transfer Entropy between polarity AINI variables & Stocks / ETFs for windowsize = 1"
   ]
  }
 ],
 "metadata": {
  "kernelspec": {
   "display_name": ".venv",
   "language": "python",
   "name": "python3"
  },
  "language_info": {
   "codemirror_mode": {
    "name": "ipython",
    "version": 3
   },
   "file_extension": ".py",
   "mimetype": "text/x-python",
   "name": "python",
   "nbconvert_exporter": "python",
   "pygments_lexer": "ipython3",
   "version": "3.10.0"
  }
 },
 "nbformat": 4,
 "nbformat_minor": 5
}
