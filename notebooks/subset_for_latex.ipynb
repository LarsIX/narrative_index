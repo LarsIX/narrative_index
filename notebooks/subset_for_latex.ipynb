{
 "cells": [
  {
   "cell_type": "markdown",
   "id": "a9606173",
   "metadata": {},
   "source": [
    "Notebook to construct LaTex tables"
   ]
  },
  {
   "cell_type": "code",
   "execution_count": null,
   "id": "42369a46",
   "metadata": {},
   "outputs": [],
   "source": [
    "import pandas as pd\n",
    "import numpy as np\n",
    "from pathlib import Path\n",
    "import sys\n",
    "\n",
    "# load custom module to construct tables\n",
    "root = Path.cwd().parent\n",
    "module_path = root / \"src\" / \"visualizations\"\n",
    "sys.path.append(str(module_path))\n",
    "\n",
    "from construct_latex_tables import export_regression_table"
   ]
  },
  {
   "cell_type": "code",
   "execution_count": null,
   "id": "4eb68070",
   "metadata": {},
   "outputs": [],
   "source": [
    "ols = pd.read_csv(root / \"data\" / \"processed\" / \"variables\" / \"ols_sameday_mbboot_fdr_w0.csv\")\n",
    "ols"
   ]
  },
  {
   "cell_type": "code",
   "execution_count": null,
   "id": "b6b72c14",
   "metadata": {},
   "outputs": [],
   "source": [
    "# define data path\n",
    "\n",
    "var_path = root / \"data\" / \"processed\" / \"variables\"\n",
    "\n",
    "# load gc-predictions\n",
    "granger_causality_binary = pd.read_csv(var_path / \"granger_causality_binary.csv\")\n",
    "granger_causality_w0 = pd.read_csv(var_path / \"granger_causality_w0.csv\")\n",
    "granger_causality_w1 = pd.read_csv(var_path / \"granger_causality_w1.csv\")\n",
    "granger_causality_w2 = pd.read_csv(var_path / \"granger_causality_w2.csv\")\n",
    "\n",
    "# inspect aini -> return\n",
    "granger_causality_w0"
   ]
  },
  {
   "cell_type": "code",
   "execution_count": null,
   "id": "489d5c38",
   "metadata": {},
   "outputs": [],
   "source": [
    "# subset for p =< 0.1\n",
    "alpha = 0.1\n",
    "granger_causality_binary = granger_causality_binary[\n",
    "    (granger_causality_binary.BH_corr_F_pval < alpha) |\n",
    "    (granger_causality_binary.BH_corr_F_pval_HC3 < alpha)\n",
    "]\n",
    "\n",
    "granger_causality_w0_sub = granger_causality_w0[\n",
    "    (granger_causality_w0.BH_corr_F_pval < alpha) |\n",
    "    (granger_causality_w0.BH_corr_F_pval_HC3 < alpha)\n",
    "]\n",
    "\n",
    "granger_causality_w1_sub = granger_causality_w1[\n",
    "    (granger_causality_w1.BH_corr_F_pval < alpha) |\n",
    "    (granger_causality_w1.BH_corr_F_pval_HC3 < alpha)\n",
    "]\n",
    "\n",
    "granger_causality_w2_sub = granger_causality_w2[\n",
    "    (granger_causality_w2.BH_corr_F_pval < alpha) |\n",
    "    (granger_causality_w2.BH_corr_F_pval_HC3 < alpha)\n",
    "]\n",
    "granger_causality_w2_sub"
   ]
  },
  {
   "cell_type": "markdown",
   "id": "cee7e7ed",
   "metadata": {},
   "source": [
    "Create LaTex tables"
   ]
  },
  {
   "cell_type": "code",
   "execution_count": null,
   "id": "a35fd918",
   "metadata": {},
   "outputs": [],
   "source": [
    "# for data labeled by custom FinBERT\n",
    "# subset by direction\n",
    "binary_sub_aini_to_ret = granger_causality_binary[granger_causality_binary[\"Direction\"] == \"AINI_to_RET\"]\n",
    "binary_sub_ret_to_aini = granger_causality_binary[granger_causality_binary[\"Direction\"] == \"RET_to_AINI\"]\n",
    "\n",
    "# create .tex aini -> return\n",
    "export_regression_table(output_filename=\"aini_to_ret_binary.tex\",df=binary_sub_aini_to_ret,title=\"AINI -> log return, custom FinBERT\")\n",
    "\n",
    "# create .tex return -> aini\n",
    "export_regression_table(output_filename=\"ret_to_aini_binary.tex\",df=binary_sub_ret_to_aini,title=\"log return -> AINI, custom FinBERT\")\n",
    "\n",
    "# for w = 0\n",
    "# subset by direction\n",
    "w0_sub_aini_to_ret = granger_causality_w0_sub[granger_causality_w0_sub[\"Direction\"] == \"AINI_to_RET\"]\n",
    "w0_sub_ret_to_aini = granger_causality_w0_sub[granger_causality_w0_sub[\"Direction\"] == \"RET_to_AINI\"]\n",
    "\n",
    "# create .tex aini -> return\n",
    "export_regression_table(output_filename=\"aini_to_ret_w0.tex\",df=w0_sub_aini_to_ret,title=\"AINI -> log return, context window = 0\")\n",
    "\n",
    "# create .tex return -> aini\n",
    "export_regression_table(output_filename=\"ret_to_aini_w0.tex\",df=w0_sub_ret_to_aini,title=\"log return -> AINI, context window = 0\")\n",
    "\n",
    "# for w = 1\n",
    "# subset by direction\n",
    "w1_sub_aini_to_ret = granger_causality_w1_sub[granger_causality_w1_sub[\"Direction\"] == \"AINI_to_RET\"]\n",
    "w1_sub_ret_to_aini = granger_causality_w1_sub[granger_causality_w1_sub[\"Direction\"] == \"RET_to_AINI\"]\n",
    "\n",
    "# create .tex aini -> return\n",
    "export_regression_table(\n",
    "    output_filename=\"aini_to_ret_w1.tex\",\n",
    "    df=w1_sub_aini_to_ret,\n",
    "    title=\"Granger Causality Results: AINI -> log return, context window = 1\"\n",
    ")\n",
    "\n",
    "# create .tex return -> aini\n",
    "export_regression_table(\n",
    "    output_filename=\"ret_to_aini_w1.tex\",\n",
    "    df=w1_sub_ret_to_aini,\n",
    "    title=\"Granger Causality Results: log return -> AINI, context window = 1\"\n",
    ")\n",
    "\n",
    "\n",
    "# for w = 2\n",
    "# subset by direction\n",
    "w2_sub_aini_to_ret = granger_causality_w2_sub[granger_causality_w2_sub[\"Direction\"] == \"AINI_to_RET\"]\n",
    "w2_sub_ret_to_aini = granger_causality_w2_sub[granger_causality_w2_sub[\"Direction\"] == \"RET_to_AINI\"]\n",
    "\n",
    "# create .tex aini -> return\n",
    "export_regression_table(\n",
    "    output_filename=\"aini_to_ret_w2.tex\",\n",
    "    df=w2_sub_aini_to_ret,\n",
    "    title=\"Granger Causality Results: AINI -> log return, context window = 2\"\n",
    ")\n",
    "\n",
    "# create .tex return -> aini\n",
    "export_regression_table(\n",
    "    output_filename=\"ret_to_aini_w2.tex\",\n",
    "    df=w2_sub_ret_to_aini,\n",
    "    title=\"Granger Causality Results: log return -> AINI, context window = 2\"\n",
    ")"
   ]
  },
  {
   "cell_type": "code",
   "execution_count": null,
   "id": "8e15433c",
   "metadata": {},
   "outputs": [],
   "source": []
  }
 ],
 "metadata": {
  "kernelspec": {
   "display_name": ".venv",
   "language": "python",
   "name": "python3"
  },
  "language_info": {
   "codemirror_mode": {
    "name": "ipython",
    "version": 3
   },
   "file_extension": ".py",
   "mimetype": "text/x-python",
   "name": "python",
   "nbconvert_exporter": "python",
   "pygments_lexer": "ipython3",
   "version": "3.10.0"
  }
 },
 "nbformat": 4,
 "nbformat_minor": 5
}
