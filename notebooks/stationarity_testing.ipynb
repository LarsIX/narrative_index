{
 "cells": [
  {
   "cell_type": "code",
   "execution_count": 1,
   "id": "011dc5b8",
   "metadata": {},
   "outputs": [],
   "source": [
    "import pandas as pd\n",
    "from pathlib import Path\n",
    "import numpy as np\n",
    "import sys\n",
    "\n",
    "# Determine the project root\n",
    "current_path = Path.cwd().resolve()\n",
    "root = current_path.parents[0]\n",
    "\n",
    "# find modelling path\n",
    "mod_path = root / \"src\" / \"modelling\"\n",
    "\n",
    "# append path for custom function\n",
    "sys.path.append(str(mod_path))\n",
    "\n",
    "# load stationarity function\n",
    "from stationarity_report import build_stationarity_html"
   ]
  },
  {
   "cell_type": "code",
   "execution_count": 2,
   "id": "b725a4bd",
   "metadata": {},
   "outputs": [
    {
     "data": {
      "application/vnd.microsoft.datawrangler.viewer.v0+json": {
       "columns": [
        {
         "name": "index",
         "rawType": "int64",
         "type": "integer"
        },
        {
         "name": "Date",
         "rawType": "datetime64[ns]",
         "type": "datetime"
        },
        {
         "name": "measure",
         "rawType": "object",
         "type": "string"
        },
        {
         "name": "value",
         "rawType": "float64",
         "type": "float"
        }
       ],
       "ref": "44bcfe91-bf12-447d-9bc3-a3b447a9d3f6",
       "rows": [
        [
         "0",
         "2023-04-01 00:00:00",
         "binary_normalized_AINI",
         "0.0"
        ],
        [
         "1",
         "2023-04-02 00:00:00",
         "binary_normalized_AINI",
         "0.0"
        ],
        [
         "2",
         "2023-04-03 00:00:00",
         "binary_normalized_AINI",
         "0.0"
        ],
        [
         "3",
         "2023-04-04 00:00:00",
         "binary_normalized_AINI",
         "0.0"
        ],
        [
         "4",
         "2023-04-05 00:00:00",
         "binary_normalized_AINI",
         "0.0"
        ],
        [
         "5",
         "2023-04-06 00:00:00",
         "binary_normalized_AINI",
         "-0.0769230769230769"
        ],
        [
         "6",
         "2023-04-07 00:00:00",
         "binary_normalized_AINI",
         "0.0"
        ],
        [
         "7",
         "2023-04-08 00:00:00",
         "binary_normalized_AINI",
         "0.0"
        ],
        [
         "8",
         "2023-04-09 00:00:00",
         "binary_normalized_AINI",
         "0.0"
        ],
        [
         "9",
         "2023-04-10 00:00:00",
         "binary_normalized_AINI",
         "-0.25"
        ],
        [
         "10",
         "2023-04-11 00:00:00",
         "binary_normalized_AINI",
         "0.0"
        ],
        [
         "11",
         "2023-04-12 00:00:00",
         "binary_normalized_AINI",
         "0.0"
        ],
        [
         "12",
         "2023-04-13 00:00:00",
         "binary_normalized_AINI",
         "0.0"
        ],
        [
         "13",
         "2023-04-14 00:00:00",
         "binary_normalized_AINI",
         "-0.0869565217391304"
        ],
        [
         "14",
         "2023-04-15 00:00:00",
         "binary_normalized_AINI",
         "0.0"
        ],
        [
         "15",
         "2023-04-16 00:00:00",
         "binary_normalized_AINI",
         "0.0"
        ],
        [
         "16",
         "2023-04-17 00:00:00",
         "binary_normalized_AINI",
         "-0.0833333333333333"
        ],
        [
         "17",
         "2023-04-18 00:00:00",
         "binary_normalized_AINI",
         "0.0"
        ],
        [
         "18",
         "2023-04-19 00:00:00",
         "binary_normalized_AINI",
         "0.0"
        ],
        [
         "19",
         "2023-04-20 00:00:00",
         "binary_normalized_AINI",
         "0.0"
        ],
        [
         "20",
         "2023-04-21 00:00:00",
         "binary_normalized_AINI",
         "-0.0588235294117647"
        ],
        [
         "21",
         "2023-04-22 00:00:00",
         "binary_normalized_AINI",
         "0.0"
        ],
        [
         "22",
         "2023-04-23 00:00:00",
         "binary_normalized_AINI",
         "0.0"
        ],
        [
         "23",
         "2023-04-24 00:00:00",
         "binary_normalized_AINI",
         "0.0"
        ],
        [
         "24",
         "2023-04-25 00:00:00",
         "binary_normalized_AINI",
         "-0.037037037037037"
        ],
        [
         "25",
         "2023-04-26 00:00:00",
         "binary_normalized_AINI",
         "-0.08"
        ],
        [
         "26",
         "2023-04-27 00:00:00",
         "binary_normalized_AINI",
         "-0.1212121212121212"
        ],
        [
         "27",
         "2023-04-28 00:00:00",
         "binary_normalized_AINI",
         "-0.1666666666666666"
        ],
        [
         "28",
         "2023-04-29 00:00:00",
         "binary_normalized_AINI",
         "-0.4"
        ],
        [
         "29",
         "2023-04-30 00:00:00",
         "binary_normalized_AINI",
         "-0.0666666666666666"
        ],
        [
         "30",
         "2023-05-01 00:00:00",
         "binary_normalized_AINI",
         "-0.0357142857142857"
        ],
        [
         "31",
         "2023-05-02 00:00:00",
         "binary_normalized_AINI",
         "-0.1333333333333333"
        ],
        [
         "32",
         "2023-05-03 00:00:00",
         "binary_normalized_AINI",
         "0.0"
        ],
        [
         "33",
         "2023-05-04 00:00:00",
         "binary_normalized_AINI",
         "-0.12"
        ],
        [
         "34",
         "2023-05-05 00:00:00",
         "binary_normalized_AINI",
         "0.0"
        ],
        [
         "35",
         "2023-05-06 00:00:00",
         "binary_normalized_AINI",
         "0.0"
        ],
        [
         "36",
         "2023-05-07 00:00:00",
         "binary_normalized_AINI",
         "-0.0476190476190476"
        ],
        [
         "37",
         "2023-05-08 00:00:00",
         "binary_normalized_AINI",
         "-0.16"
        ],
        [
         "38",
         "2023-05-09 00:00:00",
         "binary_normalized_AINI",
         "-0.0357142857142857"
        ],
        [
         "39",
         "2023-05-10 00:00:00",
         "binary_normalized_AINI",
         "-0.08"
        ],
        [
         "40",
         "2023-05-11 00:00:00",
         "binary_normalized_AINI",
         "-0.0666666666666666"
        ],
        [
         "41",
         "2023-05-12 00:00:00",
         "binary_normalized_AINI",
         "-0.037037037037037"
        ],
        [
         "42",
         "2023-05-13 00:00:00",
         "binary_normalized_AINI",
         "-0.1"
        ],
        [
         "43",
         "2023-05-14 00:00:00",
         "binary_normalized_AINI",
         "-0.0625"
        ],
        [
         "44",
         "2023-05-15 00:00:00",
         "binary_normalized_AINI",
         "-0.15625"
        ],
        [
         "45",
         "2023-05-16 00:00:00",
         "binary_normalized_AINI",
         "-0.1538461538461538"
        ],
        [
         "46",
         "2023-05-17 00:00:00",
         "binary_normalized_AINI",
         "-0.0625"
        ],
        [
         "47",
         "2023-05-18 00:00:00",
         "binary_normalized_AINI",
         "-0.0769230769230769"
        ],
        [
         "48",
         "2023-05-19 00:00:00",
         "binary_normalized_AINI",
         "0.0"
        ],
        [
         "49",
         "2023-05-20 00:00:00",
         "binary_normalized_AINI",
         "0.0"
        ]
       ],
       "shape": {
        "columns": 3,
        "rows": 12496
       }
      },
      "text/html": [
       "<div>\n",
       "<style scoped>\n",
       "    .dataframe tbody tr th:only-of-type {\n",
       "        vertical-align: middle;\n",
       "    }\n",
       "\n",
       "    .dataframe tbody tr th {\n",
       "        vertical-align: top;\n",
       "    }\n",
       "\n",
       "    .dataframe thead th {\n",
       "        text-align: right;\n",
       "    }\n",
       "</style>\n",
       "<table border=\"1\" class=\"dataframe\">\n",
       "  <thead>\n",
       "    <tr style=\"text-align: right;\">\n",
       "      <th></th>\n",
       "      <th>Date</th>\n",
       "      <th>measure</th>\n",
       "      <th>value</th>\n",
       "    </tr>\n",
       "  </thead>\n",
       "  <tbody>\n",
       "    <tr>\n",
       "      <th>0</th>\n",
       "      <td>2023-04-01</td>\n",
       "      <td>binary_normalized_AINI</td>\n",
       "      <td>0.000000</td>\n",
       "    </tr>\n",
       "    <tr>\n",
       "      <th>1</th>\n",
       "      <td>2023-04-02</td>\n",
       "      <td>binary_normalized_AINI</td>\n",
       "      <td>0.000000</td>\n",
       "    </tr>\n",
       "    <tr>\n",
       "      <th>2</th>\n",
       "      <td>2023-04-03</td>\n",
       "      <td>binary_normalized_AINI</td>\n",
       "      <td>0.000000</td>\n",
       "    </tr>\n",
       "    <tr>\n",
       "      <th>3</th>\n",
       "      <td>2023-04-04</td>\n",
       "      <td>binary_normalized_AINI</td>\n",
       "      <td>0.000000</td>\n",
       "    </tr>\n",
       "    <tr>\n",
       "      <th>4</th>\n",
       "      <td>2023-04-05</td>\n",
       "      <td>binary_normalized_AINI</td>\n",
       "      <td>0.000000</td>\n",
       "    </tr>\n",
       "    <tr>\n",
       "      <th>...</th>\n",
       "      <td>...</td>\n",
       "      <td>...</td>\n",
       "      <td>...</td>\n",
       "    </tr>\n",
       "    <tr>\n",
       "      <th>12491</th>\n",
       "      <td>2025-06-12</td>\n",
       "      <td>w2_normalized_AINI_z</td>\n",
       "      <td>0.108297</td>\n",
       "    </tr>\n",
       "    <tr>\n",
       "      <th>12492</th>\n",
       "      <td>2025-06-13</td>\n",
       "      <td>w2_normalized_AINI_z</td>\n",
       "      <td>2.046412</td>\n",
       "    </tr>\n",
       "    <tr>\n",
       "      <th>12493</th>\n",
       "      <td>2025-06-14</td>\n",
       "      <td>w2_normalized_AINI_z</td>\n",
       "      <td>0.108297</td>\n",
       "    </tr>\n",
       "    <tr>\n",
       "      <th>12494</th>\n",
       "      <td>2025-06-15</td>\n",
       "      <td>w2_normalized_AINI_z</td>\n",
       "      <td>0.108297</td>\n",
       "    </tr>\n",
       "    <tr>\n",
       "      <th>12495</th>\n",
       "      <td>2025-06-16</td>\n",
       "      <td>w2_normalized_AINI_z</td>\n",
       "      <td>3.984527</td>\n",
       "    </tr>\n",
       "  </tbody>\n",
       "</table>\n",
       "<p>12496 rows × 3 columns</p>\n",
       "</div>"
      ],
      "text/plain": [
       "            Date                 measure     value\n",
       "0     2023-04-01  binary_normalized_AINI  0.000000\n",
       "1     2023-04-02  binary_normalized_AINI  0.000000\n",
       "2     2023-04-03  binary_normalized_AINI  0.000000\n",
       "3     2023-04-04  binary_normalized_AINI  0.000000\n",
       "4     2023-04-05  binary_normalized_AINI  0.000000\n",
       "...          ...                     ...       ...\n",
       "12491 2025-06-12    w2_normalized_AINI_z  0.108297\n",
       "12492 2025-06-13    w2_normalized_AINI_z  2.046412\n",
       "12493 2025-06-14    w2_normalized_AINI_z  0.108297\n",
       "12494 2025-06-15    w2_normalized_AINI_z  0.108297\n",
       "12495 2025-06-16    w2_normalized_AINI_z  3.984527\n",
       "\n",
       "[12496 rows x 3 columns]"
      ]
     },
     "execution_count": 2,
     "metadata": {},
     "output_type": "execute_result"
    }
   ],
   "source": [
    "# aini dfs\n",
    "data_path = root / \"data\"\n",
    "var_path = data_path / \"processed\" / \"variables\"\n",
    "aini_df = pd.DataFrame()\n",
    "vars = [\"binary\", \"w0\", \"w1\", \"w2\"]\n",
    "\n",
    "aini_dfs = {}\n",
    "\n",
    "for var in vars:\n",
    "    df = pd.read_csv(var_path / f\"{var}_AINI_variables.csv\")\n",
    "\n",
    "    # ensure types and order\n",
    "    df[\"date\"] = pd.to_datetime(df[\"date\"], errors=\"coerce\")\n",
    "    df[\"normalized_AINI\"] = pd.to_numeric(df[\"normalized_AINI\"], errors=\"coerce\")\n",
    "    df = df.sort_values(\"date\").reset_index(drop=True)\n",
    "\n",
    "    # compute z-score: (x - mean) / std\n",
    "    mean = df[\"normalized_AINI\"].mean(skipna=True)\n",
    "    std = df[\"normalized_AINI\"].std(skipna=True)\n",
    "\n",
    "    df[\"normalized_AINI_z\"] = (df[\"normalized_AINI\"] - mean) / std\n",
    "\n",
    "    aini_dfs[var] = df\n",
    "\n",
    "# target cols\n",
    "target_cols_aini = [\"normalized_AINI\",\"EMA_02\",\"EMA_08\",\"normalized_AINI_z\"]\n",
    "aini_data_test = list()\n",
    "\n",
    "# iterate through models and variables\n",
    "for key, df in aini_dfs.items():\n",
    "    for var in target_cols_aini:\n",
    "        if var in df.columns:\n",
    "            temp = pd.DataFrame({\n",
    "                \"Date\": pd.to_datetime(df[\"date\"]),\n",
    "                \"measure\": f\"{key}_{var}\",\n",
    "                \"value\": df[var].values\n",
    "            })\n",
    "            aini_data_test.append(temp)\n",
    "\n",
    "# concatenate all partial dataframes\n",
    "aini_data_test = pd.concat(aini_data_test, ignore_index=True)\n",
    "\n",
    "aini_data_test"
   ]
  },
  {
   "cell_type": "code",
   "execution_count": 3,
   "id": "d32e9f24",
   "metadata": {},
   "outputs": [
    {
     "data": {
      "application/vnd.microsoft.datawrangler.viewer.v0+json": {
       "columns": [
        {
         "name": "index",
         "rawType": "int64",
         "type": "integer"
        },
        {
         "name": "Date",
         "rawType": "datetime64[ns]",
         "type": "datetime"
        },
        {
         "name": "measure",
         "rawType": "object",
         "type": "string"
        },
        {
         "name": "value",
         "rawType": "float64",
         "type": "float"
        }
       ],
       "ref": "630b4c55-4740-4d26-8021-e248d8bacf94",
       "rows": [
        [
         "0",
         "2023-04-03 00:00:00",
         "AAPL",
         null
        ],
        [
         "1",
         "2023-04-04 00:00:00",
         "AAPL",
         "-0.003254830528653052"
        ],
        [
         "2",
         "2023-04-05 00:00:00",
         "AAPL",
         "-0.011354490668153971"
        ],
        [
         "3",
         "2023-04-06 00:00:00",
         "AAPL",
         "0.0054809944040803416"
        ],
        [
         "4",
         "2023-04-10 00:00:00",
         "AAPL",
         "-0.016101505031222096"
        ],
        [
         "5",
         "2023-04-11 00:00:00",
         "AAPL",
         "-0.007620184616739856"
        ],
        [
         "6",
         "2023-04-12 00:00:00",
         "AAPL",
         "-0.004362613530705772"
        ],
        [
         "7",
         "2023-04-13 00:00:00",
         "AAPL",
         "0.03353504667967755"
        ],
        [
         "8",
         "2023-04-14 00:00:00",
         "AAPL",
         "-0.0021162617370400483"
        ],
        [
         "9",
         "2023-04-17 00:00:00",
         "AAPL",
         "0.0001210072178450261"
        ],
        [
         "10",
         "2023-04-18 00:00:00",
         "AAPL",
         "0.0074766851441667725"
        ],
        [
         "11",
         "2023-04-19 00:00:00",
         "AAPL",
         "0.0069440583924045285"
        ],
        [
         "12",
         "2023-04-20 00:00:00",
         "AAPL",
         "-0.0058635693771860176"
        ],
        [
         "13",
         "2023-04-21 00:00:00",
         "AAPL",
         "-0.00982894898041664"
        ],
        [
         "14",
         "2023-04-24 00:00:00",
         "AAPL",
         "0.0018767782702058255"
        ],
        [
         "15",
         "2023-04-25 00:00:00",
         "AAPL",
         "-0.009480351327916026"
        ],
        [
         "16",
         "2023-04-26 00:00:00",
         "AAPL",
         "-6.113550715358684e-05"
        ],
        [
         "17",
         "2023-04-27 00:00:00",
         "AAPL",
         "0.027999618420627037"
        ],
        [
         "18",
         "2023-04-28 00:00:00",
         "AAPL",
         "0.007512595949860312"
        ],
        [
         "19",
         "2023-05-01 00:00:00",
         "AAPL",
         "-0.0005304513724437854"
        ],
        [
         "20",
         "2023-05-02 00:00:00",
         "AAPL",
         "-0.006210518938400966"
        ],
        [
         "21",
         "2023-05-03 00:00:00",
         "AAPL",
         "-0.006488370311665825"
        ],
        [
         "22",
         "2023-05-04 00:00:00",
         "AAPL",
         "-0.009962908080438204"
        ],
        [
         "23",
         "2023-05-05 00:00:00",
         "AAPL",
         "0.04585914245854994"
        ],
        [
         "24",
         "2023-05-08 00:00:00",
         "AAPL",
         "-0.00040349897905400667"
        ],
        [
         "25",
         "2023-05-09 00:00:00",
         "AAPL",
         "-0.010021115767349542"
        ],
        [
         "26",
         "2023-05-10 00:00:00",
         "AAPL",
         "0.010367020153833728"
        ],
        [
         "27",
         "2023-05-11 00:00:00",
         "AAPL",
         "0.0010939972004457843"
        ],
        [
         "28",
         "2023-05-12 00:00:00",
         "AAPL",
         "-0.0054321030962727335"
        ],
        [
         "29",
         "2023-05-15 00:00:00",
         "AAPL",
         "-0.0029016345275829636"
        ],
        [
         "30",
         "2023-05-16 00:00:00",
         "AAPL",
         "0.0"
        ],
        [
         "31",
         "2023-05-17 00:00:00",
         "AAPL",
         "0.0035965363404519834"
        ],
        [
         "32",
         "2023-05-18 00:00:00",
         "AAPL",
         "0.013573729886474872"
        ],
        [
         "33",
         "2023-05-19 00:00:00",
         "AAPL",
         "0.000628158684422786"
        ],
        [
         "34",
         "2023-05-22 00:00:00",
         "AAPL",
         "-0.005495841571453219"
        ],
        [
         "35",
         "2023-05-23 00:00:00",
         "AAPL",
         "-0.015271027237702128"
        ],
        [
         "36",
         "2023-05-24 00:00:00",
         "AAPL",
         "0.0016306996709483101"
        ],
        [
         "37",
         "2023-05-25 00:00:00",
         "AAPL",
         "0.006670183512732741"
        ],
        [
         "38",
         "2023-05-26 00:00:00",
         "AAPL",
         "0.014006118855931504"
        ],
        [
         "39",
         "2023-05-30 00:00:00",
         "AAPL",
         "0.010603118958864677"
        ],
        [
         "40",
         "2023-05-31 00:00:00",
         "AAPL",
         "-0.0002820790892403835"
        ],
        [
         "41",
         "2023-06-01 00:00:00",
         "AAPL",
         "0.015895535578661857"
        ],
        [
         "42",
         "2023-06-02 00:00:00",
         "AAPL",
         "0.004764195620284184"
        ],
        [
         "43",
         "2023-06-05 00:00:00",
         "AAPL",
         "-0.007600000187848899"
        ],
        [
         "44",
         "2023-06-06 00:00:00",
         "AAPL",
         "-0.0020625117318626707"
        ],
        [
         "45",
         "2023-06-07 00:00:00",
         "AAPL",
         "-0.007786433085795075"
        ],
        [
         "46",
         "2023-06-08 00:00:00",
         "AAPL",
         "0.015346697215246508"
        ],
        [
         "47",
         "2023-06-09 00:00:00",
         "AAPL",
         "0.0021574139826920913"
        ],
        [
         "48",
         "2023-06-12 00:00:00",
         "AAPL",
         "0.015517858570996523"
        ],
        [
         "49",
         "2023-06-13 00:00:00",
         "AAPL",
         "-0.0026151653471337966"
        ]
       ],
       "shape": {
        "columns": 3,
        "rows": 9724
       }
      },
      "text/html": [
       "<div>\n",
       "<style scoped>\n",
       "    .dataframe tbody tr th:only-of-type {\n",
       "        vertical-align: middle;\n",
       "    }\n",
       "\n",
       "    .dataframe tbody tr th {\n",
       "        vertical-align: top;\n",
       "    }\n",
       "\n",
       "    .dataframe thead th {\n",
       "        text-align: right;\n",
       "    }\n",
       "</style>\n",
       "<table border=\"1\" class=\"dataframe\">\n",
       "  <thead>\n",
       "    <tr style=\"text-align: right;\">\n",
       "      <th></th>\n",
       "      <th>Date</th>\n",
       "      <th>measure</th>\n",
       "      <th>value</th>\n",
       "    </tr>\n",
       "  </thead>\n",
       "  <tbody>\n",
       "    <tr>\n",
       "      <th>0</th>\n",
       "      <td>2023-04-03</td>\n",
       "      <td>AAPL</td>\n",
       "      <td>NaN</td>\n",
       "    </tr>\n",
       "    <tr>\n",
       "      <th>1</th>\n",
       "      <td>2023-04-04</td>\n",
       "      <td>AAPL</td>\n",
       "      <td>-0.003255</td>\n",
       "    </tr>\n",
       "    <tr>\n",
       "      <th>2</th>\n",
       "      <td>2023-04-05</td>\n",
       "      <td>AAPL</td>\n",
       "      <td>-0.011354</td>\n",
       "    </tr>\n",
       "    <tr>\n",
       "      <th>3</th>\n",
       "      <td>2023-04-06</td>\n",
       "      <td>AAPL</td>\n",
       "      <td>0.005481</td>\n",
       "    </tr>\n",
       "    <tr>\n",
       "      <th>4</th>\n",
       "      <td>2023-04-10</td>\n",
       "      <td>AAPL</td>\n",
       "      <td>-0.016102</td>\n",
       "    </tr>\n",
       "    <tr>\n",
       "      <th>...</th>\n",
       "      <td>...</td>\n",
       "      <td>...</td>\n",
       "      <td>...</td>\n",
       "    </tr>\n",
       "    <tr>\n",
       "      <th>9719</th>\n",
       "      <td>2025-07-09</td>\n",
       "      <td>^SOX</td>\n",
       "      <td>0.004381</td>\n",
       "    </tr>\n",
       "    <tr>\n",
       "      <th>9720</th>\n",
       "      <td>2025-07-10</td>\n",
       "      <td>^SOX</td>\n",
       "      <td>0.007436</td>\n",
       "    </tr>\n",
       "    <tr>\n",
       "      <th>9721</th>\n",
       "      <td>2025-07-11</td>\n",
       "      <td>^SOX</td>\n",
       "      <td>-0.002103</td>\n",
       "    </tr>\n",
       "    <tr>\n",
       "      <th>9722</th>\n",
       "      <td>2025-07-14</td>\n",
       "      <td>^SOX</td>\n",
       "      <td>-0.008740</td>\n",
       "    </tr>\n",
       "    <tr>\n",
       "      <th>9723</th>\n",
       "      <td>2025-07-15</td>\n",
       "      <td>^SOX</td>\n",
       "      <td>0.012651</td>\n",
       "    </tr>\n",
       "  </tbody>\n",
       "</table>\n",
       "<p>9724 rows × 3 columns</p>\n",
       "</div>"
      ],
      "text/plain": [
       "           Date measure     value\n",
       "0    2023-04-03    AAPL       NaN\n",
       "1    2023-04-04    AAPL -0.003255\n",
       "2    2023-04-05    AAPL -0.011354\n",
       "3    2023-04-06    AAPL  0.005481\n",
       "4    2023-04-10    AAPL -0.016102\n",
       "...         ...     ...       ...\n",
       "9719 2025-07-09    ^SOX  0.004381\n",
       "9720 2025-07-10    ^SOX  0.007436\n",
       "9721 2025-07-11    ^SOX -0.002103\n",
       "9722 2025-07-14    ^SOX -0.008740\n",
       "9723 2025-07-15    ^SOX  0.012651\n",
       "\n",
       "[9724 rows x 3 columns]"
      ]
     },
     "execution_count": 3,
     "metadata": {},
     "output_type": "execute_result"
    }
   ],
   "source": [
    "# fin data\n",
    "fin_path = data_path / \"raw\" / \"financial\" / \"full_daily_2023_2025.csv\"\n",
    "fin_data = pd.read_csv(fin_path)\n",
    "\n",
    "# ensure types and order \n",
    "fin_data[\"Date\"] = pd.to_datetime(fin_data[\"Date\"], errors=\"coerce\")\n",
    "fin_data[\"Adj Close\"] = pd.to_numeric(fin_data[\"Adj Close\"], errors=\"coerce\")\n",
    "fin_data = fin_data.sort_values([\"Ticker\", \"Date\"]).reset_index(drop=True)\n",
    "\n",
    "# log returns per Ticker: Δ log(Adj Close)\n",
    "fin_data[\"log_return\"] = (\n",
    "    fin_data.groupby(\"Ticker\")[\"Adj Close\"]\n",
    "            .transform(lambda s: np.log(s).diff())\n",
    ")\n",
    "\n",
    "# target col\n",
    "target_fin = [\"log_return\"]\n",
    "fin_data\n",
    "\n",
    "# ensure types and order \n",
    "fin_data[\"Date\"] = pd.to_datetime(fin_data[\"Date\"], errors=\"coerce\")\n",
    "fin_data[\"Adj Close\"] = pd.to_numeric(fin_data[\"Adj Close\"], errors=\"coerce\")\n",
    "fin_data = fin_data.sort_values([\"Ticker\", \"Date\"]).reset_index(drop=True)\n",
    "\n",
    "# log returns per Ticker: Δ log(Adj Close)\n",
    "fin_data[\"log_return\"] = (\n",
    "    fin_data.groupby(\"Ticker\")[\"Adj Close\"]\n",
    "            .transform(lambda s: np.log(s).diff())\n",
    ")\n",
    "\n",
    "# target col\n",
    "target_fin = [\"log_return\"]\n",
    "fin_data_test = pd.DataFrame()\n",
    "\n",
    "# subset \n",
    "fin_data_test[\"Date\"] = fin_data[\"Date\"] \n",
    "fin_data_test[\"measure\"] = fin_data[\"Ticker\"] \n",
    "fin_data_test[\"value\"] = fin_data[\"log_return\"] \n",
    "\n",
    "fin_data_test"
   ]
  },
  {
   "cell_type": "code",
   "execution_count": 4,
   "id": "5033eaf0",
   "metadata": {},
   "outputs": [
    {
     "data": {
      "application/vnd.microsoft.datawrangler.viewer.v0+json": {
       "columns": [
        {
         "name": "index",
         "rawType": "int64",
         "type": "integer"
        },
        {
         "name": "Date",
         "rawType": "datetime64[ns]",
         "type": "datetime"
        },
        {
         "name": "measure",
         "rawType": "object",
         "type": "string"
        },
        {
         "name": "value",
         "rawType": "float64",
         "type": "float"
        }
       ],
       "ref": "d09d9447-161b-4537-92f1-a93e49e98125",
       "rows": [
        [
         "0",
         "2023-04-03 00:00:00",
         "VIX",
         null
        ],
        [
         "1",
         "2023-04-04 00:00:00",
         "VIX",
         "0.0239691901129961"
        ],
        [
         "2",
         "2023-04-05 00:00:00",
         "VIX",
         "0.0042016868537002"
        ],
        [
         "3",
         "2023-04-06 00:00:00",
         "VIX",
         "-0.0362900014052005"
        ],
        [
         "4",
         "2023-04-10 00:00:00",
         "VIX",
         "0.0305081193319827"
        ],
        [
         "5",
         "2023-04-11 00:00:00",
         "VIX",
         "0.0068295511056617"
        ],
        [
         "6",
         "2023-04-12 00:00:00",
         "VIX",
         "-0.0005236973149282"
        ],
        [
         "7",
         "2023-04-13 00:00:00",
         "VIX",
         "-0.0699661804396165"
        ],
        [
         "8",
         "2023-04-14 00:00:00",
         "VIX",
         "-0.0418759204916905"
        ],
        [
         "9",
         "2023-04-17 00:00:00",
         "VIX",
         "-0.0070547029798899"
        ],
        [
         "10",
         "2023-04-18 00:00:00",
         "VIX",
         "-0.0071048256237444"
        ],
        [
         "11",
         "2023-04-19 00:00:00",
         "VIX",
         "-0.0222298129537907"
        ],
        [
         "12",
         "2023-04-20 00:00:00",
         "VIX",
         "0.0422304796604602"
        ],
        [
         "13",
         "2023-04-21 00:00:00",
         "VIX",
         "-0.0235720990742667"
        ],
        [
         "14",
         "2023-04-24 00:00:00",
         "VIX",
         "0.0071301549845914"
        ],
        [
         "15",
         "2023-04-25 00:00:00",
         "VIX",
         "0.1050052127583698"
        ],
        [
         "16",
         "2023-04-26 00:00:00",
         "VIX",
         "0.0042553255701385"
        ],
        [
         "17",
         "2023-04-27 00:00:00",
         "VIX",
         "-0.1010057744736201"
        ],
        [
         "18",
         "2023-04-28 00:00:00",
         "VIX",
         "-0.0762331792568686"
        ],
        [
         "19",
         "2023-05-01 00:00:00",
         "VIX",
         "0.0188329483330917"
        ],
        [
         "20",
         "2023-05-02 00:00:00",
         "VIX",
         "0.1004979663349385"
        ],
        [
         "21",
         "2023-05-03 00:00:00",
         "VIX",
         "0.0310102367425599"
        ],
        [
         "22",
         "2023-05-04 00:00:00",
         "VIX",
         "0.0911377119985243"
        ],
        [
         "23",
         "2023-05-05 00:00:00",
         "VIX",
         "-0.1558943594320849"
        ],
        [
         "24",
         "2023-05-08 00:00:00",
         "VIX",
         "-0.0122916385115567"
        ],
        [
         "25",
         "2023-05-09 00:00:00",
         "VIX",
         "0.0420932709115411"
        ],
        [
         "26",
         "2023-05-10 00:00:00",
         "VIX",
         "-0.044451762570834"
        ],
        [
         "27",
         "2023-05-11 00:00:00",
         "VIX",
         "-0.0005904930788642"
        ],
        [
         "28",
         "2023-05-12 00:00:00",
         "VIX",
         "0.0058892985295528"
        ],
        [
         "29",
         "2023-05-15 00:00:00",
         "VIX",
         "0.005270876038999"
        ],
        [
         "30",
         "2023-05-16 00:00:00",
         "VIX",
         "0.0495686772488457"
        ],
        [
         "31",
         "2023-05-17 00:00:00",
         "VIX",
         "-0.0642791514045648"
        ],
        [
         "32",
         "2023-05-18 00:00:00",
         "VIX",
         "-0.0498280469818519"
        ],
        [
         "33",
         "2023-05-19 00:00:00",
         "VIX",
         "0.0462650978444991"
        ],
        [
         "34",
         "2023-05-22 00:00:00",
         "VIX",
         "0.0235166628029239"
        ],
        [
         "35",
         "2023-05-23 00:00:00",
         "VIX",
         "0.0739004300738201"
        ],
        [
         "36",
         "2023-05-24 00:00:00",
         "VIX",
         "0.0778401093804586"
        ],
        [
         "37",
         "2023-05-25 00:00:00",
         "VIX",
         "-0.0454507636529184"
        ],
        [
         "38",
         "2023-05-26 00:00:00",
         "VIX",
         "-0.0641902710905206"
        ],
        [
         "39",
         "2023-05-29 00:00:00",
         "VIX",
         "-0.0276775645228317"
        ],
        [
         "40",
         "2023-05-30 00:00:00",
         "VIX",
         "0.0"
        ],
        [
         "41",
         "2023-05-31 00:00:00",
         "VIX",
         "0.027120306219194"
        ],
        [
         "42",
         "2023-06-01 00:00:00",
         "VIX",
         "-0.1365619396444879"
        ],
        [
         "43",
         "2023-06-02 00:00:00",
         "VIX",
         "-0.0694493882718711"
        ],
        [
         "44",
         "2023-06-05 00:00:00",
         "VIX",
         "0.0088647017602481"
        ],
        [
         "45",
         "2023-06-06 00:00:00",
         "VIX",
         "-0.0536901331403125"
        ],
        [
         "46",
         "2023-06-07 00:00:00",
         "VIX",
         "-0.0014336920018487"
        ],
        [
         "47",
         "2023-06-08 00:00:00",
         "VIX",
         "-0.0210228837014088"
        ],
        [
         "48",
         "2023-06-09 00:00:00",
         "VIX",
         "0.0131006240456978"
        ],
        [
         "49",
         "2023-06-12 00:00:00",
         "VIX",
         "0.0818764999687036"
        ]
       ],
       "shape": {
        "columns": 3,
        "rows": 568
       }
      },
      "text/html": [
       "<div>\n",
       "<style scoped>\n",
       "    .dataframe tbody tr th:only-of-type {\n",
       "        vertical-align: middle;\n",
       "    }\n",
       "\n",
       "    .dataframe tbody tr th {\n",
       "        vertical-align: top;\n",
       "    }\n",
       "\n",
       "    .dataframe thead th {\n",
       "        text-align: right;\n",
       "    }\n",
       "</style>\n",
       "<table border=\"1\" class=\"dataframe\">\n",
       "  <thead>\n",
       "    <tr style=\"text-align: right;\">\n",
       "      <th></th>\n",
       "      <th>Date</th>\n",
       "      <th>measure</th>\n",
       "      <th>value</th>\n",
       "    </tr>\n",
       "  </thead>\n",
       "  <tbody>\n",
       "    <tr>\n",
       "      <th>0</th>\n",
       "      <td>2023-04-03</td>\n",
       "      <td>VIX</td>\n",
       "      <td>NaN</td>\n",
       "    </tr>\n",
       "    <tr>\n",
       "      <th>1</th>\n",
       "      <td>2023-04-04</td>\n",
       "      <td>VIX</td>\n",
       "      <td>0.023969</td>\n",
       "    </tr>\n",
       "    <tr>\n",
       "      <th>2</th>\n",
       "      <td>2023-04-05</td>\n",
       "      <td>VIX</td>\n",
       "      <td>0.004202</td>\n",
       "    </tr>\n",
       "    <tr>\n",
       "      <th>3</th>\n",
       "      <td>2023-04-06</td>\n",
       "      <td>VIX</td>\n",
       "      <td>-0.036290</td>\n",
       "    </tr>\n",
       "    <tr>\n",
       "      <th>4</th>\n",
       "      <td>2023-04-10</td>\n",
       "      <td>VIX</td>\n",
       "      <td>0.030508</td>\n",
       "    </tr>\n",
       "    <tr>\n",
       "      <th>...</th>\n",
       "      <td>...</td>\n",
       "      <td>...</td>\n",
       "      <td>...</td>\n",
       "    </tr>\n",
       "    <tr>\n",
       "      <th>563</th>\n",
       "      <td>2025-06-09</td>\n",
       "      <td>VIX</td>\n",
       "      <td>0.022990</td>\n",
       "    </tr>\n",
       "    <tr>\n",
       "      <th>564</th>\n",
       "      <td>2025-06-10</td>\n",
       "      <td>VIX</td>\n",
       "      <td>-0.012313</td>\n",
       "    </tr>\n",
       "    <tr>\n",
       "      <th>565</th>\n",
       "      <td>2025-06-11</td>\n",
       "      <td>VIX</td>\n",
       "      <td>0.018124</td>\n",
       "    </tr>\n",
       "    <tr>\n",
       "      <th>566</th>\n",
       "      <td>2025-06-12</td>\n",
       "      <td>VIX</td>\n",
       "      <td>0.043091</td>\n",
       "    </tr>\n",
       "    <tr>\n",
       "      <th>567</th>\n",
       "      <td>2025-06-13</td>\n",
       "      <td>VIX</td>\n",
       "      <td>0.144432</td>\n",
       "    </tr>\n",
       "  </tbody>\n",
       "</table>\n",
       "<p>568 rows × 3 columns</p>\n",
       "</div>"
      ],
      "text/plain": [
       "          Date measure     value\n",
       "0   2023-04-03     VIX       NaN\n",
       "1   2023-04-04     VIX  0.023969\n",
       "2   2023-04-05     VIX  0.004202\n",
       "3   2023-04-06     VIX -0.036290\n",
       "4   2023-04-10     VIX  0.030508\n",
       "..         ...     ...       ...\n",
       "563 2025-06-09     VIX  0.022990\n",
       "564 2025-06-10     VIX -0.012313\n",
       "565 2025-06-11     VIX  0.018124\n",
       "566 2025-06-12     VIX  0.043091\n",
       "567 2025-06-13     VIX  0.144432\n",
       "\n",
       "[568 rows x 3 columns]"
      ]
     },
     "execution_count": 4,
     "metadata": {},
     "output_type": "execute_result"
    }
   ],
   "source": [
    "# vix data\n",
    "vix_path = data_path / \"processed\" / \"variables\" / \"log_growth_VIX.csv\"\n",
    "vix_data = pd.read_csv(vix_path)\n",
    "\n",
    "# subset \n",
    "vix_data_test = pd.DataFrame()\n",
    "vix_data_test[\"Date\"] = pd.to_datetime(vix_data[\"date\"])\n",
    "vix_data_test[\"measure\"] = \"VIX\"\n",
    "vix_data_test[\"value\"] = vix_data[\"log_growth_closed\"]\n",
    "\n",
    "vix_data_test"
   ]
  },
  {
   "cell_type": "code",
   "execution_count": 5,
   "id": "460f894e",
   "metadata": {},
   "outputs": [
    {
     "data": {
      "application/vnd.microsoft.datawrangler.viewer.v0+json": {
       "columns": [
        {
         "name": "index",
         "rawType": "int64",
         "type": "integer"
        },
        {
         "name": "Date",
         "rawType": "datetime64[ns]",
         "type": "datetime"
        },
        {
         "name": "Measure",
         "rawType": "object",
         "type": "string"
        },
        {
         "name": "Value",
         "rawType": "float64",
         "type": "float"
        }
       ],
       "ref": "f4ac36e6-3feb-4c5b-aa3c-70e29be17a1f",
       "rows": [
        [
         "0",
         "2023-04-03 00:00:00",
         "VIX",
         null
        ],
        [
         "1",
         "2023-04-04 00:00:00",
         "VIX",
         "0.0239691901129961"
        ],
        [
         "2",
         "2023-04-05 00:00:00",
         "VIX",
         "0.0042016868537002"
        ],
        [
         "3",
         "2023-04-06 00:00:00",
         "VIX",
         "-0.0362900014052005"
        ],
        [
         "4",
         "2023-04-10 00:00:00",
         "VIX",
         "0.0305081193319827"
        ],
        [
         "5",
         "2023-04-11 00:00:00",
         "VIX",
         "0.0068295511056617"
        ],
        [
         "6",
         "2023-04-12 00:00:00",
         "VIX",
         "-0.0005236973149282"
        ],
        [
         "7",
         "2023-04-13 00:00:00",
         "VIX",
         "-0.0699661804396165"
        ],
        [
         "8",
         "2023-04-14 00:00:00",
         "VIX",
         "-0.0418759204916905"
        ],
        [
         "9",
         "2023-04-17 00:00:00",
         "VIX",
         "-0.0070547029798899"
        ],
        [
         "10",
         "2023-04-18 00:00:00",
         "VIX",
         "-0.0071048256237444"
        ],
        [
         "11",
         "2023-04-19 00:00:00",
         "VIX",
         "-0.0222298129537907"
        ],
        [
         "12",
         "2023-04-20 00:00:00",
         "VIX",
         "0.0422304796604602"
        ],
        [
         "13",
         "2023-04-21 00:00:00",
         "VIX",
         "-0.0235720990742667"
        ],
        [
         "14",
         "2023-04-24 00:00:00",
         "VIX",
         "0.0071301549845914"
        ],
        [
         "15",
         "2023-04-25 00:00:00",
         "VIX",
         "0.1050052127583698"
        ],
        [
         "16",
         "2023-04-26 00:00:00",
         "VIX",
         "0.0042553255701385"
        ],
        [
         "17",
         "2023-04-27 00:00:00",
         "VIX",
         "-0.1010057744736201"
        ],
        [
         "18",
         "2023-04-28 00:00:00",
         "VIX",
         "-0.0762331792568686"
        ],
        [
         "19",
         "2023-05-01 00:00:00",
         "VIX",
         "0.0188329483330917"
        ],
        [
         "20",
         "2023-05-02 00:00:00",
         "VIX",
         "0.1004979663349385"
        ],
        [
         "21",
         "2023-05-03 00:00:00",
         "VIX",
         "0.0310102367425599"
        ],
        [
         "22",
         "2023-05-04 00:00:00",
         "VIX",
         "0.0911377119985243"
        ],
        [
         "23",
         "2023-05-05 00:00:00",
         "VIX",
         "-0.1558943594320849"
        ],
        [
         "24",
         "2023-05-08 00:00:00",
         "VIX",
         "-0.0122916385115567"
        ],
        [
         "25",
         "2023-05-09 00:00:00",
         "VIX",
         "0.0420932709115411"
        ],
        [
         "26",
         "2023-05-10 00:00:00",
         "VIX",
         "-0.044451762570834"
        ],
        [
         "27",
         "2023-05-11 00:00:00",
         "VIX",
         "-0.0005904930788642"
        ],
        [
         "28",
         "2023-05-12 00:00:00",
         "VIX",
         "0.0058892985295528"
        ],
        [
         "29",
         "2023-05-15 00:00:00",
         "VIX",
         "0.005270876038999"
        ],
        [
         "30",
         "2023-05-16 00:00:00",
         "VIX",
         "0.0495686772488457"
        ],
        [
         "31",
         "2023-05-17 00:00:00",
         "VIX",
         "-0.0642791514045648"
        ],
        [
         "32",
         "2023-05-18 00:00:00",
         "VIX",
         "-0.0498280469818519"
        ],
        [
         "33",
         "2023-05-19 00:00:00",
         "VIX",
         "0.0462650978444991"
        ],
        [
         "34",
         "2023-05-22 00:00:00",
         "VIX",
         "0.0235166628029239"
        ],
        [
         "35",
         "2023-05-23 00:00:00",
         "VIX",
         "0.0739004300738201"
        ],
        [
         "36",
         "2023-05-24 00:00:00",
         "VIX",
         "0.0778401093804586"
        ],
        [
         "37",
         "2023-05-25 00:00:00",
         "VIX",
         "-0.0454507636529184"
        ],
        [
         "38",
         "2023-05-26 00:00:00",
         "VIX",
         "-0.0641902710905206"
        ],
        [
         "39",
         "2023-05-29 00:00:00",
         "VIX",
         "-0.0276775645228317"
        ],
        [
         "40",
         "2023-05-30 00:00:00",
         "VIX",
         "0.0"
        ],
        [
         "41",
         "2023-05-31 00:00:00",
         "VIX",
         "0.027120306219194"
        ],
        [
         "42",
         "2023-06-01 00:00:00",
         "VIX",
         "-0.1365619396444879"
        ],
        [
         "43",
         "2023-06-02 00:00:00",
         "VIX",
         "-0.0694493882718711"
        ],
        [
         "44",
         "2023-06-05 00:00:00",
         "VIX",
         "0.0088647017602481"
        ],
        [
         "45",
         "2023-06-06 00:00:00",
         "VIX",
         "-0.0536901331403125"
        ],
        [
         "46",
         "2023-06-07 00:00:00",
         "VIX",
         "-0.0014336920018487"
        ],
        [
         "47",
         "2023-06-08 00:00:00",
         "VIX",
         "-0.0210228837014088"
        ],
        [
         "48",
         "2023-06-09 00:00:00",
         "VIX",
         "0.0131006240456978"
        ],
        [
         "49",
         "2023-06-12 00:00:00",
         "VIX",
         "0.0818764999687036"
        ]
       ],
       "shape": {
        "columns": 3,
        "rows": 22788
       }
      },
      "text/html": [
       "<div>\n",
       "<style scoped>\n",
       "    .dataframe tbody tr th:only-of-type {\n",
       "        vertical-align: middle;\n",
       "    }\n",
       "\n",
       "    .dataframe tbody tr th {\n",
       "        vertical-align: top;\n",
       "    }\n",
       "\n",
       "    .dataframe thead th {\n",
       "        text-align: right;\n",
       "    }\n",
       "</style>\n",
       "<table border=\"1\" class=\"dataframe\">\n",
       "  <thead>\n",
       "    <tr style=\"text-align: right;\">\n",
       "      <th></th>\n",
       "      <th>Date</th>\n",
       "      <th>Measure</th>\n",
       "      <th>Value</th>\n",
       "    </tr>\n",
       "  </thead>\n",
       "  <tbody>\n",
       "    <tr>\n",
       "      <th>0</th>\n",
       "      <td>2023-04-03</td>\n",
       "      <td>VIX</td>\n",
       "      <td>NaN</td>\n",
       "    </tr>\n",
       "    <tr>\n",
       "      <th>1</th>\n",
       "      <td>2023-04-04</td>\n",
       "      <td>VIX</td>\n",
       "      <td>0.023969</td>\n",
       "    </tr>\n",
       "    <tr>\n",
       "      <th>2</th>\n",
       "      <td>2023-04-05</td>\n",
       "      <td>VIX</td>\n",
       "      <td>0.004202</td>\n",
       "    </tr>\n",
       "    <tr>\n",
       "      <th>3</th>\n",
       "      <td>2023-04-06</td>\n",
       "      <td>VIX</td>\n",
       "      <td>-0.036290</td>\n",
       "    </tr>\n",
       "    <tr>\n",
       "      <th>4</th>\n",
       "      <td>2023-04-10</td>\n",
       "      <td>VIX</td>\n",
       "      <td>0.030508</td>\n",
       "    </tr>\n",
       "    <tr>\n",
       "      <th>...</th>\n",
       "      <td>...</td>\n",
       "      <td>...</td>\n",
       "      <td>...</td>\n",
       "    </tr>\n",
       "    <tr>\n",
       "      <th>12491</th>\n",
       "      <td>2025-06-12</td>\n",
       "      <td>w2_normalized_AINI_z</td>\n",
       "      <td>0.108297</td>\n",
       "    </tr>\n",
       "    <tr>\n",
       "      <th>12492</th>\n",
       "      <td>2025-06-13</td>\n",
       "      <td>w2_normalized_AINI_z</td>\n",
       "      <td>2.046412</td>\n",
       "    </tr>\n",
       "    <tr>\n",
       "      <th>12493</th>\n",
       "      <td>2025-06-14</td>\n",
       "      <td>w2_normalized_AINI_z</td>\n",
       "      <td>0.108297</td>\n",
       "    </tr>\n",
       "    <tr>\n",
       "      <th>12494</th>\n",
       "      <td>2025-06-15</td>\n",
       "      <td>w2_normalized_AINI_z</td>\n",
       "      <td>0.108297</td>\n",
       "    </tr>\n",
       "    <tr>\n",
       "      <th>12495</th>\n",
       "      <td>2025-06-16</td>\n",
       "      <td>w2_normalized_AINI_z</td>\n",
       "      <td>3.984527</td>\n",
       "    </tr>\n",
       "  </tbody>\n",
       "</table>\n",
       "<p>22788 rows × 3 columns</p>\n",
       "</div>"
      ],
      "text/plain": [
       "            Date               Measure     Value\n",
       "0     2023-04-03                   VIX       NaN\n",
       "1     2023-04-04                   VIX  0.023969\n",
       "2     2023-04-05                   VIX  0.004202\n",
       "3     2023-04-06                   VIX -0.036290\n",
       "4     2023-04-10                   VIX  0.030508\n",
       "...          ...                   ...       ...\n",
       "12491 2025-06-12  w2_normalized_AINI_z  0.108297\n",
       "12492 2025-06-13  w2_normalized_AINI_z  2.046412\n",
       "12493 2025-06-14  w2_normalized_AINI_z  0.108297\n",
       "12494 2025-06-15  w2_normalized_AINI_z  0.108297\n",
       "12495 2025-06-16  w2_normalized_AINI_z  3.984527\n",
       "\n",
       "[22788 rows x 3 columns]"
      ]
     },
     "execution_count": 5,
     "metadata": {},
     "output_type": "execute_result"
    }
   ],
   "source": [
    "# concat all \n",
    "test_all = pd.concat([vix_data_test,fin_data_test,aini_data_test])\n",
    "test_all = test_all.rename({\"measure\":\"Measure\",\"value\":\"Value\"},axis=1)\n",
    "test_all"
   ]
  },
  {
   "cell_type": "code",
   "execution_count": 10,
   "id": "dced35fb",
   "metadata": {},
   "outputs": [
    {
     "name": "stderr",
     "output_type": "stream",
     "text": [
      "C:\\Users\\PC\\Desktop\\Masterarbeit\\AI_narrative_index\\src\\modelling\\stationarity_report.py:35: InterpolationWarning: The test statistic is outside of the range of p-values available in the\n",
      "look-up table. The actual p-value is greater than the p-value returned.\n",
      "\n",
      "  kpss_stat, kpss_p, *_ = kpss(s, regression=kpss_regression, nlags=kpss_nlags)\n",
      "C:\\Users\\PC\\Desktop\\Masterarbeit\\AI_narrative_index\\src\\modelling\\stationarity_report.py:35: InterpolationWarning: The test statistic is outside of the range of p-values available in the\n",
      "look-up table. The actual p-value is greater than the p-value returned.\n",
      "\n",
      "  kpss_stat, kpss_p, *_ = kpss(s, regression=kpss_regression, nlags=kpss_nlags)\n",
      "C:\\Users\\PC\\Desktop\\Masterarbeit\\AI_narrative_index\\src\\modelling\\stationarity_report.py:35: InterpolationWarning: The test statistic is outside of the range of p-values available in the\n",
      "look-up table. The actual p-value is greater than the p-value returned.\n",
      "\n",
      "  kpss_stat, kpss_p, *_ = kpss(s, regression=kpss_regression, nlags=kpss_nlags)\n",
      "C:\\Users\\PC\\Desktop\\Masterarbeit\\AI_narrative_index\\src\\modelling\\stationarity_report.py:35: InterpolationWarning: The test statistic is outside of the range of p-values available in the\n",
      "look-up table. The actual p-value is greater than the p-value returned.\n",
      "\n",
      "  kpss_stat, kpss_p, *_ = kpss(s, regression=kpss_regression, nlags=kpss_nlags)\n",
      "C:\\Users\\PC\\Desktop\\Masterarbeit\\AI_narrative_index\\src\\modelling\\stationarity_report.py:35: InterpolationWarning: The test statistic is outside of the range of p-values available in the\n",
      "look-up table. The actual p-value is greater than the p-value returned.\n",
      "\n",
      "  kpss_stat, kpss_p, *_ = kpss(s, regression=kpss_regression, nlags=kpss_nlags)\n",
      "C:\\Users\\PC\\Desktop\\Masterarbeit\\AI_narrative_index\\src\\modelling\\stationarity_report.py:35: InterpolationWarning: The test statistic is outside of the range of p-values available in the\n",
      "look-up table. The actual p-value is greater than the p-value returned.\n",
      "\n",
      "  kpss_stat, kpss_p, *_ = kpss(s, regression=kpss_regression, nlags=kpss_nlags)\n",
      "C:\\Users\\PC\\Desktop\\Masterarbeit\\AI_narrative_index\\src\\modelling\\stationarity_report.py:35: InterpolationWarning: The test statistic is outside of the range of p-values available in the\n",
      "look-up table. The actual p-value is greater than the p-value returned.\n",
      "\n",
      "  kpss_stat, kpss_p, *_ = kpss(s, regression=kpss_regression, nlags=kpss_nlags)\n",
      "C:\\Users\\PC\\Desktop\\Masterarbeit\\AI_narrative_index\\src\\modelling\\stationarity_report.py:35: InterpolationWarning: The test statistic is outside of the range of p-values available in the\n",
      "look-up table. The actual p-value is greater than the p-value returned.\n",
      "\n",
      "  kpss_stat, kpss_p, *_ = kpss(s, regression=kpss_regression, nlags=kpss_nlags)\n",
      "C:\\Users\\PC\\Desktop\\Masterarbeit\\AI_narrative_index\\src\\modelling\\stationarity_report.py:35: InterpolationWarning: The test statistic is outside of the range of p-values available in the\n",
      "look-up table. The actual p-value is greater than the p-value returned.\n",
      "\n",
      "  kpss_stat, kpss_p, *_ = kpss(s, regression=kpss_regression, nlags=kpss_nlags)\n",
      "C:\\Users\\PC\\Desktop\\Masterarbeit\\AI_narrative_index\\src\\modelling\\stationarity_report.py:35: InterpolationWarning: The test statistic is outside of the range of p-values available in the\n",
      "look-up table. The actual p-value is greater than the p-value returned.\n",
      "\n",
      "  kpss_stat, kpss_p, *_ = kpss(s, regression=kpss_regression, nlags=kpss_nlags)\n",
      "C:\\Users\\PC\\Desktop\\Masterarbeit\\AI_narrative_index\\src\\modelling\\stationarity_report.py:35: InterpolationWarning: The test statistic is outside of the range of p-values available in the\n",
      "look-up table. The actual p-value is greater than the p-value returned.\n",
      "\n",
      "  kpss_stat, kpss_p, *_ = kpss(s, regression=kpss_regression, nlags=kpss_nlags)\n",
      "C:\\Users\\PC\\Desktop\\Masterarbeit\\AI_narrative_index\\src\\modelling\\stationarity_report.py:35: InterpolationWarning: The test statistic is outside of the range of p-values available in the\n",
      "look-up table. The actual p-value is greater than the p-value returned.\n",
      "\n",
      "  kpss_stat, kpss_p, *_ = kpss(s, regression=kpss_regression, nlags=kpss_nlags)\n",
      "C:\\Users\\PC\\Desktop\\Masterarbeit\\AI_narrative_index\\src\\modelling\\stationarity_report.py:35: InterpolationWarning: The test statistic is outside of the range of p-values available in the\n",
      "look-up table. The actual p-value is greater than the p-value returned.\n",
      "\n",
      "  kpss_stat, kpss_p, *_ = kpss(s, regression=kpss_regression, nlags=kpss_nlags)\n",
      "C:\\Users\\PC\\Desktop\\Masterarbeit\\AI_narrative_index\\src\\modelling\\stationarity_report.py:35: InterpolationWarning: The test statistic is outside of the range of p-values available in the\n",
      "look-up table. The actual p-value is greater than the p-value returned.\n",
      "\n",
      "  kpss_stat, kpss_p, *_ = kpss(s, regression=kpss_regression, nlags=kpss_nlags)\n",
      "C:\\Users\\PC\\Desktop\\Masterarbeit\\AI_narrative_index\\src\\modelling\\stationarity_report.py:35: InterpolationWarning: The test statistic is outside of the range of p-values available in the\n",
      "look-up table. The actual p-value is greater than the p-value returned.\n",
      "\n",
      "  kpss_stat, kpss_p, *_ = kpss(s, regression=kpss_regression, nlags=kpss_nlags)\n",
      "C:\\Users\\PC\\Desktop\\Masterarbeit\\AI_narrative_index\\src\\modelling\\stationarity_report.py:35: InterpolationWarning: The test statistic is outside of the range of p-values available in the\n",
      "look-up table. The actual p-value is greater than the p-value returned.\n",
      "\n",
      "  kpss_stat, kpss_p, *_ = kpss(s, regression=kpss_regression, nlags=kpss_nlags)\n",
      "C:\\Users\\PC\\Desktop\\Masterarbeit\\AI_narrative_index\\src\\modelling\\stationarity_report.py:35: InterpolationWarning: The test statistic is outside of the range of p-values available in the\n",
      "look-up table. The actual p-value is greater than the p-value returned.\n",
      "\n",
      "  kpss_stat, kpss_p, *_ = kpss(s, regression=kpss_regression, nlags=kpss_nlags)\n",
      "C:\\Users\\PC\\Desktop\\Masterarbeit\\AI_narrative_index\\src\\modelling\\stationarity_report.py:35: InterpolationWarning: The test statistic is outside of the range of p-values available in the\n",
      "look-up table. The actual p-value is greater than the p-value returned.\n",
      "\n",
      "  kpss_stat, kpss_p, *_ = kpss(s, regression=kpss_regression, nlags=kpss_nlags)\n",
      "C:\\Users\\PC\\Desktop\\Masterarbeit\\AI_narrative_index\\src\\modelling\\stationarity_report.py:35: InterpolationWarning: The test statistic is outside of the range of p-values available in the\n",
      "look-up table. The actual p-value is greater than the p-value returned.\n",
      "\n",
      "  kpss_stat, kpss_p, *_ = kpss(s, regression=kpss_regression, nlags=kpss_nlags)\n",
      "C:\\Users\\PC\\Desktop\\Masterarbeit\\AI_narrative_index\\src\\modelling\\stationarity_report.py:35: InterpolationWarning: The test statistic is outside of the range of p-values available in the\n",
      "look-up table. The actual p-value is greater than the p-value returned.\n",
      "\n",
      "  kpss_stat, kpss_p, *_ = kpss(s, regression=kpss_regression, nlags=kpss_nlags)\n",
      "C:\\Users\\PC\\Desktop\\Masterarbeit\\AI_narrative_index\\src\\modelling\\stationarity_report.py:35: InterpolationWarning: The test statistic is outside of the range of p-values available in the\n",
      "look-up table. The actual p-value is greater than the p-value returned.\n",
      "\n",
      "  kpss_stat, kpss_p, *_ = kpss(s, regression=kpss_regression, nlags=kpss_nlags)\n",
      "C:\\Users\\PC\\Desktop\\Masterarbeit\\AI_narrative_index\\src\\modelling\\stationarity_report.py:35: InterpolationWarning: The test statistic is outside of the range of p-values available in the\n",
      "look-up table. The actual p-value is greater than the p-value returned.\n",
      "\n",
      "  kpss_stat, kpss_p, *_ = kpss(s, regression=kpss_regression, nlags=kpss_nlags)\n",
      "C:\\Users\\PC\\Desktop\\Masterarbeit\\AI_narrative_index\\src\\modelling\\stationarity_report.py:35: InterpolationWarning: The test statistic is outside of the range of p-values available in the\n",
      "look-up table. The actual p-value is greater than the p-value returned.\n",
      "\n",
      "  kpss_stat, kpss_p, *_ = kpss(s, regression=kpss_regression, nlags=kpss_nlags)\n",
      "C:\\Users\\PC\\Desktop\\Masterarbeit\\AI_narrative_index\\src\\modelling\\stationarity_report.py:35: InterpolationWarning: The test statistic is outside of the range of p-values available in the\n",
      "look-up table. The actual p-value is greater than the p-value returned.\n",
      "\n",
      "  kpss_stat, kpss_p, *_ = kpss(s, regression=kpss_regression, nlags=kpss_nlags)\n",
      "C:\\Users\\PC\\Desktop\\Masterarbeit\\AI_narrative_index\\src\\modelling\\stationarity_report.py:35: InterpolationWarning: The test statistic is outside of the range of p-values available in the\n",
      "look-up table. The actual p-value is greater than the p-value returned.\n",
      "\n",
      "  kpss_stat, kpss_p, *_ = kpss(s, regression=kpss_regression, nlags=kpss_nlags)\n",
      "C:\\Users\\PC\\Desktop\\Masterarbeit\\AI_narrative_index\\src\\modelling\\stationarity_report.py:35: InterpolationWarning: The test statistic is outside of the range of p-values available in the\n",
      "look-up table. The actual p-value is greater than the p-value returned.\n",
      "\n",
      "  kpss_stat, kpss_p, *_ = kpss(s, regression=kpss_regression, nlags=kpss_nlags)\n",
      "C:\\Users\\PC\\Desktop\\Masterarbeit\\AI_narrative_index\\src\\modelling\\stationarity_report.py:35: InterpolationWarning: The test statistic is outside of the range of p-values available in the\n",
      "look-up table. The actual p-value is greater than the p-value returned.\n",
      "\n",
      "  kpss_stat, kpss_p, *_ = kpss(s, regression=kpss_regression, nlags=kpss_nlags)\n",
      "C:\\Users\\PC\\Desktop\\Masterarbeit\\AI_narrative_index\\src\\modelling\\stationarity_report.py:35: InterpolationWarning: The test statistic is outside of the range of p-values available in the\n",
      "look-up table. The actual p-value is greater than the p-value returned.\n",
      "\n",
      "  kpss_stat, kpss_p, *_ = kpss(s, regression=kpss_regression, nlags=kpss_nlags)\n",
      "C:\\Users\\PC\\Desktop\\Masterarbeit\\AI_narrative_index\\src\\modelling\\stationarity_report.py:35: InterpolationWarning: The test statistic is outside of the range of p-values available in the\n",
      "look-up table. The actual p-value is greater than the p-value returned.\n",
      "\n",
      "  kpss_stat, kpss_p, *_ = kpss(s, regression=kpss_regression, nlags=kpss_nlags)\n",
      "C:\\Users\\PC\\Desktop\\Masterarbeit\\AI_narrative_index\\src\\modelling\\stationarity_report.py:35: InterpolationWarning: The test statistic is outside of the range of p-values available in the\n",
      "look-up table. The actual p-value is greater than the p-value returned.\n",
      "\n",
      "  kpss_stat, kpss_p, *_ = kpss(s, regression=kpss_regression, nlags=kpss_nlags)\n",
      "C:\\Users\\PC\\Desktop\\Masterarbeit\\AI_narrative_index\\src\\modelling\\stationarity_report.py:35: InterpolationWarning: The test statistic is outside of the range of p-values available in the\n",
      "look-up table. The actual p-value is greater than the p-value returned.\n",
      "\n",
      "  kpss_stat, kpss_p, *_ = kpss(s, regression=kpss_regression, nlags=kpss_nlags)\n",
      "C:\\Users\\PC\\Desktop\\Masterarbeit\\AI_narrative_index\\src\\modelling\\stationarity_report.py:35: InterpolationWarning: The test statistic is outside of the range of p-values available in the\n",
      "look-up table. The actual p-value is greater than the p-value returned.\n",
      "\n",
      "  kpss_stat, kpss_p, *_ = kpss(s, regression=kpss_regression, nlags=kpss_nlags)\n",
      "C:\\Users\\PC\\Desktop\\Masterarbeit\\AI_narrative_index\\src\\modelling\\stationarity_report.py:35: InterpolationWarning: The test statistic is outside of the range of p-values available in the\n",
      "look-up table. The actual p-value is greater than the p-value returned.\n",
      "\n",
      "  kpss_stat, kpss_p, *_ = kpss(s, regression=kpss_regression, nlags=kpss_nlags)\n",
      "C:\\Users\\PC\\Desktop\\Masterarbeit\\AI_narrative_index\\src\\modelling\\stationarity_report.py:35: InterpolationWarning: The test statistic is outside of the range of p-values available in the\n",
      "look-up table. The actual p-value is greater than the p-value returned.\n",
      "\n",
      "  kpss_stat, kpss_p, *_ = kpss(s, regression=kpss_regression, nlags=kpss_nlags)\n",
      "C:\\Users\\PC\\Desktop\\Masterarbeit\\AI_narrative_index\\src\\modelling\\stationarity_report.py:35: InterpolationWarning: The test statistic is outside of the range of p-values available in the\n",
      "look-up table. The actual p-value is greater than the p-value returned.\n",
      "\n",
      "  kpss_stat, kpss_p, *_ = kpss(s, regression=kpss_regression, nlags=kpss_nlags)\n",
      "C:\\Users\\PC\\Desktop\\Masterarbeit\\AI_narrative_index\\src\\modelling\\stationarity_report.py:35: InterpolationWarning: The test statistic is outside of the range of p-values available in the\n",
      "look-up table. The actual p-value is greater than the p-value returned.\n",
      "\n",
      "  kpss_stat, kpss_p, *_ = kpss(s, regression=kpss_regression, nlags=kpss_nlags)\n",
      "C:\\Users\\PC\\Desktop\\Masterarbeit\\AI_narrative_index\\src\\modelling\\stationarity_report.py:35: InterpolationWarning: The test statistic is outside of the range of p-values available in the\n",
      "look-up table. The actual p-value is greater than the p-value returned.\n",
      "\n",
      "  kpss_stat, kpss_p, *_ = kpss(s, regression=kpss_regression, nlags=kpss_nlags)\n",
      "C:\\Users\\PC\\Desktop\\Masterarbeit\\AI_narrative_index\\src\\modelling\\stationarity_report.py:35: InterpolationWarning: The test statistic is outside of the range of p-values available in the\n",
      "look-up table. The actual p-value is greater than the p-value returned.\n",
      "\n",
      "  kpss_stat, kpss_p, *_ = kpss(s, regression=kpss_regression, nlags=kpss_nlags)\n",
      "C:\\Users\\PC\\Desktop\\Masterarbeit\\AI_narrative_index\\src\\modelling\\stationarity_report.py:35: InterpolationWarning: The test statistic is outside of the range of p-values available in the\n",
      "look-up table. The actual p-value is greater than the p-value returned.\n",
      "\n",
      "  kpss_stat, kpss_p, *_ = kpss(s, regression=kpss_regression, nlags=kpss_nlags)\n",
      "C:\\Users\\PC\\Desktop\\Masterarbeit\\AI_narrative_index\\src\\modelling\\stationarity_report.py:35: InterpolationWarning: The test statistic is outside of the range of p-values available in the\n",
      "look-up table. The actual p-value is greater than the p-value returned.\n",
      "\n",
      "  kpss_stat, kpss_p, *_ = kpss(s, regression=kpss_regression, nlags=kpss_nlags)\n",
      "C:\\Users\\PC\\Desktop\\Masterarbeit\\AI_narrative_index\\src\\modelling\\stationarity_report.py:35: InterpolationWarning: The test statistic is outside of the range of p-values available in the\n",
      "look-up table. The actual p-value is greater than the p-value returned.\n",
      "\n",
      "  kpss_stat, kpss_p, *_ = kpss(s, regression=kpss_regression, nlags=kpss_nlags)\n",
      "C:\\Users\\PC\\Desktop\\Masterarbeit\\AI_narrative_index\\src\\modelling\\stationarity_report.py:35: InterpolationWarning: The test statistic is outside of the range of p-values available in the\n",
      "look-up table. The actual p-value is greater than the p-value returned.\n",
      "\n",
      "  kpss_stat, kpss_p, *_ = kpss(s, regression=kpss_regression, nlags=kpss_nlags)\n",
      "C:\\Users\\PC\\Desktop\\Masterarbeit\\AI_narrative_index\\src\\modelling\\stationarity_report.py:35: InterpolationWarning: The test statistic is outside of the range of p-values available in the\n",
      "look-up table. The actual p-value is greater than the p-value returned.\n",
      "\n",
      "  kpss_stat, kpss_p, *_ = kpss(s, regression=kpss_regression, nlags=kpss_nlags)\n",
      "C:\\Users\\PC\\Desktop\\Masterarbeit\\AI_narrative_index\\src\\modelling\\stationarity_report.py:35: InterpolationWarning: The test statistic is outside of the range of p-values available in the\n",
      "look-up table. The actual p-value is greater than the p-value returned.\n",
      "\n",
      "  kpss_stat, kpss_p, *_ = kpss(s, regression=kpss_regression, nlags=kpss_nlags)\n",
      "C:\\Users\\PC\\Desktop\\Masterarbeit\\AI_narrative_index\\src\\modelling\\stationarity_report.py:35: InterpolationWarning: The test statistic is outside of the range of p-values available in the\n",
      "look-up table. The actual p-value is greater than the p-value returned.\n",
      "\n",
      "  kpss_stat, kpss_p, *_ = kpss(s, regression=kpss_regression, nlags=kpss_nlags)\n",
      "C:\\Users\\PC\\Desktop\\Masterarbeit\\AI_narrative_index\\src\\modelling\\stationarity_report.py:35: InterpolationWarning: The test statistic is outside of the range of p-values available in the\n",
      "look-up table. The actual p-value is greater than the p-value returned.\n",
      "\n",
      "  kpss_stat, kpss_p, *_ = kpss(s, regression=kpss_regression, nlags=kpss_nlags)\n",
      "C:\\Users\\PC\\Desktop\\Masterarbeit\\AI_narrative_index\\src\\modelling\\stationarity_report.py:35: InterpolationWarning: The test statistic is outside of the range of p-values available in the\n",
      "look-up table. The actual p-value is greater than the p-value returned.\n",
      "\n",
      "  kpss_stat, kpss_p, *_ = kpss(s, regression=kpss_regression, nlags=kpss_nlags)\n",
      "C:\\Users\\PC\\Desktop\\Masterarbeit\\AI_narrative_index\\src\\modelling\\stationarity_report.py:35: InterpolationWarning: The test statistic is outside of the range of p-values available in the\n",
      "look-up table. The actual p-value is greater than the p-value returned.\n",
      "\n",
      "  kpss_stat, kpss_p, *_ = kpss(s, regression=kpss_regression, nlags=kpss_nlags)\n",
      "C:\\Users\\PC\\Desktop\\Masterarbeit\\AI_narrative_index\\src\\modelling\\stationarity_report.py:35: InterpolationWarning: The test statistic is outside of the range of p-values available in the\n",
      "look-up table. The actual p-value is greater than the p-value returned.\n",
      "\n",
      "  kpss_stat, kpss_p, *_ = kpss(s, regression=kpss_regression, nlags=kpss_nlags)\n",
      "C:\\Users\\PC\\Desktop\\Masterarbeit\\AI_narrative_index\\src\\modelling\\stationarity_report.py:35: InterpolationWarning: The test statistic is outside of the range of p-values available in the\n",
      "look-up table. The actual p-value is greater than the p-value returned.\n",
      "\n",
      "  kpss_stat, kpss_p, *_ = kpss(s, regression=kpss_regression, nlags=kpss_nlags)\n",
      "C:\\Users\\PC\\Desktop\\Masterarbeit\\AI_narrative_index\\src\\modelling\\stationarity_report.py:35: InterpolationWarning: The test statistic is outside of the range of p-values available in the\n",
      "look-up table. The actual p-value is greater than the p-value returned.\n",
      "\n",
      "  kpss_stat, kpss_p, *_ = kpss(s, regression=kpss_regression, nlags=kpss_nlags)\n",
      "C:\\Users\\PC\\Desktop\\Masterarbeit\\AI_narrative_index\\src\\modelling\\stationarity_report.py:35: InterpolationWarning: The test statistic is outside of the range of p-values available in the\n",
      "look-up table. The actual p-value is greater than the p-value returned.\n",
      "\n",
      "  kpss_stat, kpss_p, *_ = kpss(s, regression=kpss_regression, nlags=kpss_nlags)\n",
      "C:\\Users\\PC\\Desktop\\Masterarbeit\\AI_narrative_index\\src\\modelling\\stationarity_report.py:35: InterpolationWarning: The test statistic is outside of the range of p-values available in the\n",
      "look-up table. The actual p-value is greater than the p-value returned.\n",
      "\n",
      "  kpss_stat, kpss_p, *_ = kpss(s, regression=kpss_regression, nlags=kpss_nlags)\n",
      "C:\\Users\\PC\\Desktop\\Masterarbeit\\AI_narrative_index\\src\\modelling\\stationarity_report.py:35: InterpolationWarning: The test statistic is outside of the range of p-values available in the\n",
      "look-up table. The actual p-value is greater than the p-value returned.\n",
      "\n",
      "  kpss_stat, kpss_p, *_ = kpss(s, regression=kpss_regression, nlags=kpss_nlags)\n",
      "C:\\Users\\PC\\Desktop\\Masterarbeit\\AI_narrative_index\\src\\modelling\\stationarity_report.py:35: InterpolationWarning: The test statistic is outside of the range of p-values available in the\n",
      "look-up table. The actual p-value is greater than the p-value returned.\n",
      "\n",
      "  kpss_stat, kpss_p, *_ = kpss(s, regression=kpss_regression, nlags=kpss_nlags)\n",
      "C:\\Users\\PC\\Desktop\\Masterarbeit\\AI_narrative_index\\src\\modelling\\stationarity_report.py:35: InterpolationWarning: The test statistic is outside of the range of p-values available in the\n",
      "look-up table. The actual p-value is greater than the p-value returned.\n",
      "\n",
      "  kpss_stat, kpss_p, *_ = kpss(s, regression=kpss_regression, nlags=kpss_nlags)\n",
      "C:\\Users\\PC\\Desktop\\Masterarbeit\\AI_narrative_index\\src\\modelling\\stationarity_report.py:35: InterpolationWarning: The test statistic is outside of the range of p-values available in the\n",
      "look-up table. The actual p-value is greater than the p-value returned.\n",
      "\n",
      "  kpss_stat, kpss_p, *_ = kpss(s, regression=kpss_regression, nlags=kpss_nlags)\n",
      "C:\\Users\\PC\\Desktop\\Masterarbeit\\AI_narrative_index\\src\\modelling\\stationarity_report.py:35: InterpolationWarning: The test statistic is outside of the range of p-values available in the\n",
      "look-up table. The actual p-value is greater than the p-value returned.\n",
      "\n",
      "  kpss_stat, kpss_p, *_ = kpss(s, regression=kpss_regression, nlags=kpss_nlags)\n",
      "C:\\Users\\PC\\Desktop\\Masterarbeit\\AI_narrative_index\\src\\modelling\\stationarity_report.py:35: InterpolationWarning: The test statistic is outside of the range of p-values available in the\n",
      "look-up table. The actual p-value is greater than the p-value returned.\n",
      "\n",
      "  kpss_stat, kpss_p, *_ = kpss(s, regression=kpss_regression, nlags=kpss_nlags)\n",
      "C:\\Users\\PC\\Desktop\\Masterarbeit\\AI_narrative_index\\src\\modelling\\stationarity_report.py:35: InterpolationWarning: The test statistic is outside of the range of p-values available in the\n",
      "look-up table. The actual p-value is greater than the p-value returned.\n",
      "\n",
      "  kpss_stat, kpss_p, *_ = kpss(s, regression=kpss_regression, nlags=kpss_nlags)\n",
      "C:\\Users\\PC\\Desktop\\Masterarbeit\\AI_narrative_index\\src\\modelling\\stationarity_report.py:35: InterpolationWarning: The test statistic is outside of the range of p-values available in the\n",
      "look-up table. The actual p-value is greater than the p-value returned.\n",
      "\n",
      "  kpss_stat, kpss_p, *_ = kpss(s, regression=kpss_regression, nlags=kpss_nlags)\n",
      "C:\\Users\\PC\\Desktop\\Masterarbeit\\AI_narrative_index\\src\\modelling\\stationarity_report.py:35: InterpolationWarning: The test statistic is outside of the range of p-values available in the\n",
      "look-up table. The actual p-value is greater than the p-value returned.\n",
      "\n",
      "  kpss_stat, kpss_p, *_ = kpss(s, regression=kpss_regression, nlags=kpss_nlags)\n",
      "C:\\Users\\PC\\Desktop\\Masterarbeit\\AI_narrative_index\\src\\modelling\\stationarity_report.py:35: InterpolationWarning: The test statistic is outside of the range of p-values available in the\n",
      "look-up table. The actual p-value is greater than the p-value returned.\n",
      "\n",
      "  kpss_stat, kpss_p, *_ = kpss(s, regression=kpss_regression, nlags=kpss_nlags)\n",
      "C:\\Users\\PC\\Desktop\\Masterarbeit\\AI_narrative_index\\src\\modelling\\stationarity_report.py:35: InterpolationWarning: The test statistic is outside of the range of p-values available in the\n",
      "look-up table. The actual p-value is greater than the p-value returned.\n",
      "\n",
      "  kpss_stat, kpss_p, *_ = kpss(s, regression=kpss_regression, nlags=kpss_nlags)\n",
      "C:\\Users\\PC\\Desktop\\Masterarbeit\\AI_narrative_index\\src\\modelling\\stationarity_report.py:35: InterpolationWarning: The test statistic is outside of the range of p-values available in the\n",
      "look-up table. The actual p-value is greater than the p-value returned.\n",
      "\n",
      "  kpss_stat, kpss_p, *_ = kpss(s, regression=kpss_regression, nlags=kpss_nlags)\n",
      "C:\\Users\\PC\\Desktop\\Masterarbeit\\AI_narrative_index\\src\\modelling\\stationarity_report.py:35: InterpolationWarning: The test statistic is outside of the range of p-values available in the\n",
      "look-up table. The actual p-value is greater than the p-value returned.\n",
      "\n",
      "  kpss_stat, kpss_p, *_ = kpss(s, regression=kpss_regression, nlags=kpss_nlags)\n",
      "C:\\Users\\PC\\Desktop\\Masterarbeit\\AI_narrative_index\\src\\modelling\\stationarity_report.py:35: InterpolationWarning: The test statistic is outside of the range of p-values available in the\n",
      "look-up table. The actual p-value is greater than the p-value returned.\n",
      "\n",
      "  kpss_stat, kpss_p, *_ = kpss(s, regression=kpss_regression, nlags=kpss_nlags)\n",
      "C:\\Users\\PC\\Desktop\\Masterarbeit\\AI_narrative_index\\src\\modelling\\stationarity_report.py:35: InterpolationWarning: The test statistic is outside of the range of p-values available in the\n",
      "look-up table. The actual p-value is greater than the p-value returned.\n",
      "\n",
      "  kpss_stat, kpss_p, *_ = kpss(s, regression=kpss_regression, nlags=kpss_nlags)\n",
      "C:\\Users\\PC\\Desktop\\Masterarbeit\\AI_narrative_index\\src\\modelling\\stationarity_report.py:35: InterpolationWarning: The test statistic is outside of the range of p-values available in the\n",
      "look-up table. The actual p-value is greater than the p-value returned.\n",
      "\n",
      "  kpss_stat, kpss_p, *_ = kpss(s, regression=kpss_regression, nlags=kpss_nlags)\n",
      "C:\\Users\\PC\\Desktop\\Masterarbeit\\AI_narrative_index\\src\\modelling\\stationarity_report.py:35: InterpolationWarning: The test statistic is outside of the range of p-values available in the\n",
      "look-up table. The actual p-value is greater than the p-value returned.\n",
      "\n",
      "  kpss_stat, kpss_p, *_ = kpss(s, regression=kpss_regression, nlags=kpss_nlags)\n",
      "C:\\Users\\PC\\Desktop\\Masterarbeit\\AI_narrative_index\\src\\modelling\\stationarity_report.py:35: InterpolationWarning: The test statistic is outside of the range of p-values available in the\n",
      "look-up table. The actual p-value is greater than the p-value returned.\n",
      "\n",
      "  kpss_stat, kpss_p, *_ = kpss(s, regression=kpss_regression, nlags=kpss_nlags)\n",
      "C:\\Users\\PC\\Desktop\\Masterarbeit\\AI_narrative_index\\src\\modelling\\stationarity_report.py:35: InterpolationWarning: The test statistic is outside of the range of p-values available in the\n",
      "look-up table. The actual p-value is greater than the p-value returned.\n",
      "\n",
      "  kpss_stat, kpss_p, *_ = kpss(s, regression=kpss_regression, nlags=kpss_nlags)\n",
      "C:\\Users\\PC\\Desktop\\Masterarbeit\\AI_narrative_index\\src\\modelling\\stationarity_report.py:35: InterpolationWarning: The test statistic is outside of the range of p-values available in the\n",
      "look-up table. The actual p-value is greater than the p-value returned.\n",
      "\n",
      "  kpss_stat, kpss_p, *_ = kpss(s, regression=kpss_regression, nlags=kpss_nlags)\n",
      "C:\\Users\\PC\\Desktop\\Masterarbeit\\AI_narrative_index\\src\\modelling\\stationarity_report.py:35: InterpolationWarning: The test statistic is outside of the range of p-values available in the\n",
      "look-up table. The actual p-value is greater than the p-value returned.\n",
      "\n",
      "  kpss_stat, kpss_p, *_ = kpss(s, regression=kpss_regression, nlags=kpss_nlags)\n",
      "C:\\Users\\PC\\Desktop\\Masterarbeit\\AI_narrative_index\\src\\modelling\\stationarity_report.py:35: InterpolationWarning: The test statistic is outside of the range of p-values available in the\n",
      "look-up table. The actual p-value is greater than the p-value returned.\n",
      "\n",
      "  kpss_stat, kpss_p, *_ = kpss(s, regression=kpss_regression, nlags=kpss_nlags)\n",
      "C:\\Users\\PC\\Desktop\\Masterarbeit\\AI_narrative_index\\src\\modelling\\stationarity_report.py:35: InterpolationWarning: The test statistic is outside of the range of p-values available in the\n",
      "look-up table. The actual p-value is greater than the p-value returned.\n",
      "\n",
      "  kpss_stat, kpss_p, *_ = kpss(s, regression=kpss_regression, nlags=kpss_nlags)\n",
      "C:\\Users\\PC\\Desktop\\Masterarbeit\\AI_narrative_index\\src\\modelling\\stationarity_report.py:35: InterpolationWarning: The test statistic is outside of the range of p-values available in the\n",
      "look-up table. The actual p-value is greater than the p-value returned.\n",
      "\n",
      "  kpss_stat, kpss_p, *_ = kpss(s, regression=kpss_regression, nlags=kpss_nlags)\n",
      "C:\\Users\\PC\\Desktop\\Masterarbeit\\AI_narrative_index\\src\\modelling\\stationarity_report.py:35: InterpolationWarning: The test statistic is outside of the range of p-values available in the\n",
      "look-up table. The actual p-value is greater than the p-value returned.\n",
      "\n",
      "  kpss_stat, kpss_p, *_ = kpss(s, regression=kpss_regression, nlags=kpss_nlags)\n",
      "C:\\Users\\PC\\Desktop\\Masterarbeit\\AI_narrative_index\\src\\modelling\\stationarity_report.py:35: InterpolationWarning: The test statistic is outside of the range of p-values available in the\n",
      "look-up table. The actual p-value is greater than the p-value returned.\n",
      "\n",
      "  kpss_stat, kpss_p, *_ = kpss(s, regression=kpss_regression, nlags=kpss_nlags)\n",
      "C:\\Users\\PC\\Desktop\\Masterarbeit\\AI_narrative_index\\src\\modelling\\stationarity_report.py:35: InterpolationWarning: The test statistic is outside of the range of p-values available in the\n",
      "look-up table. The actual p-value is greater than the p-value returned.\n",
      "\n",
      "  kpss_stat, kpss_p, *_ = kpss(s, regression=kpss_regression, nlags=kpss_nlags)\n",
      "C:\\Users\\PC\\Desktop\\Masterarbeit\\AI_narrative_index\\src\\modelling\\stationarity_report.py:35: InterpolationWarning: The test statistic is outside of the range of p-values available in the\n",
      "look-up table. The actual p-value is greater than the p-value returned.\n",
      "\n",
      "  kpss_stat, kpss_p, *_ = kpss(s, regression=kpss_regression, nlags=kpss_nlags)\n",
      "C:\\Users\\PC\\Desktop\\Masterarbeit\\AI_narrative_index\\src\\modelling\\stationarity_report.py:35: InterpolationWarning: The test statistic is outside of the range of p-values available in the\n",
      "look-up table. The actual p-value is greater than the p-value returned.\n",
      "\n",
      "  kpss_stat, kpss_p, *_ = kpss(s, regression=kpss_regression, nlags=kpss_nlags)\n",
      "C:\\Users\\PC\\Desktop\\Masterarbeit\\AI_narrative_index\\src\\modelling\\stationarity_report.py:35: InterpolationWarning: The test statistic is outside of the range of p-values available in the\n",
      "look-up table. The actual p-value is greater than the p-value returned.\n",
      "\n",
      "  kpss_stat, kpss_p, *_ = kpss(s, regression=kpss_regression, nlags=kpss_nlags)\n",
      "C:\\Users\\PC\\Desktop\\Masterarbeit\\AI_narrative_index\\src\\modelling\\stationarity_report.py:35: InterpolationWarning: The test statistic is outside of the range of p-values available in the\n",
      "look-up table. The actual p-value is greater than the p-value returned.\n",
      "\n",
      "  kpss_stat, kpss_p, *_ = kpss(s, regression=kpss_regression, nlags=kpss_nlags)\n",
      "C:\\Users\\PC\\Desktop\\Masterarbeit\\AI_narrative_index\\src\\modelling\\stationarity_report.py:35: InterpolationWarning: The test statistic is outside of the range of p-values available in the\n",
      "look-up table. The actual p-value is greater than the p-value returned.\n",
      "\n",
      "  kpss_stat, kpss_p, *_ = kpss(s, regression=kpss_regression, nlags=kpss_nlags)\n",
      "C:\\Users\\PC\\Desktop\\Masterarbeit\\AI_narrative_index\\src\\modelling\\stationarity_report.py:35: InterpolationWarning: The test statistic is outside of the range of p-values available in the\n",
      "look-up table. The actual p-value is greater than the p-value returned.\n",
      "\n",
      "  kpss_stat, kpss_p, *_ = kpss(s, regression=kpss_regression, nlags=kpss_nlags)\n",
      "C:\\Users\\PC\\Desktop\\Masterarbeit\\AI_narrative_index\\src\\modelling\\stationarity_report.py:35: InterpolationWarning: The test statistic is outside of the range of p-values available in the\n",
      "look-up table. The actual p-value is greater than the p-value returned.\n",
      "\n",
      "  kpss_stat, kpss_p, *_ = kpss(s, regression=kpss_regression, nlags=kpss_nlags)\n",
      "C:\\Users\\PC\\Desktop\\Masterarbeit\\AI_narrative_index\\src\\modelling\\stationarity_report.py:35: InterpolationWarning: The test statistic is outside of the range of p-values available in the\n",
      "look-up table. The actual p-value is greater than the p-value returned.\n",
      "\n",
      "  kpss_stat, kpss_p, *_ = kpss(s, regression=kpss_regression, nlags=kpss_nlags)\n",
      "C:\\Users\\PC\\Desktop\\Masterarbeit\\AI_narrative_index\\src\\modelling\\stationarity_report.py:35: InterpolationWarning: The test statistic is outside of the range of p-values available in the\n",
      "look-up table. The actual p-value is greater than the p-value returned.\n",
      "\n",
      "  kpss_stat, kpss_p, *_ = kpss(s, regression=kpss_regression, nlags=kpss_nlags)\n",
      "C:\\Users\\PC\\Desktop\\Masterarbeit\\AI_narrative_index\\src\\modelling\\stationarity_report.py:35: InterpolationWarning: The test statistic is outside of the range of p-values available in the\n",
      "look-up table. The actual p-value is greater than the p-value returned.\n",
      "\n",
      "  kpss_stat, kpss_p, *_ = kpss(s, regression=kpss_regression, nlags=kpss_nlags)\n",
      "C:\\Users\\PC\\Desktop\\Masterarbeit\\AI_narrative_index\\src\\modelling\\stationarity_report.py:35: InterpolationWarning: The test statistic is outside of the range of p-values available in the\n",
      "look-up table. The actual p-value is greater than the p-value returned.\n",
      "\n",
      "  kpss_stat, kpss_p, *_ = kpss(s, regression=kpss_regression, nlags=kpss_nlags)\n",
      "C:\\Users\\PC\\Desktop\\Masterarbeit\\AI_narrative_index\\src\\modelling\\stationarity_report.py:35: InterpolationWarning: The test statistic is outside of the range of p-values available in the\n",
      "look-up table. The actual p-value is greater than the p-value returned.\n",
      "\n",
      "  kpss_stat, kpss_p, *_ = kpss(s, regression=kpss_regression, nlags=kpss_nlags)\n",
      "C:\\Users\\PC\\Desktop\\Masterarbeit\\AI_narrative_index\\src\\modelling\\stationarity_report.py:35: InterpolationWarning: The test statistic is outside of the range of p-values available in the\n",
      "look-up table. The actual p-value is greater than the p-value returned.\n",
      "\n",
      "  kpss_stat, kpss_p, *_ = kpss(s, regression=kpss_regression, nlags=kpss_nlags)\n",
      "C:\\Users\\PC\\Desktop\\Masterarbeit\\AI_narrative_index\\src\\modelling\\stationarity_report.py:35: InterpolationWarning: The test statistic is outside of the range of p-values available in the\n",
      "look-up table. The actual p-value is greater than the p-value returned.\n",
      "\n",
      "  kpss_stat, kpss_p, *_ = kpss(s, regression=kpss_regression, nlags=kpss_nlags)\n",
      "C:\\Users\\PC\\Desktop\\Masterarbeit\\AI_narrative_index\\src\\modelling\\stationarity_report.py:35: InterpolationWarning: The test statistic is outside of the range of p-values available in the\n",
      "look-up table. The actual p-value is greater than the p-value returned.\n",
      "\n",
      "  kpss_stat, kpss_p, *_ = kpss(s, regression=kpss_regression, nlags=kpss_nlags)\n",
      "C:\\Users\\PC\\Desktop\\Masterarbeit\\AI_narrative_index\\src\\modelling\\stationarity_report.py:35: InterpolationWarning: The test statistic is outside of the range of p-values available in the\n",
      "look-up table. The actual p-value is greater than the p-value returned.\n",
      "\n",
      "  kpss_stat, kpss_p, *_ = kpss(s, regression=kpss_regression, nlags=kpss_nlags)\n",
      "C:\\Users\\PC\\Desktop\\Masterarbeit\\AI_narrative_index\\src\\modelling\\stationarity_report.py:35: InterpolationWarning: The test statistic is outside of the range of p-values available in the\n",
      "look-up table. The actual p-value is greater than the p-value returned.\n",
      "\n",
      "  kpss_stat, kpss_p, *_ = kpss(s, regression=kpss_regression, nlags=kpss_nlags)\n",
      "C:\\Users\\PC\\Desktop\\Masterarbeit\\AI_narrative_index\\src\\modelling\\stationarity_report.py:35: InterpolationWarning: The test statistic is outside of the range of p-values available in the\n",
      "look-up table. The actual p-value is greater than the p-value returned.\n",
      "\n",
      "  kpss_stat, kpss_p, *_ = kpss(s, regression=kpss_regression, nlags=kpss_nlags)\n",
      "C:\\Users\\PC\\Desktop\\Masterarbeit\\AI_narrative_index\\src\\modelling\\stationarity_report.py:35: InterpolationWarning: The test statistic is outside of the range of p-values available in the\n",
      "look-up table. The actual p-value is greater than the p-value returned.\n",
      "\n",
      "  kpss_stat, kpss_p, *_ = kpss(s, regression=kpss_regression, nlags=kpss_nlags)\n",
      "C:\\Users\\PC\\Desktop\\Masterarbeit\\AI_narrative_index\\src\\modelling\\stationarity_report.py:35: InterpolationWarning: The test statistic is outside of the range of p-values available in the\n",
      "look-up table. The actual p-value is greater than the p-value returned.\n",
      "\n",
      "  kpss_stat, kpss_p, *_ = kpss(s, regression=kpss_regression, nlags=kpss_nlags)\n",
      "C:\\Users\\PC\\Desktop\\Masterarbeit\\AI_narrative_index\\src\\modelling\\stationarity_report.py:35: InterpolationWarning: The test statistic is outside of the range of p-values available in the\n",
      "look-up table. The actual p-value is greater than the p-value returned.\n",
      "\n",
      "  kpss_stat, kpss_p, *_ = kpss(s, regression=kpss_regression, nlags=kpss_nlags)\n",
      "C:\\Users\\PC\\Desktop\\Masterarbeit\\AI_narrative_index\\src\\modelling\\stationarity_report.py:35: InterpolationWarning: The test statistic is outside of the range of p-values available in the\n",
      "look-up table. The actual p-value is greater than the p-value returned.\n",
      "\n",
      "  kpss_stat, kpss_p, *_ = kpss(s, regression=kpss_regression, nlags=kpss_nlags)\n",
      "C:\\Users\\PC\\Desktop\\Masterarbeit\\AI_narrative_index\\src\\modelling\\stationarity_report.py:35: InterpolationWarning: The test statistic is outside of the range of p-values available in the\n",
      "look-up table. The actual p-value is greater than the p-value returned.\n",
      "\n",
      "  kpss_stat, kpss_p, *_ = kpss(s, regression=kpss_regression, nlags=kpss_nlags)\n",
      "C:\\Users\\PC\\Desktop\\Masterarbeit\\AI_narrative_index\\src\\modelling\\stationarity_report.py:35: InterpolationWarning: The test statistic is outside of the range of p-values available in the\n",
      "look-up table. The actual p-value is greater than the p-value returned.\n",
      "\n",
      "  kpss_stat, kpss_p, *_ = kpss(s, regression=kpss_regression, nlags=kpss_nlags)\n",
      "C:\\Users\\PC\\Desktop\\Masterarbeit\\AI_narrative_index\\src\\modelling\\stationarity_report.py:35: InterpolationWarning: The test statistic is outside of the range of p-values available in the\n",
      "look-up table. The actual p-value is greater than the p-value returned.\n",
      "\n",
      "  kpss_stat, kpss_p, *_ = kpss(s, regression=kpss_regression, nlags=kpss_nlags)\n",
      "C:\\Users\\PC\\Desktop\\Masterarbeit\\AI_narrative_index\\src\\modelling\\stationarity_report.py:35: InterpolationWarning: The test statistic is outside of the range of p-values available in the\n",
      "look-up table. The actual p-value is greater than the p-value returned.\n",
      "\n",
      "  kpss_stat, kpss_p, *_ = kpss(s, regression=kpss_regression, nlags=kpss_nlags)\n",
      "C:\\Users\\PC\\Desktop\\Masterarbeit\\AI_narrative_index\\src\\modelling\\stationarity_report.py:35: InterpolationWarning: The test statistic is outside of the range of p-values available in the\n",
      "look-up table. The actual p-value is smaller than the p-value returned.\n",
      "\n",
      "  kpss_stat, kpss_p, *_ = kpss(s, regression=kpss_regression, nlags=kpss_nlags)\n",
      "C:\\Users\\PC\\Desktop\\Masterarbeit\\AI_narrative_index\\src\\modelling\\stationarity_report.py:35: InterpolationWarning: The test statistic is outside of the range of p-values available in the\n",
      "look-up table. The actual p-value is greater than the p-value returned.\n",
      "\n",
      "  kpss_stat, kpss_p, *_ = kpss(s, regression=kpss_regression, nlags=kpss_nlags)\n",
      "C:\\Users\\PC\\Desktop\\Masterarbeit\\AI_narrative_index\\src\\modelling\\stationarity_report.py:35: InterpolationWarning: The test statistic is outside of the range of p-values available in the\n",
      "look-up table. The actual p-value is smaller than the p-value returned.\n",
      "\n",
      "  kpss_stat, kpss_p, *_ = kpss(s, regression=kpss_regression, nlags=kpss_nlags)\n",
      "C:\\Users\\PC\\Desktop\\Masterarbeit\\AI_narrative_index\\src\\modelling\\stationarity_report.py:35: InterpolationWarning: The test statistic is outside of the range of p-values available in the\n",
      "look-up table. The actual p-value is greater than the p-value returned.\n",
      "\n",
      "  kpss_stat, kpss_p, *_ = kpss(s, regression=kpss_regression, nlags=kpss_nlags)\n",
      "C:\\Users\\PC\\Desktop\\Masterarbeit\\AI_narrative_index\\src\\modelling\\stationarity_report.py:35: InterpolationWarning: The test statistic is outside of the range of p-values available in the\n",
      "look-up table. The actual p-value is greater than the p-value returned.\n",
      "\n",
      "  kpss_stat, kpss_p, *_ = kpss(s, regression=kpss_regression, nlags=kpss_nlags)\n",
      "C:\\Users\\PC\\Desktop\\Masterarbeit\\AI_narrative_index\\src\\modelling\\stationarity_report.py:35: InterpolationWarning: The test statistic is outside of the range of p-values available in the\n",
      "look-up table. The actual p-value is greater than the p-value returned.\n",
      "\n",
      "  kpss_stat, kpss_p, *_ = kpss(s, regression=kpss_regression, nlags=kpss_nlags)\n",
      "C:\\Users\\PC\\Desktop\\Masterarbeit\\AI_narrative_index\\src\\modelling\\stationarity_report.py:35: InterpolationWarning: The test statistic is outside of the range of p-values available in the\n",
      "look-up table. The actual p-value is greater than the p-value returned.\n",
      "\n",
      "  kpss_stat, kpss_p, *_ = kpss(s, regression=kpss_regression, nlags=kpss_nlags)\n",
      "C:\\Users\\PC\\Desktop\\Masterarbeit\\AI_narrative_index\\src\\modelling\\stationarity_report.py:35: InterpolationWarning: The test statistic is outside of the range of p-values available in the\n",
      "look-up table. The actual p-value is greater than the p-value returned.\n",
      "\n",
      "  kpss_stat, kpss_p, *_ = kpss(s, regression=kpss_regression, nlags=kpss_nlags)\n",
      "C:\\Users\\PC\\Desktop\\Masterarbeit\\AI_narrative_index\\src\\modelling\\stationarity_report.py:35: InterpolationWarning: The test statistic is outside of the range of p-values available in the\n",
      "look-up table. The actual p-value is greater than the p-value returned.\n",
      "\n",
      "  kpss_stat, kpss_p, *_ = kpss(s, regression=kpss_regression, nlags=kpss_nlags)\n",
      "C:\\Users\\PC\\Desktop\\Masterarbeit\\AI_narrative_index\\src\\modelling\\stationarity_report.py:35: InterpolationWarning: The test statistic is outside of the range of p-values available in the\n",
      "look-up table. The actual p-value is greater than the p-value returned.\n",
      "\n",
      "  kpss_stat, kpss_p, *_ = kpss(s, regression=kpss_regression, nlags=kpss_nlags)\n",
      "C:\\Users\\PC\\Desktop\\Masterarbeit\\AI_narrative_index\\src\\modelling\\stationarity_report.py:35: InterpolationWarning: The test statistic is outside of the range of p-values available in the\n",
      "look-up table. The actual p-value is greater than the p-value returned.\n",
      "\n",
      "  kpss_stat, kpss_p, *_ = kpss(s, regression=kpss_regression, nlags=kpss_nlags)\n",
      "C:\\Users\\PC\\Desktop\\Masterarbeit\\AI_narrative_index\\src\\modelling\\stationarity_report.py:35: InterpolationWarning: The test statistic is outside of the range of p-values available in the\n",
      "look-up table. The actual p-value is greater than the p-value returned.\n",
      "\n",
      "  kpss_stat, kpss_p, *_ = kpss(s, regression=kpss_regression, nlags=kpss_nlags)\n",
      "C:\\Users\\PC\\Desktop\\Masterarbeit\\AI_narrative_index\\src\\modelling\\stationarity_report.py:35: InterpolationWarning: The test statistic is outside of the range of p-values available in the\n",
      "look-up table. The actual p-value is greater than the p-value returned.\n",
      "\n",
      "  kpss_stat, kpss_p, *_ = kpss(s, regression=kpss_regression, nlags=kpss_nlags)\n",
      "C:\\Users\\PC\\Desktop\\Masterarbeit\\AI_narrative_index\\src\\modelling\\stationarity_report.py:35: InterpolationWarning: The test statistic is outside of the range of p-values available in the\n",
      "look-up table. The actual p-value is smaller than the p-value returned.\n",
      "\n",
      "  kpss_stat, kpss_p, *_ = kpss(s, regression=kpss_regression, nlags=kpss_nlags)\n",
      "C:\\Users\\PC\\Desktop\\Masterarbeit\\AI_narrative_index\\src\\modelling\\stationarity_report.py:35: InterpolationWarning: The test statistic is outside of the range of p-values available in the\n",
      "look-up table. The actual p-value is greater than the p-value returned.\n",
      "\n",
      "  kpss_stat, kpss_p, *_ = kpss(s, regression=kpss_regression, nlags=kpss_nlags)\n",
      "C:\\Users\\PC\\Desktop\\Masterarbeit\\AI_narrative_index\\src\\modelling\\stationarity_report.py:35: InterpolationWarning: The test statistic is outside of the range of p-values available in the\n",
      "look-up table. The actual p-value is greater than the p-value returned.\n",
      "\n",
      "  kpss_stat, kpss_p, *_ = kpss(s, regression=kpss_regression, nlags=kpss_nlags)\n",
      "C:\\Users\\PC\\Desktop\\Masterarbeit\\AI_narrative_index\\src\\modelling\\stationarity_report.py:35: InterpolationWarning: The test statistic is outside of the range of p-values available in the\n",
      "look-up table. The actual p-value is greater than the p-value returned.\n",
      "\n",
      "  kpss_stat, kpss_p, *_ = kpss(s, regression=kpss_regression, nlags=kpss_nlags)\n",
      "C:\\Users\\PC\\Desktop\\Masterarbeit\\AI_narrative_index\\src\\modelling\\stationarity_report.py:35: InterpolationWarning: The test statistic is outside of the range of p-values available in the\n",
      "look-up table. The actual p-value is greater than the p-value returned.\n",
      "\n",
      "  kpss_stat, kpss_p, *_ = kpss(s, regression=kpss_regression, nlags=kpss_nlags)\n",
      "C:\\Users\\PC\\Desktop\\Masterarbeit\\AI_narrative_index\\src\\modelling\\stationarity_report.py:35: InterpolationWarning: The test statistic is outside of the range of p-values available in the\n",
      "look-up table. The actual p-value is greater than the p-value returned.\n",
      "\n",
      "  kpss_stat, kpss_p, *_ = kpss(s, regression=kpss_regression, nlags=kpss_nlags)\n",
      "C:\\Users\\PC\\Desktop\\Masterarbeit\\AI_narrative_index\\src\\modelling\\stationarity_report.py:35: InterpolationWarning: The test statistic is outside of the range of p-values available in the\n",
      "look-up table. The actual p-value is smaller than the p-value returned.\n",
      "\n",
      "  kpss_stat, kpss_p, *_ = kpss(s, regression=kpss_regression, nlags=kpss_nlags)\n",
      "C:\\Users\\PC\\Desktop\\Masterarbeit\\AI_narrative_index\\src\\modelling\\stationarity_report.py:35: InterpolationWarning: The test statistic is outside of the range of p-values available in the\n",
      "look-up table. The actual p-value is greater than the p-value returned.\n",
      "\n",
      "  kpss_stat, kpss_p, *_ = kpss(s, regression=kpss_regression, nlags=kpss_nlags)\n",
      "C:\\Users\\PC\\Desktop\\Masterarbeit\\AI_narrative_index\\src\\modelling\\stationarity_report.py:35: InterpolationWarning: The test statistic is outside of the range of p-values available in the\n",
      "look-up table. The actual p-value is greater than the p-value returned.\n",
      "\n",
      "  kpss_stat, kpss_p, *_ = kpss(s, regression=kpss_regression, nlags=kpss_nlags)\n",
      "C:\\Users\\PC\\Desktop\\Masterarbeit\\AI_narrative_index\\src\\modelling\\stationarity_report.py:35: InterpolationWarning: The test statistic is outside of the range of p-values available in the\n",
      "look-up table. The actual p-value is greater than the p-value returned.\n",
      "\n",
      "  kpss_stat, kpss_p, *_ = kpss(s, regression=kpss_regression, nlags=kpss_nlags)\n",
      "C:\\Users\\PC\\Desktop\\Masterarbeit\\AI_narrative_index\\src\\modelling\\stationarity_report.py:35: InterpolationWarning: The test statistic is outside of the range of p-values available in the\n",
      "look-up table. The actual p-value is greater than the p-value returned.\n",
      "\n",
      "  kpss_stat, kpss_p, *_ = kpss(s, regression=kpss_regression, nlags=kpss_nlags)\n",
      "C:\\Users\\PC\\Desktop\\Masterarbeit\\AI_narrative_index\\src\\modelling\\stationarity_report.py:35: InterpolationWarning: The test statistic is outside of the range of p-values available in the\n",
      "look-up table. The actual p-value is greater than the p-value returned.\n",
      "\n",
      "  kpss_stat, kpss_p, *_ = kpss(s, regression=kpss_regression, nlags=kpss_nlags)\n",
      "C:\\Users\\PC\\Desktop\\Masterarbeit\\AI_narrative_index\\src\\modelling\\stationarity_report.py:35: InterpolationWarning: The test statistic is outside of the range of p-values available in the\n",
      "look-up table. The actual p-value is smaller than the p-value returned.\n",
      "\n",
      "  kpss_stat, kpss_p, *_ = kpss(s, regression=kpss_regression, nlags=kpss_nlags)\n",
      "C:\\Users\\PC\\Desktop\\Masterarbeit\\AI_narrative_index\\src\\modelling\\stationarity_report.py:35: InterpolationWarning: The test statistic is outside of the range of p-values available in the\n",
      "look-up table. The actual p-value is greater than the p-value returned.\n",
      "\n",
      "  kpss_stat, kpss_p, *_ = kpss(s, regression=kpss_regression, nlags=kpss_nlags)\n",
      "C:\\Users\\PC\\Desktop\\Masterarbeit\\AI_narrative_index\\src\\modelling\\stationarity_report.py:35: InterpolationWarning: The test statistic is outside of the range of p-values available in the\n",
      "look-up table. The actual p-value is greater than the p-value returned.\n",
      "\n",
      "  kpss_stat, kpss_p, *_ = kpss(s, regression=kpss_regression, nlags=kpss_nlags)\n",
      "C:\\Users\\PC\\Desktop\\Masterarbeit\\AI_narrative_index\\src\\modelling\\stationarity_report.py:35: InterpolationWarning: The test statistic is outside of the range of p-values available in the\n",
      "look-up table. The actual p-value is greater than the p-value returned.\n",
      "\n",
      "  kpss_stat, kpss_p, *_ = kpss(s, regression=kpss_regression, nlags=kpss_nlags)\n",
      "C:\\Users\\PC\\Desktop\\Masterarbeit\\AI_narrative_index\\src\\modelling\\stationarity_report.py:35: InterpolationWarning: The test statistic is outside of the range of p-values available in the\n",
      "look-up table. The actual p-value is greater than the p-value returned.\n",
      "\n",
      "  kpss_stat, kpss_p, *_ = kpss(s, regression=kpss_regression, nlags=kpss_nlags)\n",
      "C:\\Users\\PC\\Desktop\\Masterarbeit\\AI_narrative_index\\src\\modelling\\stationarity_report.py:35: InterpolationWarning: The test statistic is outside of the range of p-values available in the\n",
      "look-up table. The actual p-value is greater than the p-value returned.\n",
      "\n",
      "  kpss_stat, kpss_p, *_ = kpss(s, regression=kpss_regression, nlags=kpss_nlags)\n",
      "C:\\Users\\PC\\Desktop\\Masterarbeit\\AI_narrative_index\\src\\modelling\\stationarity_report.py:35: InterpolationWarning: The test statistic is outside of the range of p-values available in the\n",
      "look-up table. The actual p-value is smaller than the p-value returned.\n",
      "\n",
      "  kpss_stat, kpss_p, *_ = kpss(s, regression=kpss_regression, nlags=kpss_nlags)\n",
      "C:\\Users\\PC\\Desktop\\Masterarbeit\\AI_narrative_index\\src\\modelling\\stationarity_report.py:35: InterpolationWarning: The test statistic is outside of the range of p-values available in the\n",
      "look-up table. The actual p-value is greater than the p-value returned.\n",
      "\n",
      "  kpss_stat, kpss_p, *_ = kpss(s, regression=kpss_regression, nlags=kpss_nlags)\n",
      "C:\\Users\\PC\\Desktop\\Masterarbeit\\AI_narrative_index\\src\\modelling\\stationarity_report.py:35: InterpolationWarning: The test statistic is outside of the range of p-values available in the\n",
      "look-up table. The actual p-value is greater than the p-value returned.\n",
      "\n",
      "  kpss_stat, kpss_p, *_ = kpss(s, regression=kpss_regression, nlags=kpss_nlags)\n",
      "C:\\Users\\PC\\Desktop\\Masterarbeit\\AI_narrative_index\\src\\modelling\\stationarity_report.py:35: InterpolationWarning: The test statistic is outside of the range of p-values available in the\n",
      "look-up table. The actual p-value is greater than the p-value returned.\n",
      "\n",
      "  kpss_stat, kpss_p, *_ = kpss(s, regression=kpss_regression, nlags=kpss_nlags)\n",
      "C:\\Users\\PC\\Desktop\\Masterarbeit\\AI_narrative_index\\src\\modelling\\stationarity_report.py:35: InterpolationWarning: The test statistic is outside of the range of p-values available in the\n",
      "look-up table. The actual p-value is greater than the p-value returned.\n",
      "\n",
      "  kpss_stat, kpss_p, *_ = kpss(s, regression=kpss_regression, nlags=kpss_nlags)\n",
      "C:\\Users\\PC\\Desktop\\Masterarbeit\\AI_narrative_index\\src\\modelling\\stationarity_report.py:35: InterpolationWarning: The test statistic is outside of the range of p-values available in the\n",
      "look-up table. The actual p-value is greater than the p-value returned.\n",
      "\n",
      "  kpss_stat, kpss_p, *_ = kpss(s, regression=kpss_regression, nlags=kpss_nlags)\n",
      "C:\\Users\\PC\\Desktop\\Masterarbeit\\AI_narrative_index\\src\\modelling\\stationarity_report.py:35: InterpolationWarning: The test statistic is outside of the range of p-values available in the\n",
      "look-up table. The actual p-value is smaller than the p-value returned.\n",
      "\n",
      "  kpss_stat, kpss_p, *_ = kpss(s, regression=kpss_regression, nlags=kpss_nlags)\n",
      "C:\\Users\\PC\\Desktop\\Masterarbeit\\AI_narrative_index\\src\\modelling\\stationarity_report.py:35: InterpolationWarning: The test statistic is outside of the range of p-values available in the\n",
      "look-up table. The actual p-value is greater than the p-value returned.\n",
      "\n",
      "  kpss_stat, kpss_p, *_ = kpss(s, regression=kpss_regression, nlags=kpss_nlags)\n",
      "C:\\Users\\PC\\Desktop\\Masterarbeit\\AI_narrative_index\\src\\modelling\\stationarity_report.py:35: InterpolationWarning: The test statistic is outside of the range of p-values available in the\n",
      "look-up table. The actual p-value is greater than the p-value returned.\n",
      "\n",
      "  kpss_stat, kpss_p, *_ = kpss(s, regression=kpss_regression, nlags=kpss_nlags)\n",
      "C:\\Users\\PC\\Desktop\\Masterarbeit\\AI_narrative_index\\src\\modelling\\stationarity_report.py:35: InterpolationWarning: The test statistic is outside of the range of p-values available in the\n",
      "look-up table. The actual p-value is greater than the p-value returned.\n",
      "\n",
      "  kpss_stat, kpss_p, *_ = kpss(s, regression=kpss_regression, nlags=kpss_nlags)\n",
      "C:\\Users\\PC\\Desktop\\Masterarbeit\\AI_narrative_index\\src\\modelling\\stationarity_report.py:35: InterpolationWarning: The test statistic is outside of the range of p-values available in the\n",
      "look-up table. The actual p-value is greater than the p-value returned.\n",
      "\n",
      "  kpss_stat, kpss_p, *_ = kpss(s, regression=kpss_regression, nlags=kpss_nlags)\n",
      "C:\\Users\\PC\\Desktop\\Masterarbeit\\AI_narrative_index\\src\\modelling\\stationarity_report.py:35: InterpolationWarning: The test statistic is outside of the range of p-values available in the\n",
      "look-up table. The actual p-value is greater than the p-value returned.\n",
      "\n",
      "  kpss_stat, kpss_p, *_ = kpss(s, regression=kpss_regression, nlags=kpss_nlags)\n",
      "C:\\Users\\PC\\Desktop\\Masterarbeit\\AI_narrative_index\\src\\modelling\\stationarity_report.py:35: InterpolationWarning: The test statistic is outside of the range of p-values available in the\n",
      "look-up table. The actual p-value is smaller than the p-value returned.\n",
      "\n",
      "  kpss_stat, kpss_p, *_ = kpss(s, regression=kpss_regression, nlags=kpss_nlags)\n",
      "C:\\Users\\PC\\Desktop\\Masterarbeit\\AI_narrative_index\\src\\modelling\\stationarity_report.py:35: InterpolationWarning: The test statistic is outside of the range of p-values available in the\n",
      "look-up table. The actual p-value is greater than the p-value returned.\n",
      "\n",
      "  kpss_stat, kpss_p, *_ = kpss(s, regression=kpss_regression, nlags=kpss_nlags)\n",
      "C:\\Users\\PC\\Desktop\\Masterarbeit\\AI_narrative_index\\src\\modelling\\stationarity_report.py:35: InterpolationWarning: The test statistic is outside of the range of p-values available in the\n",
      "look-up table. The actual p-value is greater than the p-value returned.\n",
      "\n",
      "  kpss_stat, kpss_p, *_ = kpss(s, regression=kpss_regression, nlags=kpss_nlags)\n",
      "C:\\Users\\PC\\Desktop\\Masterarbeit\\AI_narrative_index\\src\\modelling\\stationarity_report.py:35: InterpolationWarning: The test statistic is outside of the range of p-values available in the\n",
      "look-up table. The actual p-value is greater than the p-value returned.\n",
      "\n",
      "  kpss_stat, kpss_p, *_ = kpss(s, regression=kpss_regression, nlags=kpss_nlags)\n",
      "C:\\Users\\PC\\Desktop\\Masterarbeit\\AI_narrative_index\\src\\modelling\\stationarity_report.py:35: InterpolationWarning: The test statistic is outside of the range of p-values available in the\n",
      "look-up table. The actual p-value is greater than the p-value returned.\n",
      "\n",
      "  kpss_stat, kpss_p, *_ = kpss(s, regression=kpss_regression, nlags=kpss_nlags)\n",
      "C:\\Users\\PC\\Desktop\\Masterarbeit\\AI_narrative_index\\src\\modelling\\stationarity_report.py:35: InterpolationWarning: The test statistic is outside of the range of p-values available in the\n",
      "look-up table. The actual p-value is greater than the p-value returned.\n",
      "\n",
      "  kpss_stat, kpss_p, *_ = kpss(s, regression=kpss_regression, nlags=kpss_nlags)\n",
      "C:\\Users\\PC\\Desktop\\Masterarbeit\\AI_narrative_index\\src\\modelling\\stationarity_report.py:35: InterpolationWarning: The test statistic is outside of the range of p-values available in the\n",
      "look-up table. The actual p-value is smaller than the p-value returned.\n",
      "\n",
      "  kpss_stat, kpss_p, *_ = kpss(s, regression=kpss_regression, nlags=kpss_nlags)\n",
      "C:\\Users\\PC\\Desktop\\Masterarbeit\\AI_narrative_index\\src\\modelling\\stationarity_report.py:35: InterpolationWarning: The test statistic is outside of the range of p-values available in the\n",
      "look-up table. The actual p-value is greater than the p-value returned.\n",
      "\n",
      "  kpss_stat, kpss_p, *_ = kpss(s, regression=kpss_regression, nlags=kpss_nlags)\n",
      "C:\\Users\\PC\\Desktop\\Masterarbeit\\AI_narrative_index\\src\\modelling\\stationarity_report.py:35: InterpolationWarning: The test statistic is outside of the range of p-values available in the\n",
      "look-up table. The actual p-value is greater than the p-value returned.\n",
      "\n",
      "  kpss_stat, kpss_p, *_ = kpss(s, regression=kpss_regression, nlags=kpss_nlags)\n",
      "C:\\Users\\PC\\Desktop\\Masterarbeit\\AI_narrative_index\\src\\modelling\\stationarity_report.py:35: InterpolationWarning: The test statistic is outside of the range of p-values available in the\n",
      "look-up table. The actual p-value is greater than the p-value returned.\n",
      "\n",
      "  kpss_stat, kpss_p, *_ = kpss(s, regression=kpss_regression, nlags=kpss_nlags)\n",
      "C:\\Users\\PC\\Desktop\\Masterarbeit\\AI_narrative_index\\src\\modelling\\stationarity_report.py:35: InterpolationWarning: The test statistic is outside of the range of p-values available in the\n",
      "look-up table. The actual p-value is greater than the p-value returned.\n",
      "\n",
      "  kpss_stat, kpss_p, *_ = kpss(s, regression=kpss_regression, nlags=kpss_nlags)\n",
      "C:\\Users\\PC\\Desktop\\Masterarbeit\\AI_narrative_index\\src\\modelling\\stationarity_report.py:35: InterpolationWarning: The test statistic is outside of the range of p-values available in the\n",
      "look-up table. The actual p-value is greater than the p-value returned.\n",
      "\n",
      "  kpss_stat, kpss_p, *_ = kpss(s, regression=kpss_regression, nlags=kpss_nlags)\n",
      "C:\\Users\\PC\\Desktop\\Masterarbeit\\AI_narrative_index\\src\\modelling\\stationarity_report.py:35: InterpolationWarning: The test statistic is outside of the range of p-values available in the\n",
      "look-up table. The actual p-value is smaller than the p-value returned.\n",
      "\n",
      "  kpss_stat, kpss_p, *_ = kpss(s, regression=kpss_regression, nlags=kpss_nlags)\n",
      "C:\\Users\\PC\\Desktop\\Masterarbeit\\AI_narrative_index\\src\\modelling\\stationarity_report.py:35: InterpolationWarning: The test statistic is outside of the range of p-values available in the\n",
      "look-up table. The actual p-value is greater than the p-value returned.\n",
      "\n",
      "  kpss_stat, kpss_p, *_ = kpss(s, regression=kpss_regression, nlags=kpss_nlags)\n",
      "C:\\Users\\PC\\Desktop\\Masterarbeit\\AI_narrative_index\\src\\modelling\\stationarity_report.py:35: InterpolationWarning: The test statistic is outside of the range of p-values available in the\n",
      "look-up table. The actual p-value is greater than the p-value returned.\n",
      "\n",
      "  kpss_stat, kpss_p, *_ = kpss(s, regression=kpss_regression, nlags=kpss_nlags)\n",
      "C:\\Users\\PC\\Desktop\\Masterarbeit\\AI_narrative_index\\src\\modelling\\stationarity_report.py:35: InterpolationWarning: The test statistic is outside of the range of p-values available in the\n",
      "look-up table. The actual p-value is greater than the p-value returned.\n",
      "\n",
      "  kpss_stat, kpss_p, *_ = kpss(s, regression=kpss_regression, nlags=kpss_nlags)\n",
      "C:\\Users\\PC\\Desktop\\Masterarbeit\\AI_narrative_index\\src\\modelling\\stationarity_report.py:35: InterpolationWarning: The test statistic is outside of the range of p-values available in the\n",
      "look-up table. The actual p-value is greater than the p-value returned.\n",
      "\n",
      "  kpss_stat, kpss_p, *_ = kpss(s, regression=kpss_regression, nlags=kpss_nlags)\n",
      "C:\\Users\\PC\\Desktop\\Masterarbeit\\AI_narrative_index\\src\\modelling\\stationarity_report.py:35: InterpolationWarning: The test statistic is outside of the range of p-values available in the\n",
      "look-up table. The actual p-value is greater than the p-value returned.\n",
      "\n",
      "  kpss_stat, kpss_p, *_ = kpss(s, regression=kpss_regression, nlags=kpss_nlags)\n",
      "C:\\Users\\PC\\Desktop\\Masterarbeit\\AI_narrative_index\\src\\modelling\\stationarity_report.py:35: InterpolationWarning: The test statistic is outside of the range of p-values available in the\n",
      "look-up table. The actual p-value is smaller than the p-value returned.\n",
      "\n",
      "  kpss_stat, kpss_p, *_ = kpss(s, regression=kpss_regression, nlags=kpss_nlags)\n",
      "C:\\Users\\PC\\Desktop\\Masterarbeit\\AI_narrative_index\\src\\modelling\\stationarity_report.py:35: InterpolationWarning: The test statistic is outside of the range of p-values available in the\n",
      "look-up table. The actual p-value is greater than the p-value returned.\n",
      "\n",
      "  kpss_stat, kpss_p, *_ = kpss(s, regression=kpss_regression, nlags=kpss_nlags)\n",
      "C:\\Users\\PC\\Desktop\\Masterarbeit\\AI_narrative_index\\src\\modelling\\stationarity_report.py:35: InterpolationWarning: The test statistic is outside of the range of p-values available in the\n",
      "look-up table. The actual p-value is greater than the p-value returned.\n",
      "\n",
      "  kpss_stat, kpss_p, *_ = kpss(s, regression=kpss_regression, nlags=kpss_nlags)\n",
      "C:\\Users\\PC\\Desktop\\Masterarbeit\\AI_narrative_index\\src\\modelling\\stationarity_report.py:35: InterpolationWarning: The test statistic is outside of the range of p-values available in the\n",
      "look-up table. The actual p-value is greater than the p-value returned.\n",
      "\n",
      "  kpss_stat, kpss_p, *_ = kpss(s, regression=kpss_regression, nlags=kpss_nlags)\n",
      "C:\\Users\\PC\\Desktop\\Masterarbeit\\AI_narrative_index\\src\\modelling\\stationarity_report.py:35: InterpolationWarning: The test statistic is outside of the range of p-values available in the\n",
      "look-up table. The actual p-value is greater than the p-value returned.\n",
      "\n",
      "  kpss_stat, kpss_p, *_ = kpss(s, regression=kpss_regression, nlags=kpss_nlags)\n",
      "C:\\Users\\PC\\Desktop\\Masterarbeit\\AI_narrative_index\\src\\modelling\\stationarity_report.py:35: InterpolationWarning: The test statistic is outside of the range of p-values available in the\n",
      "look-up table. The actual p-value is greater than the p-value returned.\n",
      "\n",
      "  kpss_stat, kpss_p, *_ = kpss(s, regression=kpss_regression, nlags=kpss_nlags)\n",
      "C:\\Users\\PC\\Desktop\\Masterarbeit\\AI_narrative_index\\src\\modelling\\stationarity_report.py:35: InterpolationWarning: The test statistic is outside of the range of p-values available in the\n",
      "look-up table. The actual p-value is smaller than the p-value returned.\n",
      "\n",
      "  kpss_stat, kpss_p, *_ = kpss(s, regression=kpss_regression, nlags=kpss_nlags)\n",
      "C:\\Users\\PC\\Desktop\\Masterarbeit\\AI_narrative_index\\src\\modelling\\stationarity_report.py:35: InterpolationWarning: The test statistic is outside of the range of p-values available in the\n",
      "look-up table. The actual p-value is greater than the p-value returned.\n",
      "\n",
      "  kpss_stat, kpss_p, *_ = kpss(s, regression=kpss_regression, nlags=kpss_nlags)\n",
      "C:\\Users\\PC\\Desktop\\Masterarbeit\\AI_narrative_index\\src\\modelling\\stationarity_report.py:35: InterpolationWarning: The test statistic is outside of the range of p-values available in the\n",
      "look-up table. The actual p-value is greater than the p-value returned.\n",
      "\n",
      "  kpss_stat, kpss_p, *_ = kpss(s, regression=kpss_regression, nlags=kpss_nlags)\n",
      "C:\\Users\\PC\\Desktop\\Masterarbeit\\AI_narrative_index\\src\\modelling\\stationarity_report.py:35: InterpolationWarning: The test statistic is outside of the range of p-values available in the\n",
      "look-up table. The actual p-value is greater than the p-value returned.\n",
      "\n",
      "  kpss_stat, kpss_p, *_ = kpss(s, regression=kpss_regression, nlags=kpss_nlags)\n",
      "C:\\Users\\PC\\Desktop\\Masterarbeit\\AI_narrative_index\\src\\modelling\\stationarity_report.py:35: InterpolationWarning: The test statistic is outside of the range of p-values available in the\n",
      "look-up table. The actual p-value is greater than the p-value returned.\n",
      "\n",
      "  kpss_stat, kpss_p, *_ = kpss(s, regression=kpss_regression, nlags=kpss_nlags)\n",
      "C:\\Users\\PC\\Desktop\\Masterarbeit\\AI_narrative_index\\src\\modelling\\stationarity_report.py:35: InterpolationWarning: The test statistic is outside of the range of p-values available in the\n",
      "look-up table. The actual p-value is greater than the p-value returned.\n",
      "\n",
      "  kpss_stat, kpss_p, *_ = kpss(s, regression=kpss_regression, nlags=kpss_nlags)\n",
      "C:\\Users\\PC\\Desktop\\Masterarbeit\\AI_narrative_index\\src\\modelling\\stationarity_report.py:35: InterpolationWarning: The test statistic is outside of the range of p-values available in the\n",
      "look-up table. The actual p-value is smaller than the p-value returned.\n",
      "\n",
      "  kpss_stat, kpss_p, *_ = kpss(s, regression=kpss_regression, nlags=kpss_nlags)\n",
      "C:\\Users\\PC\\Desktop\\Masterarbeit\\AI_narrative_index\\src\\modelling\\stationarity_report.py:35: InterpolationWarning: The test statistic is outside of the range of p-values available in the\n",
      "look-up table. The actual p-value is greater than the p-value returned.\n",
      "\n",
      "  kpss_stat, kpss_p, *_ = kpss(s, regression=kpss_regression, nlags=kpss_nlags)\n",
      "C:\\Users\\PC\\Desktop\\Masterarbeit\\AI_narrative_index\\src\\modelling\\stationarity_report.py:35: InterpolationWarning: The test statistic is outside of the range of p-values available in the\n",
      "look-up table. The actual p-value is greater than the p-value returned.\n",
      "\n",
      "  kpss_stat, kpss_p, *_ = kpss(s, regression=kpss_regression, nlags=kpss_nlags)\n",
      "C:\\Users\\PC\\Desktop\\Masterarbeit\\AI_narrative_index\\src\\modelling\\stationarity_report.py:35: InterpolationWarning: The test statistic is outside of the range of p-values available in the\n",
      "look-up table. The actual p-value is greater than the p-value returned.\n",
      "\n",
      "  kpss_stat, kpss_p, *_ = kpss(s, regression=kpss_regression, nlags=kpss_nlags)\n",
      "C:\\Users\\PC\\Desktop\\Masterarbeit\\AI_narrative_index\\src\\modelling\\stationarity_report.py:35: InterpolationWarning: The test statistic is outside of the range of p-values available in the\n",
      "look-up table. The actual p-value is greater than the p-value returned.\n",
      "\n",
      "  kpss_stat, kpss_p, *_ = kpss(s, regression=kpss_regression, nlags=kpss_nlags)\n",
      "C:\\Users\\PC\\Desktop\\Masterarbeit\\AI_narrative_index\\src\\modelling\\stationarity_report.py:35: InterpolationWarning: The test statistic is outside of the range of p-values available in the\n",
      "look-up table. The actual p-value is smaller than the p-value returned.\n",
      "\n",
      "  kpss_stat, kpss_p, *_ = kpss(s, regression=kpss_regression, nlags=kpss_nlags)\n",
      "C:\\Users\\PC\\Desktop\\Masterarbeit\\AI_narrative_index\\src\\modelling\\stationarity_report.py:35: InterpolationWarning: The test statistic is outside of the range of p-values available in the\n",
      "look-up table. The actual p-value is greater than the p-value returned.\n",
      "\n",
      "  kpss_stat, kpss_p, *_ = kpss(s, regression=kpss_regression, nlags=kpss_nlags)\n",
      "C:\\Users\\PC\\Desktop\\Masterarbeit\\AI_narrative_index\\src\\modelling\\stationarity_report.py:35: InterpolationWarning: The test statistic is outside of the range of p-values available in the\n",
      "look-up table. The actual p-value is greater than the p-value returned.\n",
      "\n",
      "  kpss_stat, kpss_p, *_ = kpss(s, regression=kpss_regression, nlags=kpss_nlags)\n"
     ]
    }
   ],
   "source": [
    "combined = build_stationarity_html(\n",
    "    df=test_all,  # tidy df with Date, Measure, Value\n",
    "    output_html= root / \"reports/tables/stationarity_all_measures.html\",\n",
    "    save_combined_csv= root /\"data/processed/variables/stationarity_all_measures.csv\",\n",
    "    save_combined_tex= root /\"reports/tables/stationarity_all_measures.tex\",\n",
    ")\n"
   ]
  },
  {
   "cell_type": "code",
   "execution_count": 7,
   "id": "c02af235",
   "metadata": {},
   "outputs": [
    {
     "name": "stderr",
     "output_type": "stream",
     "text": [
      "C:\\Users\\PC\\AppData\\Local\\Temp\\ipykernel_20260\\1117399972.py:19: InterpolationWarning: The test statistic is outside of the range of p-values available in the\n",
      "look-up table. The actual p-value is greater than the p-value returned.\n",
      "\n",
      "  kpss_stat, kpss_p, *_ = kpss(s, regression=\"c\", nlags=\"auto\")\n"
     ]
    },
    {
     "name": "stdout",
     "output_type": "stream",
     "text": [
      "ADF p=0 | PP p=0 | KPSS p=0.1\n"
     ]
    },
    {
     "data": {
      "image/png": "[encoded data removed]",
      "text/plain": [
       "<Figure size 1000x400 with 1 Axes>"
      ]
     },
     "metadata": {},
     "output_type": "display_data"
    }
   ],
   "source": [
    "import matplotlib.pyplot as plt\n",
    "import numpy as np\n",
    "import pandas as pd\n",
    "from statsmodels.tsa.stattools import adfuller, kpss\n",
    "from arch.unitroot import PhillipsPerron\n",
    "df_bin = test_all.copy()\n",
    "## === 1. Select your series ===\n",
    "col = \"binary_EMA_02\"\n",
    "df_bin = df_bin.sort_values(\"Date\")\n",
    "\n",
    "# === 2. Compute rolling mean ===\n",
    "df_bin[\"rolling_mean\"] = df_bin[\"Value\"].rolling(window=40, min_periods=20, center=True).mean()\n",
    "\n",
    "# === 3. Run tests for the full sample ===\n",
    "s = df_bin[\"Value\"].astype(float).dropna()\n",
    "adf_stat, adf_p, *_ = adfuller(s, autolag=\"AIC\")\n",
    "pp = PhillipsPerron(s)\n",
    "pp_stat, pp_p = pp.stat, pp.pvalue\n",
    "kpss_stat, kpss_p, *_ = kpss(s, regression=\"c\", nlags=\"auto\")\n",
    "\n",
    "print(f\"ADF p={adf_p:.3g} | PP p={pp_p:.3g} | KPSS p={kpss_p:.3g}\")\n",
    "\n",
    "# === 4. Plot ===\n",
    "fig, ax = plt.subplots(figsize=(10,4))\n",
    "#ax.plot(df_bin[\"Date\"], df_bin[\"Value\"], lw=0.7, label=\"Binary AINI (0/1)\", alpha=0.8)\n",
    "ax.plot(df_bin[\"Date\"], df_bin[\"rolling_mean\"], color=\"red\", lw=1.5, label=\"60-day rolling mean\")\n",
    "\n",
    "# highlight subperiods (2023–24 break)\n",
    "ax.axvline(pd.Timestamp(\"2024-01-01\"), color=\"grey\", ls=\"--\", lw=1)\n",
    "ax.text(pd.Timestamp(\"2024-02-01\"), 0.9, \"2024 regime shift?\", color=\"grey\", fontsize=9)\n",
    "\n",
    "ax.set(\n",
    "    title=f\"{col} — Binary AINI Regime Dynamics\\n\"\n",
    "          f\"ADF p={adf_p:.3g} | PP p={pp_p:.3g} | KPSS p={kpss_p:.3g}\",\n",
    "    xlabel=\"Date\",\n",
    "    ylabel=\"Value (0/1)\"\n",
    ")\n",
    "ax.legend()\n",
    "ax.grid(alpha=0.3)\n",
    "plt.tight_layout()\n",
    "plt.show()"
   ]
  }
 ],
 "metadata": {
  "kernelspec": {
   "display_name": ".venv",
   "language": "python",
   "name": "python3"
  },
  "language_info": {
   "codemirror_mode": {
    "name": "ipython",
    "version": 3
   },
   "file_extension": ".py",
   "mimetype": "text/x-python",
   "name": "python",
   "nbconvert_exporter": "python",
   "pygments_lexer": "ipython3",
   "version": "3.10.0"
  }
 },
 "nbformat": 4,
 "nbformat_minor": 5
}
