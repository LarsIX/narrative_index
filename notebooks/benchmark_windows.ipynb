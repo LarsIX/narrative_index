{
 "cells": [
  {
   "cell_type": "code",
   "execution_count": 2,
   "id": "bfbffa9e",
   "metadata": {},
   "outputs": [],
   "source": [
    "import pandas as pd\n",
    "import numpy as np\n",
    "from pathlib import Path\n",
    "import sys\n",
    "\n",
    "# Determine the project root\n",
    "current_path = Path().resolve()\n",
    "project_root = current_path.parents[0]  \n",
    "\n",
    "# Define data path\n",
    "data_path = project_root / \"src\" / \"annotation\"\n",
    "flagging_path = project_root / \"src\" / \"preprocessing\"\n",
    "cleaning_path = project_root / \"src\" / \"cleaning\"\n"
   ]
  },
  {
   "cell_type": "code",
   "execution_count": 3,
   "id": "f93477e6",
   "metadata": {},
   "outputs": [],
   "source": [
    "# Determine the project root\n",
    "current_path = Path().resolve()\n",
    "project_root = current_path.parents[0]  \n",
    "\n",
    "# Define data path\n",
    "data_path = project_root / \"data\" / \"processed\" / \"articles\"\n",
    "\n",
    "# load naively labeled data\n",
    "data = pd.read_csv(data_path / \"naive_AI_labels_2024.csv\")"
   ]
  },
  {
   "cell_type": "code",
   "execution_count": null,
   "id": "ed03f4a8",
   "metadata": {},
   "outputs": [
    {
     "name": "stdout",
     "output_type": "stream",
     "text": [
      "   article_id                                              title  \\\n",
      "0       28537  Apple iPhone Sales Slump in China Amid Huawei’...   \n",
      "1       31336  AI Is Helping Scammers Outsmart You—and Your Bank   \n",
      "2       29569  Alibaba Cloud Trims Prices for International C...   \n",
      "3       18063  Nvidia to Replace Intel in Dow Jones Industria...   \n",
      "4       29872  The Man Whose Musings Fuel Elon Musk’s Nightmares   \n",
      "\n",
      "                                           sub_title  \\\n",
      "0  Huawei’s sales were helped by the successful l...   \n",
      "1  Your ‘spidey sense’ is no match for the new wa...   \n",
      "2  Alibaba Cloud said the cuts were aligned with ...   \n",
      "3  The swap reflects their reversal of fortunes w...   \n",
      "4  A marketing professor in Canada has formed a b...   \n",
      "\n",
      "                                      cleaned_corpus  label_ai_related  \\\n",
      "0  April 23, 651 am. ET 2 min smartphone sales in...                 1   \n",
      "1  ILLUSTRATION. MARK. HARRIS,. ISTOCK 7. June 22...                 1   \n",
      "2  Alibaba. Cloud said the cuts were aligned with...                 1   \n",
      "3  The latest news analysis. MARKETS. FINANCE. Nv...                 1   \n",
      "4  The. Man. Whose. Musings. Fuel. Elon. Musk's. ...                 0   \n",
      "\n",
      "   hype_level  modified  hype_level_change  index_id scanned_time corpus  \\\n",
      "0         1.0       0.0                NaN       NaN          NaN    NaN   \n",
      "1         2.0       0.0                NaN       NaN          NaN    NaN   \n",
      "2         1.0       0.0                NaN       NaN          NaN    NaN   \n",
      "3         0.0       0.0                NaN       NaN          NaN    NaN   \n",
      "4         0.0       0.0                NaN       NaN          NaN    NaN   \n",
      "\n",
      "  section date  about_ai  \n",
      "0     NaN  NaN         0  \n",
      "1     NaN  NaN         1  \n",
      "2     NaN  NaN         0  \n",
      "3     NaN  NaN         0  \n",
      "4     NaN  NaN         0  \n"
     ]
    }
   ],
   "source": [
    "# verify load\n",
    "print(data.head())"
   ]
  },
  {
   "cell_type": "code",
   "execution_count": 5,
   "id": "b18e9e0b",
   "metadata": {},
   "outputs": [],
   "source": [
    "# transform hype level\n",
    "data[\"hype_level\"] = data[\"hype_level\"].isin([1, 2]).astype(int)\n",
    "\n",
    "# ensure datatype in label collumn\n",
    "data[\"label_ai_related\"] = data[\"label_ai_related\"].astype(int) "
   ]
  },
  {
   "cell_type": "code",
   "execution_count": 6,
   "id": "5cbf0d86",
   "metadata": {},
   "outputs": [
    {
     "data": {
      "text/plain": [
       "0.9921414538310412"
      ]
     },
     "execution_count": 6,
     "metadata": {},
     "output_type": "execute_result"
    }
   ],
   "source": [
    "(data[\"hype_level\"] == data[\"label_ai_related\"]).mean()\n"
   ]
  }
 ],
 "metadata": {
  "kernelspec": {
   "display_name": ".venv",
   "language": "python",
   "name": "python3"
  },
  "language_info": {
   "codemirror_mode": {
    "name": "ipython",
    "version": 3
   },
   "file_extension": ".py",
   "mimetype": "text/x-python",
   "name": "python",
   "nbconvert_exporter": "python",
   "pygments_lexer": "ipython3",
   "version": "3.10.0"
  }
 },
 "nbformat": 4,
 "nbformat_minor": 5
}
