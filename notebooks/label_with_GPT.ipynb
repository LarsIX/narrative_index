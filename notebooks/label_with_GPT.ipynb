{
 "cells": [
  {
   "cell_type": "code",
   "execution_count": null,
   "id": "f5f2bce0",
   "metadata": {},
   "outputs": [],
   "source": [
    "import openai\n",
    "import langchain as lc\n",
    "import os\n",
    "from pathlib import Path\n",
    "import sys\n",
    "from langchain_core.prompts import ChatPromptTemplate\n",
    "\n",
    "# find project root\n",
    "root = Path().resolve().parent\n",
    "\n",
    "# find annotation path\n",
    "ann_path = root / \"src\" / \"annotation\"\n",
    "\n",
    "# append to system\n",
    "sys.path.append(str(ann_path))\n",
    "\n",
    "# load custom prompting function\n",
    "from prompt_GPT import prompt_articles"
   ]
  },
  {
   "cell_type": "code",
   "execution_count": null,
   "id": "f87fd3cf",
   "metadata": {},
   "outputs": [],
   "source": [
    "# prepare prompts\n",
    "h1 = \"\"\"Given the following newspaper article, is it relevant for identifying sentiment around artificial intelligence in financial markets?\n",
    "\n",
    "ARTICLE:\n",
    "Nvidia stock surges after unveiling new AI chips tailored for large language models in trading and portfolio management.\n",
    "\"\"\"\n",
    "\n",
    "h2 = \"\"\"Given the following newspaper article, is it relevant for identifying sentiment around artificial intelligence in financial markets?\n",
    "\n",
    "ARTICLE:\n",
    "The European Central Bank kept interest rates steady as inflation continues to decline across the eurozone.\n",
    "\"\"\"\n",
    "\n",
    "template_1 = ChatPromptTemplate.from_messages([\n",
    "    # SYSTEM INSTRUCTION\n",
    "    (\"system\", \n",
    "     \"\"\"You are a financial markets expert with deep understanding of investor psychology and macroeconomic dynamics.\n",
    "\n",
    "Your task is to assess whether a newspaper article is relevant for identifying sentiment or hype around artificial intelligence in financial markets.\n",
    "\n",
    "Return only one of the following JSON responses — and nothing else:\n",
    "\n",
    "{\"label\": \"Yes\"}  \n",
    "or  \n",
    "{\"label\": \"No\"}\n",
    "\n",
    "Respond in this exact format:\n",
    "{format_instructions}\n",
    "\"\"\"),\n",
    "\n",
    "    # FEW-SHOT EXAMPLE 1\n",
    "    (\"human\", \n",
    "     h1) ,\n",
    "    (\"ai\", '{\"label\": \"Yes\"}'),\n",
    "\n",
    "    # FEW-SHOT EXAMPLE 2\n",
    "    (\"human\", \n",
    "     h2),\n",
    "    (\"ai\", '{\"label\": \"No\"}'),\n",
    "\n",
    "    # ACTUAL RUNTIME INPUT\n",
    "    (\"human\", \n",
    "     \"\"\"Given the following newspaper article, is it relevant for identifying sentiment around artificial intelligence in financial markets?\n",
    "\n",
    "ARTICLE:\n",
    "{article}\n",
    "\"\"\")\n",
    "])\n"
   ]
  },
  {
   "cell_type": "code",
   "execution_count": null,
   "id": "04828a01",
   "metadata": {},
   "outputs": [],
   "source": [
    "# call function \n",
    "call_1 = prompt_articles(ver = 1,\n",
    "    message_list = articles,\n",
    "    template = template_1,\n",
    "    output_type= \"pydantic\",\n",
    "    model_name = \"gpt-4\",\n",
    "    temperature = 0.2,\n",
    ")"
   ]
  }
 ],
 "metadata": {
  "kernelspec": {
   "display_name": ".venv",
   "language": "python",
   "name": "python3"
  },
  "language_info": {
   "codemirror_mode": {
    "name": "ipython",
    "version": 3
   },
   "file_extension": ".py",
   "mimetype": "text/x-python",
   "name": "python",
   "nbconvert_exporter": "python",
   "pygments_lexer": "ipython3",
   "version": "3.10.0"
  }
 },
 "nbformat": 4,
 "nbformat_minor": 5
}
