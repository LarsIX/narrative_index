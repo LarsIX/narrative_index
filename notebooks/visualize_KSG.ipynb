{
 "cells": [
  {
   "cell_type": "markdown",
   "id": "cefd7bd5",
   "metadata": {},
   "source": [
    "Notebook to demonstrate the key idea of the KSG estimator visually."
   ]
  },
  {
   "cell_type": "code",
   "execution_count": null,
   "id": "ea873943",
   "metadata": {},
   "outputs": [],
   "source": [
    "\n",
    "import numpy as np\n",
    "import matplotlib.pyplot as plt\n",
    "from sklearn.neighbors import NearestNeighbors\n"
   ]
  },
  {
   "cell_type": "code",
   "execution_count": null,
   "id": "1c65b4d9",
   "metadata": {},
   "outputs": [],
   "source": [
    "# Generate synthetic dependent data\n",
    "np.random.seed(1)\n",
    "N = 300\n",
    "k = 4\n",
    "x = np.random.rand(N, 1)\n",
    "y = np.sin(2 * np.pi * x) + 0.1 * np.random.randn(N, 1)\n",
    "data = np.hstack([x, y])\n",
    "\n",
    "# Choose a point and find k-th neighbor in joint space\n",
    "idx = 50\n",
    "nbrs = NearestNeighbors(n_neighbors=k + 1, metric='chebyshev').fit(data)\n",
    "distances, _ = nbrs.kneighbors(data)\n",
    "eps = distances[idx, -1]\n",
    "\n",
    "# Create plot\n",
    "fig, ax = plt.subplots(figsize=(8, 6))\n",
    "ax.scatter(x, y, alpha=0.3, label=\"All points\")\n",
    "ax.scatter(x[idx], y[idx], color=\"red\", label=\"Query point\")\n",
    "\n",
    "# Joint ε-box (square)\n",
    "ax.add_patch(plt.Rectangle(\n",
    "    (x[idx] - eps, y[idx] - eps),\n",
    "    2 * eps, 2 * eps,\n",
    "    edgecolor=\"red\", fill=False, linewidth=2, linestyle='--', label=\"Joint ε-box\"\n",
    "))\n",
    "\n",
    "# Marginal X-strip (vertical)\n",
    "ax.axvline(x[idx] - eps, color='blue', linestyle='--', linewidth=1)\n",
    "ax.axvline(x[idx] + eps, color='blue', linestyle='--', linewidth=1)\n",
    "ax.fill_betweenx([y.min(), y.max()], x[idx] - eps, x[idx] + eps, color='blue', alpha=0.1, label=\"X marginal strip\")\n",
    "\n",
    "# Marginal Y-strip (horizontal)\n",
    "ax.axhline(y[idx] - eps, color='green', linestyle='--', linewidth=1)\n",
    "ax.axhline(y[idx] + eps, color='green', linestyle='--', linewidth=1)\n",
    "ax.fill_between(x.flatten(), y[idx] - eps, y[idx] + eps, color='green', alpha=0.1, label=\"Y marginal strip\")\n",
    "\n",
    "ax.set_title(\"KSG Marginal Counts vs Joint Neighborhood\")\n",
    "ax.set_xlabel(\"X\")\n",
    "ax.set_ylabel(\"Y\")\n",
    "ax.legend()\n",
    "ax.grid(True)\n",
    "plt.tight_layout()\n",
    "plt.show()\n"
   ]
  }
 ],
 "metadata": {
  "language_info": {
   "name": "python"
  }
 },
 "nbformat": 4,
 "nbformat_minor": 5
}
