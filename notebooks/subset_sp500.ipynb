{
 "cells": [
  {
   "cell_type": "code",
   "execution_count": null,
   "id": "83c58439",
   "metadata": {},
   "outputs": [],
   "source": [
    "import pandas as pd\n",
    "from pathlib import Path\n",
    "import numpy as np"
   ]
  },
  {
   "cell_type": "code",
   "execution_count": null,
   "id": "20542e2a",
   "metadata": {},
   "outputs": [],
   "source": [
    "# find root \n",
    "root = Path.cwd().parent\n",
    "\n",
    "# build path to VIX data\n",
    "vix_path = root / \"data\" / \"external\" / \"VIX_History.csv\"\n",
    "gspc_path = root / \"data\" / \"raw\" / \"^GSPC_full_2023_2025.csv\" # S&P 500\n",
    "\n",
    "# load data\n",
    "vix_df = pd.read_csv(vix_path)\n",
    "sp_df = pd.read_csv(gspc_path)"
   ]
  },
  {
   "cell_type": "markdown",
   "id": "d925d258",
   "metadata": {},
   "source": [
    "Subset VIX"
   ]
  },
  {
   "cell_type": "code",
   "execution_count": null,
   "id": "047e274b",
   "metadata": {},
   "outputs": [],
   "source": [
    "# inspect data\n",
    "vix_df.head()"
   ]
  },
  {
   "cell_type": "code",
   "execution_count": null,
   "id": "7c479b61",
   "metadata": {},
   "outputs": [],
   "source": [
    "# convert to datetime\n",
    "vix_df[\"date\"] = pd.to_datetime(vix_df[\"DATE\"], format=\"%m/%d/%Y\")\n",
    "\n",
    "# Convert as string\n",
    "vix_df[\"date\"] = vix_df[\"date\"].dt.strftime(\"%Y-%m-%d\")\n",
    "\n",
    "# verify\n",
    "vix_df[\"date\"].head()"
   ]
  },
  {
   "cell_type": "code",
   "execution_count": null,
   "id": "2e413e93",
   "metadata": {},
   "outputs": [],
   "source": [
    "# drop all but close\n",
    "drop_col = [\"OPEN\",\"HIGH\",\"LOW\",\"DATE\"]\n",
    "\n",
    "# drop cols\n",
    "vix_df_sub = vix_df.drop(drop_col,axis=1)\n",
    "\n",
    "# subset for April 2023 - July 2025\n",
    "vix_df_sub = vix_df_sub[(vix_df_sub[\"date\"] >= \"2023-04-01\") & (vix_df_sub[\"date\"] < \"2025-06-16\")] "
   ]
  },
  {
   "cell_type": "code",
   "execution_count": null,
   "id": "d82ecc57",
   "metadata": {},
   "outputs": [],
   "source": [
    "# calc log growth\n",
    "vix_df_sub[\"log_growth_closed\"] = np.log(vix_df_sub[\"CLOSE\"]) - np.log(vix_df_sub[\"CLOSE\"].shift(1))\n",
    "\n",
    "# verify\n",
    "vix_df_sub.head()"
   ]
  },
  {
   "cell_type": "code",
   "execution_count": null,
   "id": "59d362a8",
   "metadata": {},
   "outputs": [],
   "source": [
    "# define output path\n",
    "out_path = root / \"data\" / \"processed\" / \"variables\" / \"log_growth_VIX.csv\"\n",
    "\n",
    "# write to out_path\n",
    "vix_df_sub.to_csv(out_path, index=False)"
   ]
  },
  {
   "cell_type": "markdown",
   "id": "ecf590b9",
   "metadata": {},
   "source": [
    "Subset S&P 500"
   ]
  },
  {
   "cell_type": "code",
   "execution_count": null,
   "id": "12414508",
   "metadata": {},
   "outputs": [],
   "source": [
    "# convert to datetime\n",
    "sp_df[\"date\"] = pd.to_datetime(sp_df[\"DATE\"], format=\"%m/%d/%Y\")\n",
    "\n",
    "# Convert as string\n",
    "sp_df[\"date\"] = sp_df[\"date\"].dt.strftime(\"%Y-%m-%d\")\n",
    "\n",
    "# verify\n",
    "sp_df.head()"
   ]
  },
  {
   "cell_type": "code",
   "execution_count": null,
   "id": "b6b8c79d",
   "metadata": {},
   "outputs": [],
   "source": [
    "# drop all but close\n",
    "drop_col = [\"OPEN\",\"HIGH\",\"LOW\",\"DATE\"] # as above\n",
    "\n",
    "# drop cols\n",
    "sp_df_sub = sp_df.drop(drop_col,axis=1)\n",
    "\n",
    "# subset for April 2023 - July 2025\n",
    "sp_df_sub = sp_df_sub[(sp_df_sub[\"date\"] >= \"2023-04-01\") & (sp_df_sub[\"date\"] < \"2025-06-16\")] \n",
    "\n",
    "# calc log growth\n",
    "sp_df_sub[\"log_growth_closed\"] = np.log(vix_df_sub[\"CLOSE\"]) - np.log(vix_df_sub[\"CLOSE\"].shift(1))\n",
    "\n",
    "# verify\n",
    "sp_df_sub.head()"
   ]
  },
  {
   "cell_type": "code",
   "execution_count": null,
   "id": "1f4a4b48",
   "metadata": {},
   "outputs": [],
   "source": [
    "# define output path\n",
    "sp_out_path = root / \"data\" / \"processed\" / \"variables\" / \"log_growth_sp500.csv\"\n",
    "\n",
    "# write to out_path\n",
    "sp_df_sub.to_csv(out_path, index=False)"
   ]
  },
  {
   "cell_type": "markdown",
   "id": "502fd78e",
   "metadata": {},
   "source": []
  }
 ],
 "metadata": {
  "kernelspec": {
   "display_name": "Python (AI venv)",
   "language": "python",
   "name": "ai_venv"
  },
  "language_info": {
   "codemirror_mode": {
    "name": "ipython",
    "version": 3
   },
   "file_extension": ".py",
   "mimetype": "text/x-python",
   "name": "python",
   "nbconvert_exporter": "python",
   "pygments_lexer": "ipython3",
   "version": "3.10.0"
  }
 },
 "nbformat": 4,
 "nbformat_minor": 5
}
