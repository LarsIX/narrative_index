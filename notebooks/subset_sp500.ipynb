{
 "cells": [
  {
   "cell_type": "code",
   "execution_count": 2,
   "id": "83c58439",
   "metadata": {},
   "outputs": [],
   "source": [
    "import pandas as pd\n",
    "from pathlib import Path\n",
    "import numpy as np"
   ]
  },
  {
   "cell_type": "code",
   "execution_count": 4,
   "id": "20542e2a",
   "metadata": {},
   "outputs": [],
   "source": [
    "# find root \n",
    "root = Path.cwd().parent\n",
    "\n",
    "# build path to VIX data\n",
    "vix_path = root / \"data\" / \"external\" / \"VIX_History.csv\"\n",
    "gspc_path = root / \"data\" / \"raw\" / \"financial\" / \"^GSPC_full_2023_2025.csv\" # S&P 500\n",
    "sox_path = root / \"data\" / \"raw\" / \"financial\" / \"^SOX_full_2023_2025.csv\"\n",
    "\n",
    "# load data\n",
    "vix_df = pd.read_csv(vix_path)\n",
    "sp_df = pd.read_csv(gspc_path)"
   ]
  },
  {
   "cell_type": "markdown",
   "id": "d925d258",
   "metadata": {},
   "source": [
    "Subset VIX"
   ]
  },
  {
   "cell_type": "code",
   "execution_count": null,
   "id": "047e274b",
   "metadata": {},
   "outputs": [],
   "source": [
    "# inspect data\n",
    "vix_df.head()"
   ]
  },
  {
   "cell_type": "code",
   "execution_count": null,
   "id": "7c479b61",
   "metadata": {},
   "outputs": [],
   "source": [
    "# convert to datetime\n",
    "vix_df[\"date\"] = pd.to_datetime(vix_df[\"DATE\"], format=\"%m/%d/%Y\")\n",
    "\n",
    "# Convert as string\n",
    "vix_df[\"date\"] = vix_df[\"date\"].dt.strftime(\"%Y-%m-%d\")\n",
    "\n",
    "# verify\n",
    "vix_df[\"date\"].head()"
   ]
  },
  {
   "cell_type": "code",
   "execution_count": null,
   "id": "2e413e93",
   "metadata": {},
   "outputs": [],
   "source": [
    "# drop all but close\n",
    "drop_col = [\"OPEN\",\"HIGH\",\"LOW\",\"DATE\"]\n",
    "\n",
    "# drop cols\n",
    "vix_df_sub = vix_df.drop(drop_col,axis=1)\n",
    "\n",
    "# subset for April 2023 - July 2025\n",
    "vix_df_sub = vix_df_sub[(vix_df_sub[\"date\"] >= \"2023-04-01\") & (vix_df_sub[\"date\"] < \"2025-06-16\")] "
   ]
  },
  {
   "cell_type": "code",
   "execution_count": null,
   "id": "d82ecc57",
   "metadata": {},
   "outputs": [],
   "source": [
    "# calc log growth\n",
    "vix_df_sub[\"log_growth_closed\"] = np.log(vix_df_sub[\"CLOSE\"]) - np.log(vix_df_sub[\"CLOSE\"].shift(1))\n",
    "\n",
    "# verify\n",
    "vix_df_sub.head()"
   ]
  },
  {
   "cell_type": "code",
   "execution_count": null,
   "id": "59d362a8",
   "metadata": {},
   "outputs": [],
   "source": [
    "# define output path\n",
    "out_path = root / \"data\" / \"processed\" / \"variables\" / \"log_growth_VIX.csv\"\n",
    "\n",
    "# write to out_path\n",
    "vix_df_sub.to_csv(out_path, index=False)"
   ]
  },
  {
   "cell_type": "markdown",
   "id": "ecf590b9",
   "metadata": {},
   "source": [
    "Subset S&P 500"
   ]
  },
  {
   "cell_type": "code",
   "execution_count": null,
   "id": "12414508",
   "metadata": {},
   "outputs": [],
   "source": [
    "# convert to datetime\n",
    "sp_df[\"date\"] = pd.to_datetime(sp_df[\"DATE\"], format=\"%m/%d/%Y\")\n",
    "\n",
    "# Convert as string\n",
    "sp_df[\"date\"] = sp_df[\"date\"].dt.strftime(\"%Y-%m-%d\")\n",
    "\n",
    "# verify\n",
    "sp_df.head()"
   ]
  },
  {
   "cell_type": "code",
   "execution_count": null,
   "id": "b6b8c79d",
   "metadata": {},
   "outputs": [],
   "source": [
    "# drop all but close\n",
    "drop_col = [\"OPEN\",\"HIGH\",\"LOW\",\"DATE\"] # as above\n",
    "\n",
    "# drop cols\n",
    "sp_df_sub = sp_df.drop(drop_col,axis=1)\n",
    "\n",
    "# subset for April 2023 - July 2025\n",
    "sp_df_sub = sp_df_sub[(sp_df_sub[\"date\"] >= \"2023-04-01\") & (sp_df_sub[\"date\"] < \"2025-06-16\")] \n",
    "\n",
    "# calc log growth\n",
    "sp_df_sub[\"log_growth_closed\"] = np.log(vix_df_sub[\"CLOSE\"]) - np.log(vix_df_sub[\"CLOSE\"].shift(1))\n",
    "\n",
    "# verify\n",
    "sp_df_sub.head()"
   ]
  },
  {
   "cell_type": "code",
   "execution_count": null,
   "id": "1f4a4b48",
   "metadata": {},
   "outputs": [],
   "source": [
    "# define output path\n",
    "sp_out_path = root / \"data\" / \"processed\" / \"variables\" / \"log_growth_sp500.csv\"\n",
    "\n",
    "# write to out_path\n",
    "sp_df_sub.to_csv(out_path, index=False)"
   ]
  },
  {
   "cell_type": "markdown",
   "id": "d2aca13f",
   "metadata": {},
   "source": [
    "Subset ^SOX_full_2023_2025"
   ]
  },
  {
   "cell_type": "code",
   "execution_count": null,
   "id": "b55e0e4f",
   "metadata": {},
   "outputs": [],
   "source": [
    "sox_df = pd.read_csv(sox_path)\n",
    "sox_df"
   ]
  },
  {
   "cell_type": "code",
   "execution_count": null,
   "id": "a3dc3180",
   "metadata": {},
   "outputs": [],
   "source": []
  },
  {
   "cell_type": "code",
   "execution_count": 9,
   "id": "48cc4670",
   "metadata": {},
   "outputs": [
    {
     "data": {
      "text/plain": [
       "Index(['Date', 'Open', 'High', 'Low', 'Close', 'Adj Close', 'Volume', 'date'], dtype='object')"
      ]
     },
     "execution_count": 9,
     "metadata": {},
     "output_type": "execute_result"
    }
   ],
   "source": [
    "# convert to datetime\n",
    "sox_df[\"date\"] = pd.to_datetime(sox_df[\"Date\"])\n",
    "\n",
    "# Convert as string\n",
    "sox_df[\"date\"] = sox_df[\"date\"].dt.strftime(\"%Y-%m-%d\")\n",
    "\n",
    "# verify\n",
    "sox_df.columns"
   ]
  },
  {
   "cell_type": "code",
   "execution_count": 10,
   "id": "fe9ea8fa",
   "metadata": {},
   "outputs": [
    {
     "data": {
      "application/vnd.microsoft.datawrangler.viewer.v0+json": {
       "columns": [
        {
         "name": "index",
         "rawType": "int64",
         "type": "integer"
        },
        {
         "name": "date",
         "rawType": "object",
         "type": "string"
        },
        {
         "name": "Adj Close",
         "rawType": "float64",
         "type": "float"
        },
        {
         "name": "log_growth_closed",
         "rawType": "float64",
         "type": "float"
        }
       ],
       "ref": "1acd7e61-a7ba-4d48-a912-d6ae43ba70f3",
       "rows": [
        [
         "0",
         "2023-04-03",
         "3200.429931640625",
         null
        ],
        [
         "1",
         "2023-04-04",
         "3142.5",
         "-0.018266492936469092"
        ],
        [
         "2",
         "2023-04-05",
         "3085.97998046875",
         "-0.018149394772724037"
        ],
        [
         "3",
         "2023-04-06",
         "3071.77001953125",
         "-0.004615317660359608"
        ],
        [
         "4",
         "2023-04-10",
         "3126.969970703125",
         "0.01781052615147871"
        ]
       ],
       "shape": {
        "columns": 3,
        "rows": 5
       }
      },
      "text/html": [
       "<div>\n",
       "<style scoped>\n",
       "    .dataframe tbody tr th:only-of-type {\n",
       "        vertical-align: middle;\n",
       "    }\n",
       "\n",
       "    .dataframe tbody tr th {\n",
       "        vertical-align: top;\n",
       "    }\n",
       "\n",
       "    .dataframe thead th {\n",
       "        text-align: right;\n",
       "    }\n",
       "</style>\n",
       "<table border=\"1\" class=\"dataframe\">\n",
       "  <thead>\n",
       "    <tr style=\"text-align: right;\">\n",
       "      <th></th>\n",
       "      <th>date</th>\n",
       "      <th>Adj Close</th>\n",
       "      <th>log_growth_closed</th>\n",
       "    </tr>\n",
       "  </thead>\n",
       "  <tbody>\n",
       "    <tr>\n",
       "      <th>0</th>\n",
       "      <td>2023-04-03</td>\n",
       "      <td>3200.429932</td>\n",
       "      <td>NaN</td>\n",
       "    </tr>\n",
       "    <tr>\n",
       "      <th>1</th>\n",
       "      <td>2023-04-04</td>\n",
       "      <td>3142.500000</td>\n",
       "      <td>-0.018266</td>\n",
       "    </tr>\n",
       "    <tr>\n",
       "      <th>2</th>\n",
       "      <td>2023-04-05</td>\n",
       "      <td>3085.979980</td>\n",
       "      <td>-0.018149</td>\n",
       "    </tr>\n",
       "    <tr>\n",
       "      <th>3</th>\n",
       "      <td>2023-04-06</td>\n",
       "      <td>3071.770020</td>\n",
       "      <td>-0.004615</td>\n",
       "    </tr>\n",
       "    <tr>\n",
       "      <th>4</th>\n",
       "      <td>2023-04-10</td>\n",
       "      <td>3126.969971</td>\n",
       "      <td>0.017811</td>\n",
       "    </tr>\n",
       "  </tbody>\n",
       "</table>\n",
       "</div>"
      ],
      "text/plain": [
       "         date    Adj Close  log_growth_closed\n",
       "0  2023-04-03  3200.429932                NaN\n",
       "1  2023-04-04  3142.500000          -0.018266\n",
       "2  2023-04-05  3085.979980          -0.018149\n",
       "3  2023-04-06  3071.770020          -0.004615\n",
       "4  2023-04-10  3126.969971           0.017811"
      ]
     },
     "execution_count": 10,
     "metadata": {},
     "output_type": "execute_result"
    }
   ],
   "source": [
    "# drop all but close\n",
    "keep = [\"date\",\"Adj Close\"] # as above\n",
    "\n",
    "# drop cols\n",
    "sox_df_sub = sox_df[keep]\n",
    "\n",
    "# subset for April 2023 - July 2025\n",
    "sox_df_sub = sox_df_sub[(sox_df_sub[\"date\"] >= \"2023-04-01\") & (sox_df_sub[\"date\"] < \"2025-06-16\")] \n",
    "\n",
    "# calc log growth\n",
    "sox_df_sub[\"log_growth_closed\"] = np.log(sox_df_sub[\"Adj Close\"]) - np.log(sox_df_sub[\"Adj Close\"].shift(1))\n",
    "\n",
    "# verify\n",
    "sox_df_sub.head()"
   ]
  },
  {
   "cell_type": "code",
   "execution_count": 11,
   "id": "fbab45da",
   "metadata": {},
   "outputs": [],
   "source": [
    "# define output path\n",
    "sox_out_path = root / \"data\" / \"processed\" / \"variables\" / \"log_growth_sox.csv\"\n",
    "\n",
    "# write to out_path\n",
    "sox_df_sub.to_csv(sox_out_path, index=False)"
   ]
  },
  {
   "cell_type": "markdown",
   "id": "502fd78e",
   "metadata": {},
   "source": []
  }
 ],
 "metadata": {
  "kernelspec": {
   "display_name": ".venv",
   "language": "python",
   "name": "python3"
  },
  "language_info": {
   "codemirror_mode": {
    "name": "ipython",
    "version": 3
   },
   "file_extension": ".py",
   "mimetype": "text/x-python",
   "name": "python",
   "nbconvert_exporter": "python",
   "pygments_lexer": "ipython3",
   "version": "3.10.0"
  }
 },
 "nbformat": 4,
 "nbformat_minor": 5
}
