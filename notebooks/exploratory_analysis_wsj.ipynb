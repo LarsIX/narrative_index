{
 "cells": [
  {
   "cell_type": "markdown",
   "id": "ed3b69bf",
   "metadata": {},
   "source": [
    "Notebook used for initial analysis of the scraped WSJ articles."
   ]
  },
  {
   "cell_type": "code",
   "execution_count": null,
   "id": "fa9dfaa8",
   "metadata": {},
   "outputs": [],
   "source": [
    "import pandas as pd\n",
    "import numpy as np\n",
    "import os\n",
    "import sqlite3\n",
    "import re\n",
    "import seaborn as sns   \n",
    "import matplotlib.pyplot as plt\n",
    "import matplotlib.ticker as ticker\n",
    "import sys\n",
    "\n",
    "# connect to directory\n",
    "parent_dir = os.path.abspath(os.path.join(os.getcwd(), \"..\"))\n",
    "annotation_dir = os.path.join(parent_dir,\"src\",\"annotation\")\n",
    "\n",
    "if annotation_dir not in sys.path:\n",
    "    sys.path.append(annotation_dir)\n",
    "\n",
    "# import the mentions ai function\n",
    "from simple_ai_filter import flag_ai_mentions\n",
    "\n"
   ]
  },
  {
   "cell_type": "code",
   "execution_count": 1,
   "id": "7165ed94",
   "metadata": {},
   "outputs": [
    {
     "ename": "NameError",
     "evalue": "name 'os' is not defined",
     "output_type": "error",
     "traceback": [
      "\u001b[1;31m---------------------------------------------------------------------------\u001b[0m",
      "\u001b[1;31mNameError\u001b[0m                                 Traceback (most recent call last)",
      "Cell \u001b[1;32mIn[1], line 2\u001b[0m\n\u001b[0;32m      1\u001b[0m \u001b[38;5;66;03m# connect to subdirectory\u001b[39;00m\n\u001b[1;32m----> 2\u001b[0m db_path \u001b[38;5;241m=\u001b[39m \u001b[43mos\u001b[49m\u001b[38;5;241m.\u001b[39mpath\u001b[38;5;241m.\u001b[39mjoin(parent_dir, \u001b[38;5;124m\"\u001b[39m\u001b[38;5;124mdata\u001b[39m\u001b[38;5;124m\"\u001b[39m, \u001b[38;5;124m\"\u001b[39m\u001b[38;5;124mprocessed\u001b[39m\u001b[38;5;124m\"\u001b[39m, \u001b[38;5;124m\"\u001b[39m\u001b[38;5;124marticlesWSJ_clean_2024.db\u001b[39m\u001b[38;5;124m\"\u001b[39m)\n\u001b[0;32m      4\u001b[0m \u001b[38;5;66;03m# Connect to the database\u001b[39;00m\n\u001b[0;32m      5\u001b[0m conn \u001b[38;5;241m=\u001b[39m sqlite3\u001b[38;5;241m.\u001b[39mconnect(db_path)\n",
      "\u001b[1;31mNameError\u001b[0m: name 'os' is not defined"
     ]
    }
   ],
   "source": [
    "# connect to subdirectory\n",
    "db_path = os.path.join(parent_dir, \"data\", \"processed\", \"articlesWSJ_clean_2024.db\")\n",
    "\n",
    "# Connect to the database\n",
    "conn = sqlite3.connect(db_path)\n",
    "\n",
    "# explore table names\n",
    "query = \"SELECT name FROM sqlite_master WHERE type='table';\"\n",
    "table_names = pd.read_sql_query(query, conn)\n",
    "print(\"Table names in the database:\")\n",
    "print(table_names)\n",
    "\n",
    "df = pd.read_sql_query(\"SELECT * FROM article\", conn)\n",
    "conn.close()"
   ]
  },
  {
   "cell_type": "code",
   "execution_count": null,
   "id": "8213b492",
   "metadata": {},
   "outputs": [],
   "source": [
    "# perform initial analysis\n",
    "print(\"Number of rows in the DataFrame:\", len(df))\n",
    "print(\"Number of columns in the DataFrame:\", len(df.columns))   \n",
    "print(\"Columns in the DataFrame:\", df.columns.tolist())"
   ]
  },
  {
   "cell_type": "markdown",
   "id": "43f59abb",
   "metadata": {},
   "source": [
    "Flag articles which contain \"AI, A.I., artificial intelligence, machine learning, deep learning, LLM, GPT, ChatGPT, OpenAI, transformer model or generative AI\" (case-insensitive and uses word boundaries).  "
   ]
  },
  {
   "cell_type": "code",
   "execution_count": null,
   "id": "62d77fc7",
   "metadata": {},
   "outputs": [],
   "source": [
    "# check for AI-related articles using importflag_ai_mentions from mentions_ai.py\n",
    "df_labeled = flag_ai_mentions(df)"
   ]
  },
  {
   "cell_type": "markdown",
   "id": "c9c6ce66",
   "metadata": {},
   "source": [
    "Analyze distribution by section and evolution over time"
   ]
  },
  {
   "cell_type": "code",
   "execution_count": null,
   "id": "9536511d",
   "metadata": {},
   "outputs": [],
   "source": [
    "# fractioin of AI-related articles\n",
    "print(\"Fraction of AI-related articles:\", df_labeled[\"mentions_ai\"].sum() / len(df_labeled))\n",
    "\n",
    "# sections in the dataset\n",
    "sections = df_labeled[\"section\"].unique()\n",
    "print(\"Sections in the dataset:\", sections)\n",
    "\n",
    "# create list of count for each section\n",
    "section_counts = df_labeled[\"section\"].value_counts()\n",
    "print(\"Counts of articles in each section:\", section_counts)\n",
    "\n",
    "# crea a list of counts for each section by ai_relatedness\n",
    "section_ai_counts = df_labeled.groupby([\"section\", \"mentions_ai\"]).size().unstack(fill_value=0)  \n",
    "print(\"Counts of articles in each section by AI-relatedness:\", section_ai_counts)\n"
   ]
  },
  {
   "cell_type": "code",
   "execution_count": null,
   "id": "c00e0629",
   "metadata": {},
   "outputs": [],
   "source": [
    "# normalize the daily counts by total counts of the given day\n",
    "daily_counts_grouped = df_labeled.groupby([\"date\", \"mentions_ai\"]).size().unstack(fill_value=0).reset_index()\n",
    "daily_counts_grouped[\"frac_ai\"] = daily_counts_grouped[1] / (daily_counts_grouped[0] + daily_counts_grouped[1]) \n",
    "# \n",
    "print(daily_counts_grouped.head())"
   ]
  },
  {
   "cell_type": "code",
   "execution_count": null,
   "id": "96c068d0",
   "metadata": {},
   "outputs": [],
   "source": [
    "# v isualize the data using seaborn\n",
    "# Set the style of seaborn\n",
    "sns.set(style=\"whitegrid\")\n",
    "plt.figure(figsize=(12, 6)) \n",
    "\n",
    "# Create the countplot\n",
    "ax = sns.countplot(data=df_labeled, x=\"section\", hue=\"mentions_ai\", palette=[\"blue\", \"red\"])\n",
    "\n",
    "# Add bar labels\n",
    "for p in ax.patches:\n",
    "    height = p.get_height()\n",
    "    if height > 0:\n",
    "        ax.text(\n",
    "            p.get_x() + p.get_width() / 2.,  # x-position\n",
    "            height + 1,                     # y-position \n",
    "            f'n={int(height)}',             # text label\n",
    "            ha=\"center\", va=\"bottom\", fontsize=9\n",
    "        )\n",
    "\n",
    "# Final plot formatting\n",
    "plt.title(\"AI-related Articles by Section in the WSJ (2024)\")\n",
    "plt.xlabel(\"Section\")\n",
    "plt.ylabel(\"Count\")\n",
    "plt.xticks(rotation=45)\n",
    "plt.legend(title=\"AI-related\", loc=\"upper right\", labels=[\"No\", \"Yes\"])\n",
    "plt.tight_layout()\n",
    "fig_path = os.path.join(parent_dir,\"reports\",\"figures\",\"WSJ2024_AIrel_articles_by_section.png\")\n",
    "plt.savefig(fig_path, dpi=300)\n",
    "plt.show()\n"
   ]
  },
  {
   "cell_type": "code",
   "execution_count": null,
   "id": "fa21f936",
   "metadata": {},
   "outputs": [],
   "source": [
    "# Filter sections for each subplot \n",
    "left_sections = [\"finance\", \"tech\"]\n",
    "right_sections = [\"economy\", \"business\"]\n",
    "\n",
    "# Two filtered DataFrames\n",
    "left_df = weekly_section[weekly_section[\"section\"].isin(left_sections)]\n",
    "right_df = weekly_section[weekly_section[\"section\"].isin(right_sections)]\n",
    "\n",
    "#  plot configuration\n",
    "sns.set(style=\"whitegrid\")\n",
    "fig, (ax1, ax2) = plt.subplots(1, 2, figsize=(16, 6), sharey=True)\n",
    "\n",
    "# Left subplot: finance & tech\n",
    "sns.lineplot(\n",
    "    data=left_df,\n",
    "    x=\"date\", y=\"frac_ai\", hue=\"section\",\n",
    "    marker='o', ax=ax1\n",
    ")\n",
    "ax1.set_title(\"AI Share: Finance & Tech\")\n",
    "ax1.set_xlabel(\"Week\")\n",
    "ax1.set_ylabel(\"AI Article Share\")\n",
    "ax1.tick_params(axis='x', rotation=45)\n",
    "ax1.legend(title=\"Section\")\n",
    "\n",
    "# Right subplot: economy & business\n",
    "sns.lineplot(\n",
    "    data=right_df,\n",
    "    x=\"date\", y=\"frac_ai\", hue=\"section\",\n",
    "    marker='o', ax=ax2\n",
    ")\n",
    "ax2.set_title(\"AI Share: Economy & Business\")\n",
    "ax2.set_xlabel(\"Week\")\n",
    "ax2.tick_params(axis='x', rotation=45)\n",
    "ax2.legend(title=\"Section\")\n",
    "\n",
    "# Final layout\n",
    "plt.suptitle(\"Weekly Share of AI-related WSJ Articles by Section (2024)\")\n",
    "plt.tight_layout(rect=[0, 0, 1, 0.95])\n",
    "fig_path = os.path.join(parent_dir,\"reports\",\"figures\",\"WSJ_frac_ai_by_section_split.png\")\n",
    "plt.savefig(fig_path, dpi=300)\n",
    "plt.show()\n"
   ]
  },
  {
   "cell_type": "markdown",
   "id": "ea6abfd1",
   "metadata": {},
   "source": [
    "Next, the number of articles per day is analyzed"
   ]
  },
  {
   "cell_type": "code",
   "execution_count": null,
   "id": "f20dd16d",
   "metadata": {},
   "outputs": [],
   "source": [
    "# group by day and count\n",
    "daily_counts = df_labeled.groupby(df_labeled['date'].dt.date).size().reset_index(name='count')\n",
    "daily_counts['date'] = pd.to_datetime(daily_counts['date'])\n",
    "\n",
    "# Show all rows in notebook or script\n",
    "pd.set_option('display.max_rows', None)\n",
    "\n",
    "# Filter and display\n",
    "display(daily_counts[daily_counts['count'] < 25])"
   ]
  }
 ],
 "metadata": {
  "kernelspec": {
   "display_name": "Python 3",
   "language": "python",
   "name": "python3"
  },
  "language_info": {
   "codemirror_mode": {
    "name": "ipython",
    "version": 3
   },
   "file_extension": ".py",
   "mimetype": "text/x-python",
   "name": "python",
   "nbconvert_exporter": "python",
   "pygments_lexer": "ipython3",
   "version": "3.10.0"
  }
 },
 "nbformat": 4,
 "nbformat_minor": 5
}
